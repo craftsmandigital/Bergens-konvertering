{
 "cells": [
  {
   "cell_type": "markdown",
   "id": "e3844100-7f6a-453a-a125-43b4ba3b2cc8",
   "metadata": {},
   "source": [
    "# Konvertering av Bergens registeret, Person sammenkoblinger\n",
    "\n"
   ]
  },
  {
   "cell_type": "code",
   "execution_count": 1,
   "id": "e1cff615-d5dc-4b70-ba22-bda959df5ea9",
   "metadata": {},
   "outputs": [
    {
     "data": {
      "text/plain": [
       "polars.config.Config"
      ]
     },
     "execution_count": 1,
     "metadata": {},
     "output_type": "execute_result"
    }
   ],
   "source": [
    "from hentOgVaskData import hent_og_vask_data\n",
    "import polars as pl\n",
    "pl.Config.set_tbl_rows(10)"
   ]
  },
  {
   "cell_type": "code",
   "execution_count": 2,
   "id": "615f8b3d-3e71-488d-b2db-e9b9bceb9aaf",
   "metadata": {},
   "outputs": [
    {
     "name": "stderr",
     "output_type": "stream",
     "text": [
      "Could not determine dtype for column 7, falling back to string\n"
     ]
    },
    {
     "name": "stdout",
     "output_type": "stream",
     "text": [
      "Antall medlemmer i Bergens registeret --> (279, 46)\n",
      "Alle data i fra excel fil --> (599, 46)\n"
     ]
    }
   ],
   "source": [
    "'''\n",
    "1. Leser inn Data exportert i fra Bergens Access database.\n",
    "   I fra den tabellen som heter `tblInnmeldte`. Dette gjøres ved å benytte funksjonen `hent_og_vask_data()`. Denne funksjonen er også hardkodet med de som har dobbelt medlemskap mellom registerene. Disse blir satt til \"venn\" i stedet for medlem av Bergens registeret.\n",
    "'''\n",
    "\n",
    "df = hent_og_vask_data()\n",
    "# Medlems sjekk, det er viktig at dette tallet er nokså likt som rapportert in til statsforvalteren 282\n",
    "print(\"Antall medlemmer i Bergens registeret -->\", df.filter(pl.col(\"Kategori\").str.starts_with(\"M\")).shape)\n",
    "print(\"Alle data i fra excel fil -->\", df.shape)"
   ]
  },
  {
   "cell_type": "code",
   "execution_count": 45,
   "id": "9e25a6d8-fdc1-4cbd-9728-167120a95b82",
   "metadata": {},
   "outputs": [
    {
     "data": {
      "text/html": [
       "<div><style>\n",
       ".dataframe > thead > tr,\n",
       ".dataframe > tbody > tr {\n",
       "  text-align: right;\n",
       "  white-space: pre-wrap;\n",
       "}\n",
       "</style>\n",
       "<small>shape: (53, 5)</small><table border=\"1\" class=\"dataframe\"><thead><tr><th>MedlemID</th><th>FORNAVN</th><th>EFTERNAVN</th><th>Anmerkning</th><th>DødsDato</th></tr><tr><td>i64</td><td>str</td><td>str</td><td>str</td><td>str</td></tr></thead><tbody><tr><td>13033</td><td>&quot;Daisy Gunda&quot;</td><td>&quot;Akerø&quot;</td><td>null</td><td>null</td></tr><tr><td>12525</td><td>&quot;Herdis&quot;</td><td>&quot;Bauge&quot;</td><td>&quot;Døde 19.12.2012&quot;</td><td>null</td></tr><tr><td>14644</td><td>&quot;Kari Berger&quot;</td><td>&quot;Bie&quot;</td><td>null</td><td>null</td></tr><tr><td>14338</td><td>&quot;Wenche&quot;</td><td>&quot;Dobie&quot;</td><td>null</td><td>null</td></tr><tr><td>11132</td><td>&quot;Alfhild Rachlev&quot;</td><td>&quot;Dysthe&quot;</td><td>null</td><td>null</td></tr><tr><td>&hellip;</td><td>&hellip;</td><td>&hellip;</td><td>&hellip;</td><td>&hellip;</td></tr><tr><td>14563</td><td>&quot;Egil Kristian&quot;</td><td>&quot;Tynæs&quot;</td><td>null</td><td>null</td></tr><tr><td>12748</td><td>&quot;Kirsten&quot;</td><td>&quot;Tynæs&quot;</td><td>null</td><td>null</td></tr><tr><td>14690</td><td>&quot;Anni&quot;</td><td>&quot;Welzel&quot;</td><td>&quot;Meldt død av datteren Anne Des…</td><td>null</td></tr><tr><td>14480</td><td>&quot;Willy&quot;</td><td>&quot;Winther&quot;</td><td>null</td><td>null</td></tr><tr><td>15524</td><td>&quot;Jan&quot;</td><td>&quot;Åndahl&quot;</td><td>null</td><td>null</td></tr></tbody></table></div>"
      ],
      "text/plain": [
       "shape: (53, 5)\n",
       "┌──────────┬─────────────────┬───────────┬─────────────────────────────────┬──────────┐\n",
       "│ MedlemID ┆ FORNAVN         ┆ EFTERNAVN ┆ Anmerkning                      ┆ DødsDato │\n",
       "│ ---      ┆ ---             ┆ ---       ┆ ---                             ┆ ---      │\n",
       "│ i64      ┆ str             ┆ str       ┆ str                             ┆ str      │\n",
       "╞══════════╪═════════════════╪═══════════╪═════════════════════════════════╪══════════╡\n",
       "│ 13033    ┆ Daisy Gunda     ┆ Akerø     ┆ null                            ┆ null     │\n",
       "│ 12525    ┆ Herdis          ┆ Bauge     ┆ Døde 19.12.2012                 ┆ null     │\n",
       "│ 14644    ┆ Kari Berger     ┆ Bie       ┆ null                            ┆ null     │\n",
       "│ 14338    ┆ Wenche          ┆ Dobie     ┆ null                            ┆ null     │\n",
       "│ 11132    ┆ Alfhild Rachlev ┆ Dysthe    ┆ null                            ┆ null     │\n",
       "│ …        ┆ …               ┆ …         ┆ …                               ┆ …        │\n",
       "│ 14563    ┆ Egil Kristian   ┆ Tynæs     ┆ null                            ┆ null     │\n",
       "│ 12748    ┆ Kirsten         ┆ Tynæs     ┆ null                            ┆ null     │\n",
       "│ 14690    ┆ Anni            ┆ Welzel    ┆ Meldt død av datteren Anne Des… ┆ null     │\n",
       "│ 14480    ┆ Willy           ┆ Winther   ┆ null                            ┆ null     │\n",
       "│ 15524    ┆ Jan             ┆ Åndahl    ┆ null                            ┆ null     │\n",
       "└──────────┴─────────────────┴───────────┴─────────────────────────────────┴──────────┘"
      ]
     },
     "execution_count": 45,
     "metadata": {},
     "output_type": "execute_result"
    }
   ],
   "source": [
    "'''\n",
    "2. Tar livet av de døde som fortsatt er i live i konverteringen.\n",
    "   De døde har `Kategori` som er satt til \"DØD\"\n",
    "   Kolonnen `DødsDato` er ikke til mye hjelp. Det står noe i `Anmerkning` kolonnen\n",
    "   Det hele må konverteres manuel etter att de døde er tatt ut.\n",
    "   De som er umulig å finne ut av får dødsdato \"01.01.2025\"\n",
    "'''\n",
    "df_death = (\n",
    "    df\n",
    "        .filter(pl.col(\"Kategori\") == \"DØD\")\n",
    "        .select(\"MedlemID\", \"FORNAVN\", \"EFTERNAVN\",\"Anmerkning\",\n",
    "                pl.col(\"DødsDato\"))\n",
    ")\n",
    "#df_death.write_excel(\"etter_konvertering_døde.xlsx\")\n",
    "df_death\n"
   ]
  },
  {
   "cell_type": "code",
   "execution_count": 46,
   "id": "83b9c27c-8d81-48a7-ac41-b9b746bbbccd",
   "metadata": {},
   "outputs": [
    {
     "data": {
      "text/html": [
       "<div><style>\n",
       ".dataframe > thead > tr,\n",
       ".dataframe > tbody > tr {\n",
       "  text-align: right;\n",
       "  white-space: pre-wrap;\n",
       "}\n",
       "</style>\n",
       "<small>shape: (241, 4)</small><table border=\"1\" class=\"dataframe\"><thead><tr><th>MedlemID</th><th>FORNAVN</th><th>EFTERNAVN</th><th>Tag</th></tr><tr><td>i64</td><td>str</td><td>str</td><td>str</td></tr></thead><tbody><tr><td>15535</td><td>&quot;Rita&quot;</td><td>&quot;Agdal&quot;</td><td>&quot;Utsendelse&quot;</td></tr><tr><td>13033</td><td>&quot;Daisy Gunda&quot;</td><td>&quot;Akerø&quot;</td><td>&quot;Utsendelse&quot;</td></tr><tr><td>15536</td><td>&quot;Janicke&quot;</td><td>&quot;Akerø&quot;</td><td>&quot;Utsendelse&quot;</td></tr><tr><td>14800</td><td>&quot;Gry Veronica&quot;</td><td>&quot;Alsos&quot;</td><td>&quot;Utsendelse&quot;</td></tr><tr><td>14720</td><td>&quot;Fred&quot;</td><td>&quot;Amlie&quot;</td><td>&quot;Utsendelse&quot;</td></tr><tr><td>&hellip;</td><td>&hellip;</td><td>&hellip;</td><td>&hellip;</td></tr><tr><td>12747</td><td>&quot;Anne Torill&quot;</td><td>&quot;Tutturen&quot;</td><td>&quot;Utsendelse Epost&quot;</td></tr><tr><td>13839</td><td>&quot;Signe Elisabet&quot;</td><td>&quot;Tynæs&quot;</td><td>&quot;Utsendelse Epost&quot;</td></tr><tr><td>13621</td><td>&quot;Marielle&quot;</td><td>&quot;Wolfe&quot;</td><td>&quot;Utsendelse Epost&quot;</td></tr><tr><td>11027</td><td>&quot;Robert Claus&quot;</td><td>&quot;Øren&quot;</td><td>&quot;Utsendelse Epost&quot;</td></tr><tr><td>13163</td><td>&quot;Hildegunn&quot;</td><td>&quot;Aadland&quot;</td><td>&quot;Utsendelse Epost&quot;</td></tr></tbody></table></div>"
      ],
      "text/plain": [
       "shape: (241, 4)\n",
       "┌──────────┬────────────────┬───────────┬──────────────────┐\n",
       "│ MedlemID ┆ FORNAVN        ┆ EFTERNAVN ┆ Tag              │\n",
       "│ ---      ┆ ---            ┆ ---       ┆ ---              │\n",
       "│ i64      ┆ str            ┆ str       ┆ str              │\n",
       "╞══════════╪════════════════╪═══════════╪══════════════════╡\n",
       "│ 15535    ┆ Rita           ┆ Agdal     ┆ Utsendelse       │\n",
       "│ 13033    ┆ Daisy Gunda    ┆ Akerø     ┆ Utsendelse       │\n",
       "│ 15536    ┆ Janicke        ┆ Akerø     ┆ Utsendelse       │\n",
       "│ 14800    ┆ Gry Veronica   ┆ Alsos     ┆ Utsendelse       │\n",
       "│ 14720    ┆ Fred           ┆ Amlie     ┆ Utsendelse       │\n",
       "│ …        ┆ …              ┆ …         ┆ …                │\n",
       "│ 12747    ┆ Anne Torill    ┆ Tutturen  ┆ Utsendelse Epost │\n",
       "│ 13839    ┆ Signe Elisabet ┆ Tynæs     ┆ Utsendelse Epost │\n",
       "│ 13621    ┆ Marielle       ┆ Wolfe     ┆ Utsendelse Epost │\n",
       "│ 11027    ┆ Robert Claus   ┆ Øren      ┆ Utsendelse Epost │\n",
       "│ 13163    ┆ Hildegunn      ┆ Aadland   ┆ Utsendelse Epost │\n",
       "└──────────┴────────────────┴───────────┴──────────────────┘"
      ]
     },
     "execution_count": 46,
     "metadata": {},
     "output_type": "execute_result"
    }
   ],
   "source": [
    "'''\n",
    "3. Etterkonvertering av de som skal ha post utsendelse.\n",
    "   Dette er gjort på tilsvarende måte som i Bergens registeret.\n",
    "   Det settes en tagg på alle som skal ha post utsendelse.\n",
    "   Dersom det skal sendes ut på epost, så må en ekstra tagg med epost legges inn\n",
    "'''\n",
    "\n",
    "df_utsendelse = pl.concat([\n",
    "    df\n",
    "        .filter(pl.col(\"Utsendelse\") == \"UB\")\n",
    "        .select(\"MedlemID\", \"FORNAVN\", \"EFTERNAVN\")\n",
    "        .with_columns(pl.lit(\"Utsendelse\").alias(\"Tag\")),\n",
    "\n",
    "    df\n",
    "        .filter(\n",
    "            #(pl.col(\"Utsendelse\") == \"UB\") &\n",
    "            (pl.col(\"Utsendelsesformat\") == \"E\")\n",
    "        )\n",
    "        .select(\"MedlemID\", \"FORNAVN\", \"EFTERNAVN\")\n",
    "        .with_columns(pl.lit(\"Utsendelse Epost\").alias(\"Tag\"))\n",
    "])\n",
    "\n",
    "df_utsendelse.write_excel(\"etter_konvertering_utsendelse.xlsx\")\n",
    "#df_utsendelse.filter(pl.col(\"Tag\") == \"Utsendelse Epost\")\n",
    "df_utsendelse"
   ]
  },
  {
   "cell_type": "code",
   "execution_count": 8,
   "id": "f2c8d85a-9530-4fb3-b1b4-9dc1f32bccb0",
   "metadata": {},
   "outputs": [
    {
     "data": {
      "text/html": [
       "<div><style>\n",
       ".dataframe > thead > tr,\n",
       ".dataframe > tbody > tr {\n",
       "  text-align: right;\n",
       "  white-space: pre-wrap;\n",
       "}\n",
       "</style>\n",
       "<small>shape: (127, 3)</small><table border=\"1\" class=\"dataframe\"><thead><tr><th>MedlemID</th><th>FORNAVN</th><th>EFTERNAVN</th></tr><tr><td>i64</td><td>str</td><td>str</td></tr></thead><tbody><tr><td>11018</td><td>&quot;Målfrid&quot;</td><td>&quot;Aukland&quot;</td></tr><tr><td>11622</td><td>&quot;Gisela&quot;</td><td>&quot;Blum-Feldhusen&quot;</td></tr><tr><td>11626</td><td>&quot;Hilde&quot;</td><td>&quot;Hjertaas&quot;</td></tr><tr><td>11656</td><td>&quot;Elisabeth Faye&quot;</td><td>&quot;Sommerfelt&quot;</td></tr><tr><td>11695</td><td>&quot;Annette Sofie&quot;</td><td>&quot;Susaas&quot;</td></tr><tr><td>&hellip;</td><td>&hellip;</td><td>&hellip;</td></tr><tr><td>15607</td><td>&quot;Per Tore&quot;</td><td>&quot;Meling&quot;</td></tr><tr><td>15608</td><td>&quot;Sabine&quot;</td><td>&quot;Eitel&quot;</td></tr><tr><td>15609</td><td>&quot;Sven&quot;</td><td>&quot;Marggraff&quot;</td></tr><tr><td>15610</td><td>&quot;Erling&quot;</td><td>&quot;Bakken&quot;</td></tr><tr><td>15615</td><td>&quot;Agnar Ståle&quot;</td><td>&quot;Naustdal&quot;</td></tr></tbody></table></div>"
      ],
      "text/plain": [
       "shape: (127, 3)\n",
       "┌──────────┬────────────────┬────────────────┐\n",
       "│ MedlemID ┆ FORNAVN        ┆ EFTERNAVN      │\n",
       "│ ---      ┆ ---            ┆ ---            │\n",
       "│ i64      ┆ str            ┆ str            │\n",
       "╞══════════╪════════════════╪════════════════╡\n",
       "│ 11018    ┆ Målfrid        ┆ Aukland        │\n",
       "│ 11622    ┆ Gisela         ┆ Blum-Feldhusen │\n",
       "│ 11626    ┆ Hilde          ┆ Hjertaas       │\n",
       "│ 11656    ┆ Elisabeth Faye ┆ Sommerfelt     │\n",
       "│ 11695    ┆ Annette Sofie  ┆ Susaas         │\n",
       "│ …        ┆ …              ┆ …              │\n",
       "│ 15607    ┆ Per Tore       ┆ Meling         │\n",
       "│ 15608    ┆ Sabine         ┆ Eitel          │\n",
       "│ 15609    ┆ Sven           ┆ Marggraff      │\n",
       "│ 15610    ┆ Erling         ┆ Bakken         │\n",
       "│ 15615    ┆ Agnar Ståle    ┆ Naustdal       │\n",
       "└──────────┴────────────────┴────────────────┘"
      ]
     },
     "execution_count": 8,
     "metadata": {},
     "output_type": "execute_result"
    }
   ],
   "source": [
    "'''\n",
    "4. Etterkonvertering av venner\n",
    "   Dette er de som har \"Kategori\" == \"V\"\n",
    "\n",
    "'''\n",
    "df_venner = (\n",
    "    df.filter(pl.col(\"Kategori\") == \"V\")\n",
    "    .select(\"MedlemID\", \"FORNAVN\", \"EFTERNAVN\")\n",
    ")\n",
    "\n",
    "df_venner.write_excel(\"etter_konvertering_venner.xlsx\")\n",
    "#df_utsendelse.filter(pl.col(\"Tag\") == \"Utsendelse Epost\")\n",
    "#df_venner"
   ]
  },
  {
   "cell_type": "markdown",
   "id": "bc964405-9b2a-4058-aaea-2b19ff7fadf7",
   "metadata": {},
   "source": []
  }
 ],
 "metadata": {
  "kernelspec": {
   "display_name": "Python 3 (ipykernel)",
   "language": "python",
   "name": "python3"
  },
  "language_info": {
   "codemirror_mode": {
    "name": "ipython",
    "version": 3
   },
   "file_extension": ".py",
   "mimetype": "text/x-python",
   "name": "python",
   "nbconvert_exporter": "python",
   "pygments_lexer": "ipython3",
   "version": "3.11.2"
  }
 },
 "nbformat": 4,
 "nbformat_minor": 5
}
