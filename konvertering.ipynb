{
 "cells": [
  {
   "cell_type": "markdown",
   "id": "e3844100-7f6a-453a-a125-43b4ba3b2cc8",
   "metadata": {},
   "source": [
    "# Konvertering av Bergens registeret\n",
    "\n"
   ]
  },
  {
   "cell_type": "code",
   "execution_count": 1,
   "id": "395a0e6c-ce24-46fb-b949-9a98563c3540",
   "metadata": {},
   "outputs": [],
   "source": [
    "import polars as pl"
   ]
  },
  {
   "cell_type": "code",
   "execution_count": 2,
   "id": "87d496fd-73fd-48f7-9dc4-67e85d80fcaa",
   "metadata": {},
   "outputs": [],
   "source": [
    "'''\n",
    "Medlemsnummer intervall fra 11000 til 16000.\n",
    "Medlemsnummer i bergens registeret strekker seg mellom 1 og 6000\n",
    "I Cornerstone er det ledige nummer intervall mellom 11000 og 16000\n",
    "For å få de gamle medlemsnummer innenfor intervallet så plusser vi 11000 til gammelt medlemsnummer\n",
    "Bergen hadde 282 medlemme ved årskiftet til 2025\n",
    "'''\n",
    "RANGE_START: int = 11000"
   ]
  },
  {
   "cell_type": "code",
   "execution_count": 3,
   "id": "8a80bd2e-7070-4f64-9573-0b46a4c8d0ce",
   "metadata": {},
   "outputs": [
    {
     "name": "stderr",
     "output_type": "stream",
     "text": [
      "Could not determine dtype for column 41, falling back to string\n",
      "Could not determine dtype for column 42, falling back to string\n"
     ]
    },
    {
     "data": {
      "text/html": [
       "<div><style>\n",
       ".dataframe > thead > tr,\n",
       ".dataframe > tbody > tr {\n",
       "  text-align: right;\n",
       "  white-space: pre-wrap;\n",
       "}\n",
       "</style>\n",
       "<small>shape: (604, 46)</small><table border=\"1\" class=\"dataframe\"><thead><tr><th>MedlemID</th><th>Innmeldingsdato</th><th>Er den innmeldte døpt ?</th><th>Menighet</th><th>Fødested</th><th>Dåpsdato</th><th>Ant barn under 15 år</th><th>Dåpskirke/sted</th><th>Fødselsdato</th><th>Personnummer</th><th>EFTERNAVN</th><th>FORNAVN</th><th>Stilling</th><th>ADRESSE</th><th>E-postadresse</th><th>POSTNR</th><th>Og</th><th>SAM_FOR</th><th>SAM_EFTER</th><th>Utsendelse</th><th>Utsendelses kode</th><th>Telefon priv</th><th>Telefon mob</th><th>Sivilstand</th><th>Trossamfunn</th><th>Gift?</th><th>Utsendelsesformat</th><th>Ektemakens trossamfunn</th><th>Anmerkning</th><th>Kategori</th><th>Giro</th><th>RegDato</th><th>SamID</th><th>FarID</th><th>MorID</th><th>Kjønn</th><th>Svart?</th><th>Faddere</th><th>Er mor og far gift?</th><th>Prest</th><th>Dåpsattest</th><th>Søk</th><th>UtmeldtDato</th><th>DødsDato</th><th>Kommune</th><th>KID-nr</th></tr><tr><td>i64</td><td>date</td><td>bool</td><td>str</td><td>str</td><td>date</td><td>i64</td><td>str</td><td>date</td><td>str</td><td>str</td><td>str</td><td>str</td><td>str</td><td>str</td><td>str</td><td>str</td><td>str</td><td>str</td><td>str</td><td>str</td><td>str</td><td>str</td><td>str</td><td>str</td><td>bool</td><td>str</td><td>str</td><td>str</td><td>str</td><td>bool</td><td>datetime[ms]</td><td>i64</td><td>i64</td><td>i64</td><td>str</td><td>bool</td><td>str</td><td>bool</td><td>str</td><td>bool</td><td>str</td><td>str</td><td>date</td><td>str</td><td>str</td></tr></thead><tbody><tr><td>4653</td><td>null</td><td>false</td><td>null</td><td>null</td><td>null</td><td>null</td><td>null</td><td>null</td><td>null</td><td>&quot;Hauger&quot;</td><td>&quot;E.&quot;</td><td>null</td><td>&quot;_x000D_\r\n",
       "Nordahl Rolfsensvei 3…</td><td>null</td><td>&quot;5094&quot;</td><td>null</td><td>null</td><td>null</td><td>null</td><td>null</td><td>null</td><td>null</td><td>null</td><td>null</td><td>false</td><td>null</td><td>null</td><td>null</td><td>null</td><td>false</td><td>null</td><td>null</td><td>null</td><td>null</td><td>null</td><td>false</td><td>null</td><td>false</td><td>null</td><td>false</td><td>null</td><td>null</td><td>null</td><td>null</td><td>null</td></tr><tr><td>4654</td><td>null</td><td>false</td><td>null</td><td>null</td><td>null</td><td>null</td><td>null</td><td>null</td><td>null</td><td>&quot;Haugger&quot;</td><td>&quot;Elisabeth&quot;</td><td>null</td><td>null</td><td>null</td><td>&quot;5094&quot;</td><td>null</td><td>null</td><td>null</td><td>null</td><td>null</td><td>null</td><td>null</td><td>null</td><td>null</td><td>false</td><td>null</td><td>null</td><td>null</td><td>null</td><td>false</td><td>null</td><td>null</td><td>null</td><td>null</td><td>null</td><td>false</td><td>null</td><td>false</td><td>null</td><td>false</td><td>null</td><td>null</td><td>null</td><td>null</td><td>null</td></tr><tr><td>4655</td><td>null</td><td>false</td><td>null</td><td>null</td><td>null</td><td>null</td><td>null</td><td>null</td><td>null</td><td>&quot;Hauger&quot;</td><td>&quot;Elisabeth&quot;</td><td>null</td><td>&quot;_x000D_\r\n",
       "Nordahl Rolfsensvei 3…</td><td>null</td><td>&quot;5094&quot;</td><td>null</td><td>null</td><td>null</td><td>null</td><td>null</td><td>null</td><td>null</td><td>null</td><td>null</td><td>false</td><td>null</td><td>null</td><td>null</td><td>null</td><td>false</td><td>2024-12-04 17:24:32</td><td>null</td><td>null</td><td>null</td><td>null</td><td>false</td><td>null</td><td>false</td><td>null</td><td>false</td><td>null</td><td>null</td><td>null</td><td>null</td><td>null</td></tr><tr><td>4656</td><td>null</td><td>false</td><td>null</td><td>null</td><td>null</td><td>null</td><td>null</td><td>null</td><td>null</td><td>&quot;Hauger&quot;</td><td>&quot;Elisabeth&quot;</td><td>null</td><td>&quot;_x000D_\r\n",
       "Nordahl Rolfsensvei 3…</td><td>null</td><td>&quot;5094&quot;</td><td>null</td><td>null</td><td>null</td><td>null</td><td>null</td><td>null</td><td>null</td><td>null</td><td>null</td><td>false</td><td>null</td><td>null</td><td>null</td><td>null</td><td>false</td><td>2024-12-04 17:25:45</td><td>null</td><td>null</td><td>null</td><td>null</td><td>false</td><td>null</td><td>false</td><td>null</td><td>false</td><td>null</td><td>null</td><td>null</td><td>null</td><td>null</td></tr><tr><td>4628</td><td>null</td><td>false</td><td>&quot;Bergen&quot;</td><td>&quot;Bergen&quot;</td><td>null</td><td>2</td><td>null</td><td>1992-10-19</td><td>&quot;19109245731&quot;</td><td>&quot;Tangen&quot;</td><td>&quot;Andreas&quot;</td><td>null</td><td>&quot;Wergelandsalléen 18&quot;</td><td>null</td><td>&quot;5067&quot;</td><td>null</td><td>null</td><td>null</td><td>null</td><td>null</td><td>null</td><td>null</td><td>&quot;Gift mann&quot;</td><td>&quot;Kristensamfunnet&quot;</td><td>false</td><td>&quot;E&quot;</td><td>&quot;Kristensamfunnet&quot;</td><td>null</td><td>&quot;M&quot;</td><td>false</td><td>2023-06-12 10:14:29</td><td>2248</td><td>null</td><td>null</td><td>&quot;M&quot;</td><td>false</td><td>null</td><td>false</td><td>null</td><td>false</td><td>null</td><td>null</td><td>null</td><td>null</td><td>null</td></tr><tr><td>&hellip;</td><td>&hellip;</td><td>&hellip;</td><td>&hellip;</td><td>&hellip;</td><td>&hellip;</td><td>&hellip;</td><td>&hellip;</td><td>&hellip;</td><td>&hellip;</td><td>&hellip;</td><td>&hellip;</td><td>&hellip;</td><td>&hellip;</td><td>&hellip;</td><td>&hellip;</td><td>&hellip;</td><td>&hellip;</td><td>&hellip;</td><td>&hellip;</td><td>&hellip;</td><td>&hellip;</td><td>&hellip;</td><td>&hellip;</td><td>&hellip;</td><td>&hellip;</td><td>&hellip;</td><td>&hellip;</td><td>&hellip;</td><td>&hellip;</td><td>&hellip;</td><td>&hellip;</td><td>&hellip;</td><td>&hellip;</td><td>&hellip;</td><td>&hellip;</td><td>&hellip;</td><td>&hellip;</td><td>&hellip;</td><td>&hellip;</td><td>&hellip;</td><td>&hellip;</td><td>&hellip;</td><td>&hellip;</td><td>&hellip;</td><td>&hellip;</td></tr><tr><td>4663</td><td>2024-12-11</td><td>false</td><td>null</td><td>null</td><td>null</td><td>null</td><td>null</td><td>1945-09-02</td><td>&quot;02094546322&quot;</td><td>&quot;Bjermeland&quot;</td><td>&quot;Trygve&quot;</td><td>null</td><td>&quot;Munkebotn 33&quot;</td><td>null</td><td>&quot;5036&quot;</td><td>null</td><td>null</td><td>null</td><td>null</td><td>null</td><td>null</td><td>null</td><td>null</td><td>null</td><td>false</td><td>null</td><td>null</td><td>null</td><td>&quot;M&quot;</td><td>false</td><td>2025-02-16 20:09:32</td><td>null</td><td>null</td><td>null</td><td>&quot;M&quot;</td><td>false</td><td>null</td><td>false</td><td>null</td><td>false</td><td>null</td><td>null</td><td>null</td><td>null</td><td>null</td></tr><tr><td>4664</td><td>null</td><td>false</td><td>null</td><td>null</td><td>null</td><td>null</td><td>null</td><td>null</td><td>null</td><td>&quot;Ruscheinski&quot;</td><td>&quot;Gerd Peter&quot;</td><td>null</td><td>&quot;Kråkenesdalen 191&quot;</td><td>null</td><td>&quot;5153&quot;</td><td>null</td><td>null</td><td>null</td><td>null</td><td>null</td><td>null</td><td>null</td><td>null</td><td>null</td><td>false</td><td>null</td><td>null</td><td>null</td><td>null</td><td>false</td><td>2025-05-18 00:00:00</td><td>null</td><td>null</td><td>null</td><td>null</td><td>false</td><td>null</td><td>false</td><td>null</td><td>false</td><td>null</td><td>null</td><td>null</td><td>null</td><td>null</td></tr><tr><td>4665</td><td>null</td><td>false</td><td>null</td><td>null</td><td>null</td><td>null</td><td>null</td><td>null</td><td>null</td><td>&quot;Ruscheinski&quot;</td><td>&quot;Gerd Peter&quot;</td><td>null</td><td>&quot;Kråkenesdalen 191&quot;</td><td>null</td><td>&quot;5153&quot;</td><td>null</td><td>null</td><td>null</td><td>null</td><td>null</td><td>null</td><td>null</td><td>null</td><td>null</td><td>false</td><td>null</td><td>null</td><td>null</td><td>null</td><td>false</td><td>2025-05-31 19:40:13</td><td>null</td><td>null</td><td>null</td><td>null</td><td>false</td><td>null</td><td>false</td><td>null</td><td>false</td><td>null</td><td>null</td><td>null</td><td>null</td><td>null</td></tr><tr><td>4666</td><td>null</td><td>false</td><td>null</td><td>null</td><td>null</td><td>null</td><td>null</td><td>null</td><td>null</td><td>&quot;Ruscheinski&quot;</td><td>&quot;Gerd Peter&quot;</td><td>null</td><td>&quot;Kråkenesdalen 191&quot;</td><td>null</td><td>&quot;5153&quot;</td><td>null</td><td>null</td><td>null</td><td>null</td><td>null</td><td>null</td><td>null</td><td>null</td><td>null</td><td>false</td><td>null</td><td>null</td><td>null</td><td>null</td><td>false</td><td>2025-05-31 19:44:14</td><td>null</td><td>null</td><td>null</td><td>null</td><td>false</td><td>null</td><td>false</td><td>null</td><td>false</td><td>null</td><td>null</td><td>null</td><td>null</td><td>null</td></tr><tr><td>4667</td><td>null</td><td>false</td><td>null</td><td>null</td><td>null</td><td>null</td><td>null</td><td>null</td><td>null</td><td>&quot;Ruscheinski&quot;</td><td>&quot;Gerd Peter&quot;</td><td>null</td><td>&quot;Kråkenesdalen 191&quot;</td><td>null</td><td>&quot;5153&quot;</td><td>null</td><td>null</td><td>null</td><td>null</td><td>null</td><td>null</td><td>null</td><td>null</td><td>null</td><td>false</td><td>null</td><td>null</td><td>null</td><td>null</td><td>false</td><td>2025-06-01 16:49:33</td><td>null</td><td>null</td><td>null</td><td>null</td><td>false</td><td>null</td><td>false</td><td>null</td><td>false</td><td>null</td><td>null</td><td>null</td><td>null</td><td>null</td></tr></tbody></table></div>"
      ],
      "text/plain": [
       "shape: (604, 46)\n",
       "┌──────────┬──────────────┬─────────────┬──────────┬───┬─────────────┬──────────┬─────────┬────────┐\n",
       "│ MedlemID ┆ Innmeldingsd ┆ Er den      ┆ Menighet ┆ … ┆ UtmeldtDato ┆ DødsDato ┆ Kommune ┆ KID-nr │\n",
       "│ ---      ┆ ato          ┆ innmeldte   ┆ ---      ┆   ┆ ---         ┆ ---      ┆ ---     ┆ ---    │\n",
       "│ i64      ┆ ---          ┆ døpt ?      ┆ str      ┆   ┆ str         ┆ date     ┆ str     ┆ str    │\n",
       "│          ┆ date         ┆ ---         ┆          ┆   ┆             ┆          ┆         ┆        │\n",
       "│          ┆              ┆ bool        ┆          ┆   ┆             ┆          ┆         ┆        │\n",
       "╞══════════╪══════════════╪═════════════╪══════════╪═══╪═════════════╪══════════╪═════════╪════════╡\n",
       "│ 4653     ┆ null         ┆ false       ┆ null     ┆ … ┆ null        ┆ null     ┆ null    ┆ null   │\n",
       "│ 4654     ┆ null         ┆ false       ┆ null     ┆ … ┆ null        ┆ null     ┆ null    ┆ null   │\n",
       "│ 4655     ┆ null         ┆ false       ┆ null     ┆ … ┆ null        ┆ null     ┆ null    ┆ null   │\n",
       "│ 4656     ┆ null         ┆ false       ┆ null     ┆ … ┆ null        ┆ null     ┆ null    ┆ null   │\n",
       "│ 4628     ┆ null         ┆ false       ┆ Bergen   ┆ … ┆ null        ┆ null     ┆ null    ┆ null   │\n",
       "│ …        ┆ …            ┆ …           ┆ …        ┆ … ┆ …           ┆ …        ┆ …       ┆ …      │\n",
       "│ 4663     ┆ 2024-12-11   ┆ false       ┆ null     ┆ … ┆ null        ┆ null     ┆ null    ┆ null   │\n",
       "│ 4664     ┆ null         ┆ false       ┆ null     ┆ … ┆ null        ┆ null     ┆ null    ┆ null   │\n",
       "│ 4665     ┆ null         ┆ false       ┆ null     ┆ … ┆ null        ┆ null     ┆ null    ┆ null   │\n",
       "│ 4666     ┆ null         ┆ false       ┆ null     ┆ … ┆ null        ┆ null     ┆ null    ┆ null   │\n",
       "│ 4667     ┆ null         ┆ false       ┆ null     ┆ … ┆ null        ┆ null     ┆ null    ┆ null   │\n",
       "└──────────┴──────────────┴─────────────┴──────────┴───┴─────────────┴──────────┴─────────┴────────┘"
      ]
     },
     "execution_count": 3,
     "metadata": {},
     "output_type": "execute_result"
    }
   ],
   "source": [
    "# leser inn Data exportert i fra Bergens Access database\n",
    "# I fra den tabellen som heter \"tblInnmeldte\"\n",
    "df = (pl.read_excel(\"tblInnmeldte 2025-06-12.xlsx\")\n",
    "    # Vet ikke hvorfor dette blir gjort, men det er det som skjer i access databasen \"qryMedlemmer\" -\n",
    "    # som er utgangspunkt for alle data som vises i Access\n",
    "    # uten filter finnes 333 medlemmer, mens med filter finnes 284 medlemmer.\n",
    "    # det er disse som har vært utgangspunkt for medlems opptellig\n",
    "    .filter(pl.col(\"POSTNR\").is_between(pl.lit(\"100\"), pl.lit(\"9000\"), closed=\"both\"))\n",
    ")\n",
    "df"
   ]
  },
  {
   "cell_type": "code",
   "execution_count": 4,
   "id": "e1cff615-d5dc-4b70-ba22-bda959df5ea9",
   "metadata": {},
   "outputs": [],
   "source": [
    "# Oppdatering av medlemsID til Cornerstone standard og litt vasking også\n",
    "df = df.with_columns(\n",
    "    # Lager nye medlemsnummere som er tilpasset Cornerstone\n",
    "    (pl.col(\"MedlemID\") + RANGE_START).alias(\"MedlemID\"),\n",
    "    (pl.col(\"SamID\") + RANGE_START).alias(\"SamID\"),\n",
    "    (pl.col(\"MorID\") + RANGE_START).alias(\"MorID\"),\n",
    "    (pl.col(\"FarID\") + RANGE_START).alias(\"FarID\"),\n",
    "    # Tar bort Personnummer der det bare er skervet in fødselsdato delen\n",
    "    # Har sjekket at \"Fødselsdato\" er satt på alle det gjelder\n",
    "    pl.when(pl.col(\"Personnummer\").str.len_chars() == 6)\n",
    "      .then(None)\n",
    "      .otherwise(pl.col(\"Personnummer\"))\n",
    "      .alias(\"Personnummer\")\n",
    ")\n"
   ]
  },
  {
   "cell_type": "code",
   "execution_count": 5,
   "id": "615f8b3d-3e71-488d-b2db-e9b9bceb9aaf",
   "metadata": {},
   "outputs": [
    {
     "data": {
      "text/html": [
       "<div><style>\n",
       ".dataframe > thead > tr,\n",
       ".dataframe > tbody > tr {\n",
       "  text-align: right;\n",
       "  white-space: pre-wrap;\n",
       "}\n",
       "</style>\n",
       "<small>shape: (604, 5)</small><table border=\"1\" class=\"dataframe\"><thead><tr><th>MedlemID</th><th>SamID</th><th>FORNAVN</th><th>EFTERNAVN</th><th>Personnummer</th></tr><tr><td>i64</td><td>i64</td><td>str</td><td>str</td><td>str</td></tr></thead><tbody><tr><td>15653</td><td>null</td><td>&quot;E.&quot;</td><td>&quot;Hauger&quot;</td><td>null</td></tr><tr><td>15654</td><td>null</td><td>&quot;Elisabeth&quot;</td><td>&quot;Haugger&quot;</td><td>null</td></tr><tr><td>15655</td><td>null</td><td>&quot;Elisabeth&quot;</td><td>&quot;Hauger&quot;</td><td>null</td></tr><tr><td>15656</td><td>null</td><td>&quot;Elisabeth&quot;</td><td>&quot;Hauger&quot;</td><td>null</td></tr><tr><td>15619</td><td>null</td><td>&quot;Vårin Tangen&quot;</td><td>&quot;Lunde&quot;</td><td>null</td></tr><tr><td>&hellip;</td><td>&hellip;</td><td>&hellip;</td><td>&hellip;</td><td>&hellip;</td></tr><tr><td>15547</td><td>15604</td><td>&quot;Tone Bell&quot;</td><td>&quot;Rysst&quot;</td><td>&quot;22055032878&quot;</td></tr><tr><td>15551</td><td>15606</td><td>&quot;Tora Døssland&quot;</td><td>&quot;Eikeland&quot;</td><td>&quot;16065247058&quot;</td></tr><tr><td>13248</td><td>15628</td><td>&quot;Katarina&quot;</td><td>&quot;Lunde&quot;</td><td>&quot;03089142074&quot;</td></tr><tr><td>15638</td><td>15637</td><td>&quot;Frode&quot;</td><td>&quot;Aasheim&quot;</td><td>&quot;29067148531&quot;</td></tr><tr><td>15637</td><td>15638</td><td>&quot;Baiba&quot;</td><td>&quot;Bertulsone-Aasheim&quot;</td><td>&quot;02036927413&quot;</td></tr></tbody></table></div>"
      ],
      "text/plain": [
       "shape: (604, 5)\n",
       "┌──────────┬───────┬───────────────┬────────────────────┬──────────────┐\n",
       "│ MedlemID ┆ SamID ┆ FORNAVN       ┆ EFTERNAVN          ┆ Personnummer │\n",
       "│ ---      ┆ ---   ┆ ---           ┆ ---                ┆ ---          │\n",
       "│ i64      ┆ i64   ┆ str           ┆ str                ┆ str          │\n",
       "╞══════════╪═══════╪═══════════════╪════════════════════╪══════════════╡\n",
       "│ 15653    ┆ null  ┆ E.            ┆ Hauger             ┆ null         │\n",
       "│ 15654    ┆ null  ┆ Elisabeth     ┆ Haugger            ┆ null         │\n",
       "│ 15655    ┆ null  ┆ Elisabeth     ┆ Hauger             ┆ null         │\n",
       "│ 15656    ┆ null  ┆ Elisabeth     ┆ Hauger             ┆ null         │\n",
       "│ 15619    ┆ null  ┆ Vårin Tangen  ┆ Lunde              ┆ null         │\n",
       "│ …        ┆ …     ┆ …             ┆ …                  ┆ …            │\n",
       "│ 15547    ┆ 15604 ┆ Tone Bell     ┆ Rysst              ┆ 22055032878  │\n",
       "│ 15551    ┆ 15606 ┆ Tora Døssland ┆ Eikeland           ┆ 16065247058  │\n",
       "│ 13248    ┆ 15628 ┆ Katarina      ┆ Lunde              ┆ 03089142074  │\n",
       "│ 15638    ┆ 15637 ┆ Frode         ┆ Aasheim            ┆ 29067148531  │\n",
       "│ 15637    ┆ 15638 ┆ Baiba         ┆ Bertulsone-Aasheim ┆ 02036927413  │\n",
       "└──────────┴───────┴───────────────┴────────────────────┴──────────────┘"
      ]
     },
     "execution_count": 5,
     "metadata": {},
     "output_type": "execute_result"
    }
   ],
   "source": [
    "df.select(\"MedlemID\", \"SamID\", \"FORNAVN\", \"EFTERNAVN\", \"Personnummer\"\n",
    "         ).sort(\"SamID\"\n",
    "               )#.filter(pl.col(\"Personnummer\").str.len_chars() == 6)"
   ]
  },
  {
   "cell_type": "markdown",
   "id": "dc80c870-5025-4088-a2ad-9966257b834c",
   "metadata": {},
   "source": [
    "## Rekkefølge på konverteringen\n",
    "- Alle som har fødselsnummer, medlemmer med flere\n",
    "- Alle som er registrert med \"MedlemID\", \"SamID\", \"MorID\", \"FarID\"\n",
    "- Alle som har \"MedlemID\" i \"SamID\", \"MorID\", \"FarID\"\n",
    "- \n",
    "- Det vil være overlappende \"MedlemID\" for de som er listet over. Få ut en liste og krymp den til disticte verdier av \"MedlemID\"\n",
    "- Resterende personer vil ha datakvalitet av varierende kvalitet. Disse konverteres til slutt. Det er resterende som ikke er med i den oppbyggde \"MedlemID\" listen. Ingen av disse er medlemmer. De har heller ikke forbindelser til andre personer."
   ]
  },
  {
   "cell_type": "markdown",
   "id": "c5a0defe-bdaf-4846-8051-3a300ec5aae0",
   "metadata": {},
   "source": [
    "### Denne er ikke nødvendig, så lenge vi gjør den siste testen ved henting av data fra excel filen\n",
    "``` python\n",
    "df_medlemId = (\n",
    "    df\n",
    "    .filter(\n",
    "        (pl.col(\"Kategori\").str.starts_with(\"M\")) &\n",
    "        # Vet ikke hvorfor dette blir gjort, men det er det som skjer i access databasen \"qryMedlemmer\"\n",
    "        (pl.col(\"POSTNR\").is_between(pl.lit(\"100\"), pl.lit(\"9000\"), closed=\"both\"))\n",
    "    )\n",
    "    .select(\"MedlemID\")\n",
    ")\n",
    "df_medlemId\n",
    "```"
   ]
  },
  {
   "cell_type": "code",
   "execution_count": 6,
   "id": "7a6c8792-3bb7-4a48-88f4-303805002b01",
   "metadata": {},
   "outputs": [
    {
     "data": {
      "text/html": [
       "<div><style>\n",
       ".dataframe > thead > tr,\n",
       ".dataframe > tbody > tr {\n",
       "  text-align: right;\n",
       "  white-space: pre-wrap;\n",
       "}\n",
       "</style>\n",
       "<small>shape: (437, 5)</small><table border=\"1\" class=\"dataframe\"><thead><tr><th>FORNAVN</th><th>EFTERNAVN</th><th>type</th><th>MedlemID</th><th>ConnectedMedlemID</th></tr><tr><td>str</td><td>str</td><td>str</td><td>i64</td><td>i64</td></tr></thead><tbody><tr><td>&quot;Andreas&quot;</td><td>&quot;Tangen&quot;</td><td>&quot;SamID&quot;</td><td>15628</td><td>13248</td></tr><tr><td>&quot;Sissel&quot;</td><td>&quot;Monsen&quot;</td><td>&quot;SamID&quot;</td><td>15513</td><td>15484</td></tr><tr><td>&quot;Marit&quot;</td><td>&quot;Brendbekken&quot;</td><td>&quot;SamID&quot;</td><td>14476</td><td>14477</td></tr><tr><td>&quot;Stein&quot;</td><td>&quot;Befring&quot;</td><td>&quot;SamID&quot;</td><td>14477</td><td>14476</td></tr><tr><td>&quot;Per Gøran&quot;</td><td>&quot;Krüger&quot;</td><td>&quot;SamID&quot;</td><td>14503</td><td>11213</td></tr><tr><td>&hellip;</td><td>&hellip;</td><td>&hellip;</td><td>&hellip;</td><td>&hellip;</td></tr><tr><td>&quot;Mari Ulevik&quot;</td><td>&quot;Furubotn&quot;</td><td>&quot;FarID&quot;</td><td>15450</td><td>15479</td></tr><tr><td>&quot;Ingrid Kristine Miljeteig&quot;</td><td>&quot;Geelmuyden&quot;</td><td>&quot;FarID&quot;</td><td>15452</td><td>15451</td></tr><tr><td>&quot;Erik Andreas&quot;</td><td>&quot;Geelmuyden&quot;</td><td>&quot;FarID&quot;</td><td>15453</td><td>15451</td></tr><tr><td>&quot;Vilma Måkestad&quot;</td><td>&quot;Vogt&quot;</td><td>&quot;FarID&quot;</td><td>15460</td><td>15461</td></tr><tr><td>&quot;Symra Slåttli&quot;</td><td>&quot;Tangen&quot;</td><td>&quot;FarID&quot;</td><td>15636</td><td>15628</td></tr></tbody></table></div>"
      ],
      "text/plain": [
       "shape: (437, 5)\n",
       "┌───────────────────────────┬─────────────┬───────┬──────────┬───────────────────┐\n",
       "│ FORNAVN                   ┆ EFTERNAVN   ┆ type  ┆ MedlemID ┆ ConnectedMedlemID │\n",
       "│ ---                       ┆ ---         ┆ ---   ┆ ---      ┆ ---               │\n",
       "│ str                       ┆ str         ┆ str   ┆ i64      ┆ i64               │\n",
       "╞═══════════════════════════╪═════════════╪═══════╪══════════╪═══════════════════╡\n",
       "│ Andreas                   ┆ Tangen      ┆ SamID ┆ 15628    ┆ 13248             │\n",
       "│ Sissel                    ┆ Monsen      ┆ SamID ┆ 15513    ┆ 15484             │\n",
       "│ Marit                     ┆ Brendbekken ┆ SamID ┆ 14476    ┆ 14477             │\n",
       "│ Stein                     ┆ Befring     ┆ SamID ┆ 14477    ┆ 14476             │\n",
       "│ Per Gøran                 ┆ Krüger      ┆ SamID ┆ 14503    ┆ 11213             │\n",
       "│ …                         ┆ …           ┆ …     ┆ …        ┆ …                 │\n",
       "│ Mari Ulevik               ┆ Furubotn    ┆ FarID ┆ 15450    ┆ 15479             │\n",
       "│ Ingrid Kristine Miljeteig ┆ Geelmuyden  ┆ FarID ┆ 15452    ┆ 15451             │\n",
       "│ Erik Andreas              ┆ Geelmuyden  ┆ FarID ┆ 15453    ┆ 15451             │\n",
       "│ Vilma Måkestad            ┆ Vogt        ┆ FarID ┆ 15460    ┆ 15461             │\n",
       "│ Symra Slåttli             ┆ Tangen      ┆ FarID ┆ 15636    ┆ 15628             │\n",
       "└───────────────────────────┴─────────────┴───────┴──────────┴───────────────────┘"
      ]
     },
     "execution_count": 6,
     "metadata": {},
     "output_type": "execute_result"
    }
   ],
   "source": [
    "# Henter ut alle personer som har andre personer knyttet til seg\n",
    "# Fornavn og etternavn hentes også på personen som har tilknyttninger\n",
    "df_connectedMedlemer = pl.concat([\n",
    "    df.filter(pl.col(c).is_not_null())\n",
    "      .select(\n",
    "          pl.col(\"FORNAVN\"),\n",
    "          pl.col(\"EFTERNAVN\"),\n",
    "          pl.lit(c).alias(\"type\"),\n",
    "          pl.col(\"MedlemID\"),\n",
    "          pl.col(c).alias(\"ConnectedMedlemID\")\n",
    "      )\n",
    "    for c in [\"SamID\", \"MorID\", \"FarID\"]\n",
    "])\n",
    "df_connectedMedlemer"
   ]
  },
  {
   "cell_type": "code",
   "execution_count": 7,
   "id": "3b162c31-c9f8-4fd1-9f99-d2938c580f37",
   "metadata": {},
   "outputs": [
    {
     "name": "stdout",
     "output_type": "stream",
     "text": [
      "shape: (35, 1)\n",
      "┌──────────┐\n",
      "│ MedlemID │\n",
      "│ ---      │\n",
      "│ i64      │\n",
      "╞══════════╡\n",
      "│ 11025    │\n",
      "│ 11112    │\n",
      "│ 11113    │\n",
      "│ 11212    │\n",
      "│ 11215    │\n",
      "│ …        │\n",
      "│ 14743    │\n",
      "│ 15444    │\n",
      "│ 15445    │\n",
      "│ 15485    │\n",
      "│ 15533    │\n",
      "└──────────┘\n",
      "shape: (381, 5)\n",
      "┌───────────────────────────┬─────────────┬───────┬──────────┬───────────────────┐\n",
      "│ FORNAVN                   ┆ EFTERNAVN   ┆ type  ┆ MedlemID ┆ ConnectedMedlemID │\n",
      "│ ---                       ┆ ---         ┆ ---   ┆ ---      ┆ ---               │\n",
      "│ str                       ┆ str         ┆ str   ┆ i64      ┆ i64               │\n",
      "╞═══════════════════════════╪═════════════╪═══════╪══════════╪═══════════════════╡\n",
      "│ Andreas                   ┆ Tangen      ┆ SamID ┆ 15628    ┆ 13248             │\n",
      "│ Sissel                    ┆ Monsen      ┆ SamID ┆ 15513    ┆ 15484             │\n",
      "│ Marit                     ┆ Brendbekken ┆ SamID ┆ 14476    ┆ 14477             │\n",
      "│ Stein                     ┆ Befring     ┆ SamID ┆ 14477    ┆ 14476             │\n",
      "│ Per Gøran                 ┆ Krüger      ┆ SamID ┆ 14503    ┆ 11213             │\n",
      "│ …                         ┆ …           ┆ …     ┆ …        ┆ …                 │\n",
      "│ Mari Ulevik               ┆ Furubotn    ┆ FarID ┆ 15450    ┆ 15479             │\n",
      "│ Ingrid Kristine Miljeteig ┆ Geelmuyden  ┆ FarID ┆ 15452    ┆ 15451             │\n",
      "│ Erik Andreas              ┆ Geelmuyden  ┆ FarID ┆ 15453    ┆ 15451             │\n",
      "│ Vilma Måkestad            ┆ Vogt        ┆ FarID ┆ 15460    ┆ 15461             │\n",
      "│ Symra Slåttli             ┆ Tangen      ┆ FarID ┆ 15636    ┆ 15628             │\n",
      "└───────────────────────────┴─────────────┴───────┴──────────┴───────────────────┘\n"
     ]
    }
   ],
   "source": [
    "# Finner alle ID'er som ikke eksisterer.\n",
    "# Her er det feil i dato og dette er en del av vasken\n",
    "\n",
    "# 1. Anti-join: IDs in connected that aren't in df\n",
    "missing_ids = df_connectedMedlemer.join(\n",
    "    df, \n",
    "    left_on=\"ConnectedMedlemID\",      # Key in the left DataFrame\n",
    "    right_on=\"MedlemID\",              # Key in the right DataFrame\n",
    "    how=\"anti\"\n",
    ").select(pl.col(\"ConnectedMedlemID\").unique().alias(\"MedlemID\"))\n",
    "print(missing_ids)\n",
    "\n",
    "# Sletter alle ID'er som ikke finnes fra vår Connected liste\n",
    "# Sletter alle koblinger til personer som ikke finnes i registeret\n",
    "df_connectedMedlemer = df_connectedMedlemer.join(\n",
    "    missing_ids,\n",
    "    left_on=\"ConnectedMedlemID\",      # Key in the left DataFrame\n",
    "    right_on=\"MedlemID\",              # Key in the right DataFrame\n",
    "    how=\"anti\"\n",
    ")\n",
    "print(df_connectedMedlemer)"
   ]
  },
  {
   "cell_type": "code",
   "execution_count": 8,
   "id": "390f3960-1cb6-4bc7-8440-86548de6580d",
   "metadata": {},
   "outputs": [],
   "source": [
    "\n",
    "# Tror ikke dette blir nødvendig. Personers forbindelser blir oppdatert etter at alle\n",
    "# relevante personer er lagt inn i egen ferdig vasket tabell under \"df_connectedMedlemer\"\n",
    "\n",
    "# Oppdaterer df og setter alle ikke eksisterende kontakter til null\n",
    "#df = df.with_columns([\n",
    "#    pl.when(pl.col(c).is_in(missing_ids[\"MedlemID\"].to_list()))\n",
    "#      .then(None)\n",
    "#      .otherwise(pl.col(c))\n",
    "#      .alias(c)\n",
    "#    for c in [\"SamID\", \"MorID\", \"FarID\"]\n",
    "#])\n"
   ]
  },
  {
   "cell_type": "code",
   "execution_count": 9,
   "id": "9c10f925-df62-46fa-ba85-11940b5018eb",
   "metadata": {},
   "outputs": [
    {
     "name": "stdout",
     "output_type": "stream",
     "text": [
      "shape: (381, 7)\n",
      "┌────────────────┬─────────────┬───────┬──────────┬────────────────┬───────────────┬───────────────┐\n",
      "│ FORNAVN        ┆ EFTERNAVN   ┆ type  ┆ MedlemID ┆ ConnectedMedle ┆ Connected_FOR ┆ Connected_EFT │\n",
      "│ ---            ┆ ---         ┆ ---   ┆ ---      ┆ mID            ┆ NAVN          ┆ ERNAVN        │\n",
      "│ str            ┆ str         ┆ str   ┆ i64      ┆ ---            ┆ ---           ┆ ---           │\n",
      "│                ┆             ┆       ┆          ┆ i64            ┆ str           ┆ str           │\n",
      "╞════════════════╪═════════════╪═══════╪══════════╪════════════════╪═══════════════╪═══════════════╡\n",
      "│ Andreas        ┆ Tangen      ┆ SamID ┆ 15628    ┆ 13248          ┆ Katarina      ┆ Lunde         │\n",
      "│ Sissel         ┆ Monsen      ┆ SamID ┆ 15513    ┆ 15484          ┆ Svenn Olav    ┆ Kalvø         │\n",
      "│ Marit          ┆ Brendbekken ┆ SamID ┆ 14476    ┆ 14477          ┆ Stein         ┆ Befring       │\n",
      "│ Stein          ┆ Befring     ┆ SamID ┆ 14477    ┆ 14476          ┆ Marit         ┆ Brendbekken   │\n",
      "│ Per Gøran      ┆ Krüger      ┆ SamID ┆ 14503    ┆ 11213          ┆ Elisabeth     ┆ Clausen       │\n",
      "│ …              ┆ …           ┆ …     ┆ …        ┆ …              ┆ …             ┆ …             │\n",
      "│ Mari Ulevik    ┆ Furubotn    ┆ FarID ┆ 15450    ┆ 15479          ┆ Viggo         ┆ Furubotn      │\n",
      "│ Ingrid         ┆ Geelmuyden  ┆ FarID ┆ 15452    ┆ 15451          ┆ Ivan          ┆ Geelmuyden    │\n",
      "│ Kristine       ┆             ┆       ┆          ┆                ┆ Alexander     ┆               │\n",
      "│ Miljeteig      ┆             ┆       ┆          ┆                ┆               ┆               │\n",
      "│ Erik Andreas   ┆ Geelmuyden  ┆ FarID ┆ 15453    ┆ 15451          ┆ Ivan          ┆ Geelmuyden    │\n",
      "│                ┆             ┆       ┆          ┆                ┆ Alexander     ┆               │\n",
      "│ Vilma Måkestad ┆ Vogt        ┆ FarID ┆ 15460    ┆ 15461          ┆ Kristoffer    ┆ Vogt          │\n",
      "│                ┆             ┆       ┆          ┆                ┆ Chelsom       ┆               │\n",
      "│ Symra Slåttli  ┆ Tangen      ┆ FarID ┆ 15636    ┆ 15628          ┆ Andreas       ┆ Tangen        │\n",
      "└────────────────┴─────────────┴───────┴──────────┴────────────────┴───────────────┴───────────────┘\n"
     ]
    }
   ],
   "source": [
    "# Henter inn fornavn og etternavn til den personen som er tilknyttet\n",
    "# Denne listen benyttes til å koble alle personer i Cornerstone\n",
    "# etter at alle personer er lagt inn.\n",
    "\n",
    "# Perform the join by preparing the right side first\n",
    "df_connectedMedlemer = df_connectedMedlemer.join(\n",
    "    # 1. Select and rename columns from 'df' on the fly\n",
    "    df.select(\n",
    "        pl.col(\"MedlemID\"),  # The join key must be included\n",
    "        pl.col(\"FORNAVN\").alias(\"Connected_FORNAVN\"),\n",
    "        pl.col(\"EFTERNAVN\").alias(\"Connected_EFTERNAVN\")\n",
    "    ),\n",
    "    left_on=\"ConnectedMedlemID\",\n",
    "    right_on=\"MedlemID\",\n",
    "    how=\"left\"  # Using 'left' is safer to not lose rows from the left table\n",
    ")\n",
    "print(df_connectedMedlemer)"
   ]
  },
  {
   "cell_type": "code",
   "execution_count": 10,
   "id": "f297120c-56ec-4678-a56d-4be9aad4ef96",
   "metadata": {},
   "outputs": [
    {
     "name": "stdout",
     "output_type": "stream",
     "text": [
      "shape: (408, 1)\n",
      "┌──────────┐\n",
      "│ MedlemID │\n",
      "│ ---      │\n",
      "│ i64      │\n",
      "╞══════════╡\n",
      "│ 11018    │\n",
      "│ 11027    │\n",
      "│ 11084    │\n",
      "│ 11208    │\n",
      "│ 11209    │\n",
      "│ …        │\n",
      "│ 15638    │\n",
      "│ 15649    │\n",
      "│ 15650    │\n",
      "│ 15659    │\n",
      "│ 15663    │\n",
      "└──────────┘\n"
     ]
    }
   ],
   "source": [
    "# Samler sammen personer som vi antar har kavalitets data\n",
    "# Til den første runden av konvertering\n",
    "df_kvalitetsdataID = pl.concat([\n",
    "    # Alle personer som har kontakter på seg\n",
    "    df_connectedMedlemer[\"MedlemID\"],\n",
    "    # Alle personer som er en kontakt på en annen person\n",
    "    df_connectedMedlemer[\"ConnectedMedlemID\"],\n",
    "    # Alle personer som har status som medlem\n",
    "    df.filter(pl.col(\"Kategori\").str.starts_with(\"M\"))[\"MedlemID\"]\n",
    "]).unique().to_frame(\"MedlemID\")\n",
    "print(df_kvalitetsdataID)"
   ]
  },
  {
   "cell_type": "code",
   "execution_count": 11,
   "id": "073c7b7f-0c35-48e9-9133-c07fe1cd1cc1",
   "metadata": {},
   "outputs": [
    {
     "name": "stdout",
     "output_type": "stream",
     "text": [
      "shape: (408, 46)\n",
      "┌──────────┬────────────┬────────────┬──────────┬───┬────────────┬──────────┬─────────┬────────────┐\n",
      "│ MedlemID ┆ Innmelding ┆ Er den     ┆ Menighet ┆ … ┆ UtmeldtDat ┆ DødsDato ┆ Kommune ┆ KID-nr     │\n",
      "│ ---      ┆ sdato      ┆ innmeldte  ┆ ---      ┆   ┆ o          ┆ ---      ┆ ---     ┆ ---        │\n",
      "│ i64      ┆ ---        ┆ døpt ?     ┆ str      ┆   ┆ ---        ┆ date     ┆ str     ┆ str        │\n",
      "│          ┆ date       ┆ ---        ┆          ┆   ┆ str        ┆          ┆         ┆            │\n",
      "│          ┆            ┆ bool       ┆          ┆   ┆            ┆          ┆         ┆            │\n",
      "╞══════════╪════════════╪════════════╪══════════╪═══╪════════════╪══════════╪═════════╪════════════╡\n",
      "│ 15628    ┆ null       ┆ false      ┆ Bergen   ┆ … ┆ null       ┆ null     ┆ null    ┆ null       │\n",
      "│ 15621    ┆ null       ┆ false      ┆ null     ┆ … ┆ null       ┆ null     ┆ null    ┆ null       │\n",
      "│ 15626    ┆ 2021-12-17 ┆ true       ┆ Bergen   ┆ … ┆ null       ┆ null     ┆ null    ┆ null       │\n",
      "│ 15627    ┆ 2021-12-17 ┆ true       ┆ Bergen   ┆ … ┆ null       ┆ null     ┆ null    ┆ null       │\n",
      "│ 15513    ┆ 2014-06-21 ┆ false      ┆ Bergen   ┆ … ┆ null       ┆ null     ┆ null    ┆ 1019610049 │\n",
      "│          ┆            ┆            ┆          ┆   ┆            ┆          ┆         ┆ 8          │\n",
      "│ …        ┆ …          ┆ …          ┆ …        ┆ … ┆ …          ┆ …        ┆ …       ┆ …          │\n",
      "│ 15638    ┆ 2023-03-04 ┆ false      ┆ Bergen   ┆ … ┆ null       ┆ null     ┆ null    ┆ null       │\n",
      "│ 15649    ┆ null       ┆ false      ┆ null     ┆ … ┆ null       ┆ null     ┆ null    ┆ null       │\n",
      "│ 15650    ┆ null       ┆ false      ┆ null     ┆ … ┆ null       ┆ null     ┆ null    ┆ null       │\n",
      "│ 15659    ┆ null       ┆ false      ┆ null     ┆ … ┆ null       ┆ null     ┆ null    ┆ null       │\n",
      "│ 15663    ┆ 2024-12-11 ┆ false      ┆ null     ┆ … ┆ null       ┆ null     ┆ null    ┆ null       │\n",
      "└──────────┴────────────┴────────────┴──────────┴───┴────────────┴──────────┴─────────┴────────────┘\n",
      "shape: (196, 46)\n",
      "┌──────────┬──────────────┬─────────────┬──────────┬───┬─────────────┬──────────┬─────────┬────────┐\n",
      "│ MedlemID ┆ Innmeldingsd ┆ Er den      ┆ Menighet ┆ … ┆ UtmeldtDato ┆ DødsDato ┆ Kommune ┆ KID-nr │\n",
      "│ ---      ┆ ato          ┆ innmeldte   ┆ ---      ┆   ┆ ---         ┆ ---      ┆ ---     ┆ ---    │\n",
      "│ i64      ┆ ---          ┆ døpt ?      ┆ str      ┆   ┆ str         ┆ date     ┆ str     ┆ str    │\n",
      "│          ┆ date         ┆ ---         ┆          ┆   ┆             ┆          ┆         ┆        │\n",
      "│          ┆              ┆ bool        ┆          ┆   ┆             ┆          ┆         ┆        │\n",
      "╞══════════╪══════════════╪═════════════╪══════════╪═══╪═════════════╪══════════╪═════════╪════════╡\n",
      "│ 15653    ┆ null         ┆ false       ┆ null     ┆ … ┆ null        ┆ null     ┆ null    ┆ null   │\n",
      "│ 15654    ┆ null         ┆ false       ┆ null     ┆ … ┆ null        ┆ null     ┆ null    ┆ null   │\n",
      "│ 15655    ┆ null         ┆ false       ┆ null     ┆ … ┆ null        ┆ null     ┆ null    ┆ null   │\n",
      "│ 15656    ┆ null         ┆ false       ┆ null     ┆ … ┆ null        ┆ null     ┆ null    ┆ null   │\n",
      "│ 15619    ┆ null         ┆ false       ┆ null     ┆ … ┆ null        ┆ null     ┆ null    ┆ null   │\n",
      "│ …        ┆ …            ┆ …           ┆ …        ┆ … ┆ …           ┆ …        ┆ …       ┆ …      │\n",
      "│ 15661    ┆ null         ┆ false       ┆ null     ┆ … ┆ null        ┆ null     ┆ null    ┆ null   │\n",
      "│ 15664    ┆ null         ┆ false       ┆ null     ┆ … ┆ null        ┆ null     ┆ null    ┆ null   │\n",
      "│ 15665    ┆ null         ┆ false       ┆ null     ┆ … ┆ null        ┆ null     ┆ null    ┆ null   │\n",
      "│ 15666    ┆ null         ┆ false       ┆ null     ┆ … ┆ null        ┆ null     ┆ null    ┆ null   │\n",
      "│ 15667    ┆ null         ┆ false       ┆ null     ┆ … ┆ null        ┆ null     ┆ null    ┆ null   │\n",
      "└──────────┴──────────────┴─────────────┴──────────┴───┴─────────────┴──────────┴─────────┴────────┘\n"
     ]
    }
   ],
   "source": [
    "# Lager en liste av personer som har god kvalitet på data\n",
    "# One‑liner using a semi‑join (no need for unique() – keeps only df rows whose MedlemID is in the concatenated list)\n",
    "df_kvalitetsData = df.join(\n",
    "    df_kvalitetsdataID,\n",
    "    on=\"MedlemID\"\n",
    ")\n",
    "print(df_kvalitetsData)\n",
    "\n",
    "\n",
    "# Lager en liste av personer som sjanse for dårligere kvalitet på data\n",
    "# Option 1: Anti‑join (most idiomatic & performant)\n",
    "df_looserData = df.join(\n",
    "    df_kvalitetsData,\n",
    "    on=\"MedlemID\",\n",
    "    how=\"anti\"\n",
    ")\n",
    "print(df_looserData)"
   ]
  },
  {
   "cell_type": "code",
   "execution_count": null,
   "id": "df1a795a-a579-4cd0-9673-703c5b0aa714",
   "metadata": {},
   "outputs": [],
   "source": []
  }
 ],
 "metadata": {
  "kernelspec": {
   "display_name": "Python 3 (ipykernel)",
   "language": "python",
   "name": "python3"
  },
  "language_info": {
   "codemirror_mode": {
    "name": "ipython",
    "version": 3
   },
   "file_extension": ".py",
   "mimetype": "text/x-python",
   "name": "python",
   "nbconvert_exporter": "python",
   "pygments_lexer": "ipython3",
   "version": "3.11.2"
  }
 },
 "nbformat": 4,
 "nbformat_minor": 5
}
