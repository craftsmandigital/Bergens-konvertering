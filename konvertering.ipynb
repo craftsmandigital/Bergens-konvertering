{
 "cells": [
  {
   "cell_type": "markdown",
   "id": "e3844100-7f6a-453a-a125-43b4ba3b2cc8",
   "metadata": {},
   "source": [
    "# Konvertering av Bergens registeret\n",
    "\n"
   ]
  },
  {
   "cell_type": "code",
   "execution_count": 1,
   "id": "395a0e6c-ce24-46fb-b949-9a98563c3540",
   "metadata": {},
   "outputs": [],
   "source": [
    "import polars as pl"
   ]
  },
  {
   "cell_type": "code",
   "execution_count": 2,
   "id": "87d496fd-73fd-48f7-9dc4-67e85d80fcaa",
   "metadata": {},
   "outputs": [],
   "source": [
    "'''\n",
    "Medlemsnummer intervall fra 11000 til 16000.\n",
    "Medlemsnummer i bergens registeret strekker seg mellom 1 og 6000\n",
    "I Cornerstone er det ledige nummer intervall mellom 11000 og 16000\n",
    "For å få de gamle medlemsnummer innenfor intervallet så plusser vi 11000 til gammelt medlemsnummer\n",
    "Bergen hadde 282 medlemme ved årskiftet til 2025\n",
    "'''\n",
    "RANGE_START: int = 11000"
   ]
  },
  {
   "cell_type": "code",
   "execution_count": 3,
   "id": "8a80bd2e-7070-4f64-9573-0b46a4c8d0ce",
   "metadata": {},
   "outputs": [
    {
     "name": "stderr",
     "output_type": "stream",
     "text": [
      "Could not determine dtype for column 43, falling back to string\n"
     ]
    },
    {
     "name": "stdout",
     "output_type": "stream",
     "text": [
      "Antall medlemmer i Bergens registeret --> shape: (284,)\n",
      "Series: 'MedlemID' [i64]\n",
      "[\n",
      "\t3570\n",
      "\t4536\n",
      "\t3800\n",
      "\t3720\n",
      "\t2073\n",
      "\t…\n",
      "\t3432\n",
      "\t27\n",
      "\t3294\n",
      "\t2451\n",
      "\t4638\n",
      "]\n",
      "Alle data i fra excel fil --> shape: (582, 46)\n",
      "┌──────────┬──────────────┬─────────────┬──────────┬───┬─────────────┬──────────┬─────────┬────────┐\n",
      "│ MedlemID ┆ Innmeldingsd ┆ Er den      ┆ Menighet ┆ … ┆ UtmeldtDato ┆ DødsDato ┆ Kommune ┆ KID-nr │\n",
      "│ ---      ┆ ato          ┆ innmeldte   ┆ ---      ┆   ┆ ---         ┆ ---      ┆ ---     ┆ ---    │\n",
      "│ i64      ┆ ---          ┆ døpt ?      ┆ str      ┆   ┆ date        ┆ str      ┆ str     ┆ str    │\n",
      "│          ┆ date         ┆ ---         ┆          ┆   ┆             ┆          ┆         ┆        │\n",
      "│          ┆              ┆ bool        ┆          ┆   ┆             ┆          ┆         ┆        │\n",
      "╞══════════╪══════════════╪═════════════╪══════════╪═══╪═════════════╪══════════╪═════════╪════════╡\n",
      "│ 2812     ┆ null         ┆ false       ┆ Bergen   ┆ … ┆ null        ┆ null     ┆ AURLAND ┆        │\n",
      "│ 3571     ┆ 2002-09-30   ┆ false       ┆ Bergen   ┆ … ┆ 2015-08-15  ┆ null     ┆         ┆        │\n",
      "│ 3570     ┆ 2002-09-30   ┆ false       ┆          ┆ … ┆ null        ┆ null     ┆         ┆        │\n",
      "│ 4535     ┆ null         ┆ false       ┆          ┆ … ┆ null        ┆ null     ┆         ┆        │\n",
      "│ 3642     ┆ null         ┆ false       ┆          ┆ … ┆ null        ┆ null     ┆         ┆        │\n",
      "│ …        ┆ …            ┆ …           ┆ …        ┆ … ┆ …           ┆ …        ┆ …       ┆ …      │\n",
      "│ 3641     ┆ null         ┆ false       ┆          ┆ … ┆ null        ┆ null     ┆         ┆        │\n",
      "│ 4638     ┆ 2023-03-04   ┆ false       ┆ Bergen   ┆ … ┆ null        ┆ null     ┆         ┆        │\n",
      "│ 1529     ┆ null         ┆ false       ┆ Bergen   ┆ … ┆ 1998-06-24  ┆ null     ┆ SVEIO   ┆        │\n",
      "│ 759      ┆ null         ┆ false       ┆          ┆ … ┆ null        ┆ null     ┆ SVEIO   ┆        │\n",
      "│ 758      ┆ null         ┆ false       ┆          ┆ … ┆ null        ┆ null     ┆ SVEIO   ┆        │\n",
      "└──────────┴──────────────┴─────────────┴──────────┴───┴─────────────┴──────────┴─────────┴────────┘\n"
     ]
    }
   ],
   "source": [
    "# leser inn Data exportert i fra Bergens Access database\n",
    "# I fra den tabellen som heter \"tblInnmeldte\"\n",
    "df = (pl.read_excel(\"tblInnmeldte 2025-06-12.xlsx\")\n",
    "    # Vet ikke hvorfor dette blir gjort, men det er det som skjer i access databasen \"qryMedlemmer\" -\n",
    "    # som er utgangspunkt for alle data som vises i Access\n",
    "    # uten filter finnes 333 medlemmer, mens med filter finnes 284 medlemmer.\n",
    "    # det er disse som har vært utgangspunkt for medlems opptellig\n",
    "    .filter(pl.col(\"POSTNR\").is_between(pl.lit(\"100\"), pl.lit(\"9000\"), closed=\"both\"))\n",
    ")\n",
    "# Medlems sjekk, det er viktig at dette tallet er nokså likt som rapportert in til statsforvalteren 282\n",
    "print(\"Antall medlemmer i Bergens registeret -->\", df.filter(pl.col(\"Kategori\").str.starts_with(\"M\"))[\"MedlemID\"])\n",
    "print(\"Alle data i fra excel fil -->\", df)"
   ]
  },
  {
   "cell_type": "code",
   "execution_count": 4,
   "id": "e1cff615-d5dc-4b70-ba22-bda959df5ea9",
   "metadata": {},
   "outputs": [],
   "source": [
    "# Oppdatering av medlemsID til Cornerstone standard og litt vasking også\n",
    "df = df.with_columns(\n",
    "    # Lager nye medlemsnummere som er tilpasset Cornerstone\n",
    "    (pl.col(\"MedlemID\") + RANGE_START).alias(\"MedlemID\"),\n",
    "    (pl.col(\"SamID\") + RANGE_START).alias(\"SamID\"),\n",
    "    (pl.col(\"MorID\") + RANGE_START).alias(\"MorID\"),\n",
    "    (pl.col(\"FarID\") + RANGE_START).alias(\"FarID\"),\n",
    "    # Tar bort Personnummer der det bare er skervet in fødselsdato delen\n",
    "    # Har sjekket at \"Fødselsdato\" er satt på alle det gjelder\n",
    "    pl.when(pl.col(\"Personnummer\").str.len_chars() == 6)\n",
    "      .then(None)\n",
    "      .otherwise(pl.col(\"Personnummer\"))\n",
    "      .alias(\"Personnummer\")\n",
    ")\n"
   ]
  },
  {
   "cell_type": "code",
   "execution_count": 5,
   "id": "615f8b3d-3e71-488d-b2db-e9b9bceb9aaf",
   "metadata": {},
   "outputs": [
    {
     "data": {
      "text/html": [
       "<div><style>\n",
       ".dataframe > thead > tr,\n",
       ".dataframe > tbody > tr {\n",
       "  text-align: right;\n",
       "  white-space: pre-wrap;\n",
       "}\n",
       "</style>\n",
       "<small>shape: (582, 5)</small><table border=\"1\" class=\"dataframe\"><thead><tr><th>MedlemID</th><th>SamID</th><th>FORNAVN</th><th>EFTERNAVN</th><th>Personnummer</th></tr><tr><td>i64</td><td>i64</td><td>str</td><td>str</td><td>str</td></tr></thead><tbody><tr><td>14571</td><td>null</td><td>&quot;Bendik Olai&quot;</td><td>&quot;Agdal&quot;</td><td>&quot;28029245543&quot;</td></tr><tr><td>14570</td><td>null</td><td>&quot;Oda Johanna&quot;</td><td>&quot;Agdal&quot;</td><td>&quot;27069744422&quot;</td></tr><tr><td>15535</td><td>null</td><td>&quot;Rita&quot;</td><td>&quot;Agdal&quot;</td><td>&quot;&quot;</td></tr><tr><td>14642</td><td>null</td><td>&quot;Sissel&quot;</td><td>&quot;Aggerholm&quot;</td><td>&quot;&quot;</td></tr><tr><td>15493</td><td>null</td><td>&quot;Johan&quot;</td><td>&quot;Ahlbom&quot;</td><td>&quot;&quot;</td></tr><tr><td>&hellip;</td><td>&hellip;</td><td>&hellip;</td><td>&hellip;</td><td>&hellip;</td></tr><tr><td>15547</td><td>15604</td><td>&quot;Tone Bell&quot;</td><td>&quot;Rysst&quot;</td><td>&quot;22055032878&quot;</td></tr><tr><td>15551</td><td>15606</td><td>&quot;Tora Døssland&quot;</td><td>&quot;Eikeland&quot;</td><td>&quot;16065247058&quot;</td></tr><tr><td>13248</td><td>15628</td><td>&quot;Katarina&quot;</td><td>&quot;Lunde&quot;</td><td>&quot;03089142074&quot;</td></tr><tr><td>15638</td><td>15637</td><td>&quot;Frode&quot;</td><td>&quot;Aasheim&quot;</td><td>&quot;29067148531&quot;</td></tr><tr><td>15637</td><td>15638</td><td>&quot;Baiba&quot;</td><td>&quot;Bertulsone-Aasheim&quot;</td><td>&quot;02036927413&quot;</td></tr></tbody></table></div>"
      ],
      "text/plain": [
       "shape: (582, 5)\n",
       "┌──────────┬───────┬───────────────┬────────────────────┬──────────────┐\n",
       "│ MedlemID ┆ SamID ┆ FORNAVN       ┆ EFTERNAVN          ┆ Personnummer │\n",
       "│ ---      ┆ ---   ┆ ---           ┆ ---                ┆ ---          │\n",
       "│ i64      ┆ i64   ┆ str           ┆ str                ┆ str          │\n",
       "╞══════════╪═══════╪═══════════════╪════════════════════╪══════════════╡\n",
       "│ 14571    ┆ null  ┆ Bendik Olai   ┆ Agdal              ┆ 28029245543  │\n",
       "│ 14570    ┆ null  ┆ Oda Johanna   ┆ Agdal              ┆ 27069744422  │\n",
       "│ 15535    ┆ null  ┆ Rita          ┆ Agdal              ┆              │\n",
       "│ 14642    ┆ null  ┆ Sissel        ┆ Aggerholm          ┆              │\n",
       "│ 15493    ┆ null  ┆ Johan         ┆ Ahlbom             ┆              │\n",
       "│ …        ┆ …     ┆ …             ┆ …                  ┆ …            │\n",
       "│ 15547    ┆ 15604 ┆ Tone Bell     ┆ Rysst              ┆ 22055032878  │\n",
       "│ 15551    ┆ 15606 ┆ Tora Døssland ┆ Eikeland           ┆ 16065247058  │\n",
       "│ 13248    ┆ 15628 ┆ Katarina      ┆ Lunde              ┆ 03089142074  │\n",
       "│ 15638    ┆ 15637 ┆ Frode         ┆ Aasheim            ┆ 29067148531  │\n",
       "│ 15637    ┆ 15638 ┆ Baiba         ┆ Bertulsone-Aasheim ┆ 02036927413  │\n",
       "└──────────┴───────┴───────────────┴────────────────────┴──────────────┘"
      ]
     },
     "execution_count": 5,
     "metadata": {},
     "output_type": "execute_result"
    }
   ],
   "source": [
    "df.select(\"MedlemID\", \"SamID\", \"FORNAVN\", \"EFTERNAVN\", \"Personnummer\"\n",
    "         ).sort(\"SamID\"\n",
    "               )#.filter(pl.col(\"Personnummer\").str.len_chars() == 6)"
   ]
  },
  {
   "cell_type": "markdown",
   "id": "dc80c870-5025-4088-a2ad-9966257b834c",
   "metadata": {},
   "source": [
    "## Rekkefølge på konverteringen\n",
    "- Alle som har fødselsnummer, medlemmer med flere\n",
    "- Alle som er registrert med \"MedlemID\", \"SamID\", \"MorID\", \"FarID\"\n",
    "- Alle som har \"MedlemID\" i \"SamID\", \"MorID\", \"FarID\"\n",
    "- \n",
    "- Det vil være overlappende \"MedlemID\" for de som er listet over. Få ut en liste og krymp den til disticte verdier av \"MedlemID\"\n",
    "- Resterende personer vil ha datakvalitet av varierende kvalitet. Disse konverteres til slutt. Det er resterende som ikke er med i den oppbyggde \"MedlemID\" listen. Ingen av disse er medlemmer. De har heller ikke forbindelser til andre personer."
   ]
  },
  {
   "cell_type": "markdown",
   "id": "c5a0defe-bdaf-4846-8051-3a300ec5aae0",
   "metadata": {},
   "source": [
    "### Denne er ikke nødvendig, så lenge vi gjør den siste testen ved henting av data fra excel filen\n",
    "``` python\n",
    "df_medlemId = (\n",
    "    df\n",
    "    .filter(\n",
    "        (pl.col(\"Kategori\").str.starts_with(\"M\")) &\n",
    "        # Vet ikke hvorfor dette blir gjort, men det er det som skjer i access databasen \"qryMedlemmer\"\n",
    "        (pl.col(\"POSTNR\").is_between(pl.lit(\"100\"), pl.lit(\"9000\"), closed=\"both\"))\n",
    "    )\n",
    "    .select(\"MedlemID\")\n",
    ")\n",
    "df_medlemId\n",
    "```"
   ]
  },
  {
   "cell_type": "code",
   "execution_count": 6,
   "id": "7a6c8792-3bb7-4a48-88f4-303805002b01",
   "metadata": {},
   "outputs": [
    {
     "name": "stdout",
     "output_type": "stream",
     "text": [
      "Personer som er knyttet til andre personer mor, far, sambo --> shape: (436, 5)\n",
      "┌───────────────────────┬─────────────┬───────┬──────────┬───────────────────┐\n",
      "│ FORNAVN               ┆ EFTERNAVN   ┆ type  ┆ MedlemID ┆ ConnectedMedlemID │\n",
      "│ ---                   ┆ ---         ┆ ---   ┆ ---      ┆ ---               │\n",
      "│ str                   ┆ str         ┆ str   ┆ i64      ┆ i64               │\n",
      "╞═══════════════════════╪═════════════╪═══════╪══════════╪═══════════════════╡\n",
      "│ Martin Daniel Peter   ┆ Aeschlimann ┆ SamID ┆ 13812    ┆ 13617             │\n",
      "│ Terje                 ┆ Alræk       ┆ SamID ┆ 13803    ┆ 12705             │\n",
      "│ Gry Veronica          ┆ Alsos       ┆ SamID ┆ 14800    ┆ 12729             │\n",
      "│ Vahan                 ┆ Babayan     ┆ SamID ┆ 14792    ┆ 14631             │\n",
      "│ Jorun                 ┆ Barane      ┆ SamID ┆ 15537    ┆ 14463             │\n",
      "│ …                     ┆ …           ┆ …     ┆ …        ┆ …                 │\n",
      "│ Kristoffer Nikolai    ┆ Wüthrich    ┆ FarID ┆ 12512    ┆ 11267             │\n",
      "│ Ole Vestergaard       ┆ Wüthrich    ┆ FarID ┆ 11267    ┆ 11267             │\n",
      "│ Solveig Maria         ┆ Wüthrich    ┆ FarID ┆ 13253    ┆ 11267             │\n",
      "│ Magnus Horgen         ┆ Øren        ┆ FarID ┆ 14432    ┆ 11027             │\n",
      "│ Valborg  Maria Horgen ┆ Øren        ┆ FarID ┆ 14294    ┆ 11027             │\n",
      "└───────────────────────┴─────────────┴───────┴──────────┴───────────────────┘\n"
     ]
    }
   ],
   "source": [
    "# Henter ut alle personer som har andre personer knyttet til seg\n",
    "# Fornavn og etternavn hentes også på personen som har tilknyttninger\n",
    "df_connectedMedlemer = pl.concat([\n",
    "    df.filter(pl.col(c).is_not_null())\n",
    "      .select(\n",
    "          pl.col(\"FORNAVN\"),\n",
    "          pl.col(\"EFTERNAVN\"),\n",
    "          pl.lit(c).alias(\"type\"),\n",
    "          pl.col(\"MedlemID\"),\n",
    "          pl.col(c).alias(\"ConnectedMedlemID\")\n",
    "      )\n",
    "    for c in [\"SamID\", \"MorID\", \"FarID\"]\n",
    "])\n",
    "print(\"Personer som er knyttet til andre personer mor, far, sambo -->\", df_connectedMedlemer)"
   ]
  },
  {
   "cell_type": "code",
   "execution_count": 7,
   "id": "3b162c31-c9f8-4fd1-9f99-d2938c580f37",
   "metadata": {},
   "outputs": [
    {
     "name": "stdout",
     "output_type": "stream",
     "text": [
      "missing ids --> shape: (35, 1)\n",
      "┌──────────┐\n",
      "│ MedlemID │\n",
      "│ ---      │\n",
      "│ i64      │\n",
      "╞══════════╡\n",
      "│ 11025    │\n",
      "│ 11112    │\n",
      "│ 11113    │\n",
      "│ 11212    │\n",
      "│ 11215    │\n",
      "│ …        │\n",
      "│ 14743    │\n",
      "│ 15444    │\n",
      "│ 15445    │\n",
      "│ 15485    │\n",
      "│ 15533    │\n",
      "└──────────┘\n",
      "Liste over samenkoblede personer, etter at ugyldige er slettet --> shape: (380, 5)\n",
      "┌───────────────────────┬─────────────┬───────┬──────────┬───────────────────┐\n",
      "│ FORNAVN               ┆ EFTERNAVN   ┆ type  ┆ MedlemID ┆ ConnectedMedlemID │\n",
      "│ ---                   ┆ ---         ┆ ---   ┆ ---      ┆ ---               │\n",
      "│ str                   ┆ str         ┆ str   ┆ i64      ┆ i64               │\n",
      "╞═══════════════════════╪═════════════╪═══════╪══════════╪═══════════════════╡\n",
      "│ Martin Daniel Peter   ┆ Aeschlimann ┆ SamID ┆ 13812    ┆ 13617             │\n",
      "│ Terje                 ┆ Alræk       ┆ SamID ┆ 13803    ┆ 12705             │\n",
      "│ Gry Veronica          ┆ Alsos       ┆ SamID ┆ 14800    ┆ 12729             │\n",
      "│ Vahan                 ┆ Babayan     ┆ SamID ┆ 14792    ┆ 14631             │\n",
      "│ Jorun                 ┆ Barane      ┆ SamID ┆ 15537    ┆ 14463             │\n",
      "│ …                     ┆ …           ┆ …     ┆ …        ┆ …                 │\n",
      "│ Kristoffer Nikolai    ┆ Wüthrich    ┆ FarID ┆ 12512    ┆ 11267             │\n",
      "│ Ole Vestergaard       ┆ Wüthrich    ┆ FarID ┆ 11267    ┆ 11267             │\n",
      "│ Solveig Maria         ┆ Wüthrich    ┆ FarID ┆ 13253    ┆ 11267             │\n",
      "│ Magnus Horgen         ┆ Øren        ┆ FarID ┆ 14432    ┆ 11027             │\n",
      "│ Valborg  Maria Horgen ┆ Øren        ┆ FarID ┆ 14294    ┆ 11027             │\n",
      "└───────────────────────┴─────────────┴───────┴──────────┴───────────────────┘\n"
     ]
    }
   ],
   "source": [
    "# Finner alle ID'er som ikke eksisterer.\n",
    "# Her er det feil i dato og dette er en del av vasken\n",
    "\n",
    "# 1. Anti-join: IDs in connected that aren't in df\n",
    "missing_ids = df_connectedMedlemer.join(\n",
    "    df, \n",
    "    left_on=\"ConnectedMedlemID\",      # Key in the left DataFrame\n",
    "    right_on=\"MedlemID\",              # Key in the right DataFrame\n",
    "    how=\"anti\"\n",
    ").select(pl.col(\"ConnectedMedlemID\").unique().alias(\"MedlemID\"))\n",
    "print(\"missing ids -->\", missing_ids)\n",
    "\n",
    "# Sletter alle ID'er som ikke finnes fra vår Connected liste\n",
    "# Sletter alle koblinger til personer som ikke finnes i registeret\n",
    "df_connectedMedlemer = df_connectedMedlemer.join(\n",
    "    missing_ids,\n",
    "    left_on=\"ConnectedMedlemID\",      # Key in the left DataFrame\n",
    "    right_on=\"MedlemID\",              # Key in the right DataFrame\n",
    "    how=\"anti\"\n",
    ")\n",
    "print(\"Liste over samenkoblede personer, etter at ugyldige er slettet -->\", df_connectedMedlemer)"
   ]
  },
  {
   "cell_type": "code",
   "execution_count": 8,
   "id": "390f3960-1cb6-4bc7-8440-86548de6580d",
   "metadata": {},
   "outputs": [],
   "source": [
    "\n",
    "# Tror ikke dette blir nødvendig. Personers forbindelser blir oppdatert etter at alle\n",
    "# relevante personer er lagt inn i egen ferdig vasket tabell under \"df_connectedMedlemer\"\n",
    "\n",
    "# Oppdaterer df og setter alle ikke eksisterende kontakter til null\n",
    "#df = df.with_columns([\n",
    "#    pl.when(pl.col(c).is_in(missing_ids[\"MedlemID\"].to_list()))\n",
    "#      .then(None)\n",
    "#      .otherwise(pl.col(c))\n",
    "#      .alias(c)\n",
    "#    for c in [\"SamID\", \"MorID\", \"FarID\"]\n",
    "#])\n"
   ]
  },
  {
   "cell_type": "code",
   "execution_count": 9,
   "id": "9c10f925-df62-46fa-ba85-11940b5018eb",
   "metadata": {},
   "outputs": [
    {
     "name": "stdout",
     "output_type": "stream",
     "text": [
      "Liste over samenkoblede personer, brukes til konvertering av relasjoner --> shape: (380, 7)\n",
      "┌────────────────┬─────────────┬───────┬──────────┬────────────────┬───────────────┬───────────────┐\n",
      "│ FORNAVN        ┆ EFTERNAVN   ┆ type  ┆ MedlemID ┆ ConnectedMedle ┆ Connected_FOR ┆ Connected_EFT │\n",
      "│ ---            ┆ ---         ┆ ---   ┆ ---      ┆ mID            ┆ NAVN          ┆ ERNAVN        │\n",
      "│ str            ┆ str         ┆ str   ┆ i64      ┆ ---            ┆ ---           ┆ ---           │\n",
      "│                ┆             ┆       ┆          ┆ i64            ┆ str           ┆ str           │\n",
      "╞════════════════╪═════════════╪═══════╪══════════╪════════════════╪═══════════════╪═══════════════╡\n",
      "│ Martin Daniel  ┆ Aeschlimann ┆ SamID ┆ 13812    ┆ 13617          ┆ Drude         ┆ Isene         │\n",
      "│ Peter          ┆             ┆       ┆          ┆                ┆               ┆               │\n",
      "│ Terje          ┆ Alræk       ┆ SamID ┆ 13803    ┆ 12705          ┆ Torild        ┆ Alræk         │\n",
      "│ Gry Veronica   ┆ Alsos       ┆ SamID ┆ 14800    ┆ 12729          ┆ Jakob         ┆ Kvalvaag      │\n",
      "│ Vahan          ┆ Babayan     ┆ SamID ┆ 14792    ┆ 14631          ┆ Mari          ┆ Tougu         │\n",
      "│ Jorun          ┆ Barane      ┆ SamID ┆ 15537    ┆ 14463          ┆ Morten        ┆ Clemetsen     │\n",
      "│ …              ┆ …           ┆ …     ┆ …        ┆ …              ┆ …             ┆ …             │\n",
      "│ Kristoffer     ┆ Wüthrich    ┆ FarID ┆ 12512    ┆ 11267          ┆ Ole           ┆ Wüthrich      │\n",
      "│ Nikolai        ┆             ┆       ┆          ┆                ┆ Vestergaard   ┆               │\n",
      "│ Ole            ┆ Wüthrich    ┆ FarID ┆ 11267    ┆ 11267          ┆ Ole           ┆ Wüthrich      │\n",
      "│ Vestergaard    ┆             ┆       ┆          ┆                ┆ Vestergaard   ┆               │\n",
      "│ Solveig Maria  ┆ Wüthrich    ┆ FarID ┆ 13253    ┆ 11267          ┆ Ole           ┆ Wüthrich      │\n",
      "│                ┆             ┆       ┆          ┆                ┆ Vestergaard   ┆               │\n",
      "│ Magnus Horgen  ┆ Øren        ┆ FarID ┆ 14432    ┆ 11027          ┆ Robert Claus  ┆ Øren          │\n",
      "│ Valborg  Maria ┆ Øren        ┆ FarID ┆ 14294    ┆ 11027          ┆ Robert Claus  ┆ Øren          │\n",
      "│ Horgen         ┆             ┆       ┆          ┆                ┆               ┆               │\n",
      "└────────────────┴─────────────┴───────┴──────────┴────────────────┴───────────────┴───────────────┘\n"
     ]
    }
   ],
   "source": [
    "# Henter inn fornavn og etternavn til den personen som er tilknyttet\n",
    "# Denne listen benyttes til å koble alle personer i Cornerstone\n",
    "# etter at alle personer er lagt inn.\n",
    "\n",
    "# Perform the join by preparing the right side first\n",
    "df_connectedMedlemer = df_connectedMedlemer.join(\n",
    "    # 1. Select and rename columns from 'df' on the fly\n",
    "    df.select(\n",
    "        pl.col(\"MedlemID\"),  # The join key must be included\n",
    "        pl.col(\"FORNAVN\").alias(\"Connected_FORNAVN\"),\n",
    "        pl.col(\"EFTERNAVN\").alias(\"Connected_EFTERNAVN\")\n",
    "    ),\n",
    "    left_on=\"ConnectedMedlemID\",\n",
    "    right_on=\"MedlemID\",\n",
    "    how=\"left\"  # Using 'left' is safer to not lose rows from the left table\n",
    ")\n",
    "print(\"Liste over samenkoblede personer, brukes til konvertering av relasjoner -->\", df_connectedMedlemer)"
   ]
  },
  {
   "cell_type": "code",
   "execution_count": 10,
   "id": "f297120c-56ec-4678-a56d-4be9aad4ef96",
   "metadata": {},
   "outputs": [
    {
     "name": "stdout",
     "output_type": "stream",
     "text": [
      "Liste over personers ID som vi antar har høy data kvalitet --> shape: (407, 1)\n",
      "┌──────────┐\n",
      "│ MedlemID │\n",
      "│ ---      │\n",
      "│ i64      │\n",
      "╞══════════╡\n",
      "│ 11018    │\n",
      "│ 11027    │\n",
      "│ 11084    │\n",
      "│ 11208    │\n",
      "│ 11209    │\n",
      "│ …        │\n",
      "│ 15638    │\n",
      "│ 15649    │\n",
      "│ 15650    │\n",
      "│ 15659    │\n",
      "│ 15663    │\n",
      "└──────────┘\n"
     ]
    }
   ],
   "source": [
    "# Samler sammen personer som vi antar har kavalitets data\n",
    "# Til den første runden av konvertering\n",
    "df_kvalitetsdataID = pl.concat([\n",
    "    # Alle personer som har kontakter på seg\n",
    "    df_connectedMedlemer[\"MedlemID\"],\n",
    "    # Alle personer som er en kontakt på en annen person\n",
    "    df_connectedMedlemer[\"ConnectedMedlemID\"],\n",
    "    # Alle personer som har status som medlem\n",
    "    df.filter(pl.col(\"Kategori\").str.starts_with(\"M\"))[\"MedlemID\"]\n",
    "]).unique().to_frame(\"MedlemID\")\n",
    "print(\"Liste over personers ID som vi antar har høy data kvalitet -->\", df_kvalitetsdataID)"
   ]
  },
  {
   "cell_type": "code",
   "execution_count": 12,
   "id": "073c7b7f-0c35-48e9-9133-c07fe1cd1cc1",
   "metadata": {},
   "outputs": [
    {
     "name": "stdout",
     "output_type": "stream",
     "text": [
      "Liste over personer som vi antar har høy data kvalitet --> shape: (407, 46)\n",
      "┌──────────┬────────────┬────────────┬──────────┬───┬───────────┬──────────┬───────────┬───────────┐\n",
      "│ MedlemID ┆ Innmelding ┆ Er den     ┆ Menighet ┆ … ┆ UtmeldtDa ┆ DødsDato ┆ Kommune   ┆ KID-nr    │\n",
      "│ ---      ┆ sdato      ┆ innmeldte  ┆ ---      ┆   ┆ to        ┆ ---      ┆ ---       ┆ ---       │\n",
      "│ i64      ┆ ---        ┆ døpt ?     ┆ str      ┆   ┆ ---       ┆ str      ┆ str       ┆ str       │\n",
      "│          ┆ date       ┆ ---        ┆          ┆   ┆ date      ┆          ┆           ┆           │\n",
      "│          ┆            ┆ bool       ┆          ┆   ┆           ┆          ┆           ┆           │\n",
      "╞══════════╪════════════╪════════════╪══════════╪═══╪═══════════╪══════════╪═══════════╪═══════════╡\n",
      "│ 13812    ┆ null       ┆ false      ┆ Bergen   ┆ … ┆ null      ┆ null     ┆ AURLAND   ┆           │\n",
      "│ 14571    ┆ 2002-09-30 ┆ false      ┆ Bergen   ┆ … ┆ 2015-08-1 ┆ null     ┆           ┆           │\n",
      "│          ┆            ┆            ┆          ┆   ┆ 5         ┆          ┆           ┆           │\n",
      "│ 14570    ┆ 2002-09-30 ┆ false      ┆          ┆ … ┆ null      ┆ null     ┆           ┆           │\n",
      "│ 15535    ┆ null       ┆ false      ┆          ┆ … ┆ null      ┆ null     ┆           ┆           │\n",
      "│ 13033    ┆ null       ┆ false      ┆          ┆ … ┆ null      ┆ null     ┆ BERGEN    ┆ 100881007 │\n",
      "│          ┆            ┆            ┆          ┆   ┆           ┆          ┆           ┆ 39        │\n",
      "│ …        ┆ …          ┆ …          ┆ …        ┆ … ┆ …         ┆ …        ┆ …         ┆ …         │\n",
      "│ 12791    ┆ null       ┆ false      ┆          ┆ … ┆ null      ┆ null     ┆ HAUGESUND ┆           │\n",
      "│ 11346    ┆ null       ┆ false      ┆          ┆ … ┆ null      ┆ null     ┆ BERGEN    ┆           │\n",
      "│ 15638    ┆ 2023-03-04 ┆ false      ┆ Bergen   ┆ … ┆ null      ┆ null     ┆           ┆           │\n",
      "│ 11759    ┆ null       ┆ false      ┆          ┆ … ┆ null      ┆ null     ┆ SVEIO     ┆           │\n",
      "│ 11758    ┆ null       ┆ false      ┆          ┆ … ┆ null      ┆ null     ┆ SVEIO     ┆           │\n",
      "└──────────┴────────────┴────────────┴──────────┴───┴───────────┴──────────┴───────────┴───────────┘\n",
      "Liste over personer som vi antar har dårlig data kvalitet --> shape: (175, 46)\n",
      "┌──────────┬────────────┬────────────┬──────────┬───┬────────────┬──────────┬─────────┬────────────┐\n",
      "│ MedlemID ┆ Innmelding ┆ Er den     ┆ Menighet ┆ … ┆ UtmeldtDat ┆ DødsDato ┆ Kommune ┆ KID-nr     │\n",
      "│ ---      ┆ sdato      ┆ innmeldte  ┆ ---      ┆   ┆ o          ┆ ---      ┆ ---     ┆ ---        │\n",
      "│ i64      ┆ ---        ┆ døpt ?     ┆ str      ┆   ┆ ---        ┆ str      ┆ str     ┆ str        │\n",
      "│          ┆ date       ┆ ---        ┆          ┆   ┆ date       ┆          ┆         ┆            │\n",
      "│          ┆            ┆ bool       ┆          ┆   ┆            ┆          ┆         ┆            │\n",
      "╞══════════╪════════════╪════════════╪══════════╪═══╪════════════╪══════════╪═════════╪════════════╡\n",
      "│ 14642    ┆ null       ┆ false      ┆          ┆ … ┆ null       ┆ null     ┆         ┆            │\n",
      "│ 15493    ┆ null       ┆ false      ┆          ┆ … ┆ null       ┆ null     ┆         ┆ 1062810230 │\n",
      "│          ┆            ┆            ┆          ┆   ┆            ┆          ┆         ┆ 2          │\n",
      "│ 14750    ┆ null       ┆ false      ┆          ┆ … ┆ null       ┆ null     ┆         ┆            │\n",
      "│ 14643    ┆ null       ┆ false      ┆          ┆ … ┆ null       ┆ null     ┆         ┆            │\n",
      "│ 15591    ┆ null       ┆ true       ┆          ┆ … ┆ null       ┆ null     ┆         ┆            │\n",
      "│ …        ┆ …          ┆ …          ┆ …        ┆ … ┆ …          ┆ …        ┆ …       ┆ …          │\n",
      "│ 14693    ┆ null       ┆ false      ┆          ┆ … ┆ null       ┆ null     ┆         ┆ 1011210039 │\n",
      "│          ┆            ┆            ┆          ┆   ┆            ┆          ┆         ┆ 0          │\n",
      "│ 14635    ┆ null       ┆ false      ┆          ┆ … ┆ null       ┆ null     ┆         ┆            │\n",
      "│ 15524    ┆ 2017-01-18 ┆ false      ┆          ┆ … ┆ null       ┆ null     ┆         ┆            │\n",
      "│ 14641    ┆ null       ┆ false      ┆          ┆ … ┆ null       ┆ null     ┆         ┆            │\n",
      "│ 12529    ┆ null       ┆ false      ┆ Bergen   ┆ … ┆ 1998-06-24 ┆ null     ┆ SVEIO   ┆            │\n",
      "└──────────┴────────────┴────────────┴──────────┴───┴────────────┴──────────┴─────────┴────────────┘\n"
     ]
    }
   ],
   "source": [
    "# Lager en liste av personer som har god kvalitet på data\n",
    "# One‑liner using a semi‑join (no need for unique() – keeps only df rows whose MedlemID is in the concatenated list)\n",
    "df_kvalitetsData = df.join(\n",
    "    df_kvalitetsdataID,\n",
    "    on=\"MedlemID\"\n",
    ")\n",
    "print(\"Liste over personer som vi antar har høy data kvalitet -->\",df_kvalitetsData)\n",
    "\n",
    "\n",
    "# Lager en liste av personer som sjanse for dårligere kvalitet på data\n",
    "# Option 1: Anti‑join (most idiomatic & performant)\n",
    "df_looserData = df.join(\n",
    "    df_kvalitetsData,\n",
    "    on=\"MedlemID\",\n",
    "    how=\"anti\"\n",
    ")\n",
    "print(\"Liste over personer som vi antar har dårlig data kvalitet -->\", df_looserData)"
   ]
  },
  {
   "cell_type": "code",
   "execution_count": null,
   "id": "df1a795a-a579-4cd0-9673-703c5b0aa714",
   "metadata": {},
   "outputs": [],
   "source": []
  }
 ],
 "metadata": {
  "kernelspec": {
   "display_name": "Python 3 (ipykernel)",
   "language": "python",
   "name": "python3"
  },
  "language_info": {
   "codemirror_mode": {
    "name": "ipython",
    "version": 3
   },
   "file_extension": ".py",
   "mimetype": "text/x-python",
   "name": "python",
   "nbconvert_exporter": "python",
   "pygments_lexer": "ipython3",
   "version": "3.11.2"
  }
 },
 "nbformat": 4,
 "nbformat_minor": 5
}
