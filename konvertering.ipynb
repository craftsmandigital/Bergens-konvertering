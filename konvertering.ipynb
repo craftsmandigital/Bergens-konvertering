{
 "cells": [
  {
   "cell_type": "markdown",
   "id": "e3844100-7f6a-453a-a125-43b4ba3b2cc8",
   "metadata": {},
   "source": [
    "# Konvertering av Bergens registeret\n",
    "\n"
   ]
  },
  {
   "cell_type": "code",
   "execution_count": 1,
   "id": "395a0e6c-ce24-46fb-b949-9a98563c3540",
   "metadata": {},
   "outputs": [
    {
     "data": {
      "text/plain": [
       "polars.config.Config"
      ]
     },
     "execution_count": 1,
     "metadata": {},
     "output_type": "execute_result"
    }
   ],
   "source": [
    "from hentOgVaskData import hent_og_vask_data\n",
    "from bergens_kolonner_med_verdi import bergens_kolonner_med_verdi\n",
    "import polars as pl\n",
    "pl.Config.set_tbl_rows(30)"
   ]
  },
  {
   "cell_type": "code",
   "execution_count": 2,
   "id": "8a80bd2e-7070-4f64-9573-0b46a4c8d0ce",
   "metadata": {},
   "outputs": [
    {
     "name": "stderr",
     "output_type": "stream",
     "text": [
      "Could not determine dtype for column 43, falling back to string\n"
     ]
    },
    {
     "name": "stdout",
     "output_type": "stream",
     "text": [
      "Antall medlemmer i Bergens registeret --> shape: (281,)\n",
      "Series: 'MedlemID' [i64]\n",
      "[\n",
      "\t14570\n",
      "\t15536\n",
      "\t14800\n",
      "\t14720\n",
      "\t13073\n",
      "\t12181\n",
      "\t14015\n",
      "\t15442\n",
      "\t14791\n",
      "\t11208\n",
      "\t13277\n",
      "\t15537\n",
      "\t12968\n",
      "\t14462\n",
      "\t11209\n",
      "\t…\n",
      "\t11692\n",
      "\t13649\n",
      "\t14744\n",
      "\t12506\n",
      "\t14482\n",
      "\t14481\n",
      "\t14484\n",
      "\t14483\n",
      "\t14063\n",
      "\t13622\n",
      "\t14432\n",
      "\t11027\n",
      "\t14294\n",
      "\t13451\n",
      "\t15638\n",
      "]\n"
     ]
    }
   ],
   "source": [
    "# leser inn Data exportert i fra Bergens Access database\n",
    "# I fra den tabellen som heter \"tblInnmeldte\"\n",
    "df = hent_og_vask_data()\n",
    "# Medlems sjekk, det er viktig at dette tallet er nokså likt som rapportert in til statsforvalteren 282\n",
    "print(\"Antall medlemmer i Bergens registeret -->\", df.filter(pl.col(\"Kategori\").str.starts_with(\"M\"))[\"MedlemID\"])\n",
    "#print(\"Alle data i fra excel fil -->\", df)"
   ]
  },
  {
   "cell_type": "code",
   "execution_count": 4,
   "id": "877feea7-d417-4ed3-bea7-7ecb4351d3b5",
   "metadata": {},
   "outputs": [
    {
     "name": "stdout",
     "output_type": "stream",
     "text": [
      "\n",
      "--- 2. Clean, Pivoted Statistics (Corrected and Easy to Read!) ---\n",
      "shape: (46, 10)\n",
      "┌──────────┬───────┬─────────┬─────────┬─────────┬─────────┬─────────┬─────────┬─────────┬─────────┐\n",
      "│ column_n ┆ count ┆ null_co ┆ mean    ┆ std     ┆ min     ┆ 25%     ┆ 50%     ┆ 75%     ┆ max     │\n",
      "│ ame      ┆ ---   ┆ unt     ┆ ---     ┆ ---     ┆ ---     ┆ ---     ┆ ---     ┆ ---     ┆ ---     │\n",
      "│ ---      ┆ str   ┆ ---     ┆ str     ┆ str     ┆ str     ┆ str     ┆ str     ┆ str     ┆ str     │\n",
      "│ str      ┆       ┆ str     ┆         ┆         ┆         ┆         ┆         ┆         ┆         │\n",
      "╞══════════╪═══════╪═════════╪═════════╪═════════╪═════════╪═════════╪═════════╪═════════╪═════════╡\n",
      "│ MedlemID ┆ 582.0 ┆ 0.0     ┆ 13875.5 ┆ 1373.23 ┆ 11018.0 ┆ 12724.0 ┆ 14444.0 ┆ 14764.0 ┆ 15664.0 │\n",
      "│          ┆       ┆         ┆ 6872852 ┆ 7697595 ┆         ┆         ┆         ┆         ┆         │\n",
      "│          ┆       ┆         ┆ 2338    ┆ 6727    ┆         ┆         ┆         ┆         ┆         │\n",
      "│ Innmeldi ┆ 165   ┆ 417     ┆ 1993-09 ┆ null    ┆ 0221-12 ┆ 2000-04 ┆ 2001-12 ┆ 2008-07 ┆ 2024-12 │\n",
      "│ ngsdato  ┆       ┆         ┆ -18 09: ┆         ┆ -18     ┆ -23     ┆ -04     ┆ -06     ┆ -11     │\n",
      "│          ┆       ┆         ┆ 44:43.6 ┆         ┆         ┆         ┆         ┆         ┆         │\n",
      "│          ┆       ┆         ┆ 36000   ┆         ┆         ┆         ┆         ┆         ┆         │\n",
      "│ Er den   ┆ 582.0 ┆ 0.0     ┆ 0.11168 ┆ null    ┆ 0.0     ┆ null    ┆ null    ┆ null    ┆ 1.0     │\n",
      "│ innmeldt ┆       ┆         ┆ 3848797 ┆         ┆         ┆         ┆         ┆         ┆         │\n",
      "│ e døpt ? ┆       ┆         ┆ 25086   ┆         ┆         ┆         ┆         ┆         ┆         │\n",
      "│ Menighet ┆ 141   ┆ 441     ┆ null    ┆ null    ┆ Bergen  ┆ null    ┆ null    ┆ null    ┆ Bergen  │\n",
      "│ Fødested ┆ 70    ┆ 512     ┆ null    ┆ null    ┆ Bergen  ┆ null    ┆ null    ┆ null    ┆ Voss    │\n",
      "│ Dåpsdato ┆ 81    ┆ 501     ┆ 2000-02 ┆ null    ┆ 1950-07 ┆ 1995-09 ┆ 2000-02 ┆ 2003-05 ┆ 2023-06 │\n",
      "│          ┆       ┆         ┆ -27 12: ┆         ┆ -09     ┆ -23     ┆ -27     ┆ -20     ┆ -11     │\n",
      "│          ┆       ┆         ┆ 08:53.3 ┆         ┆         ┆         ┆         ┆         ┆         │\n",
      "│          ┆       ┆         ┆ 33000   ┆         ┆         ┆         ┆         ┆         ┆         │\n",
      "│ Ant barn ┆ 38.0  ┆ 544.0   ┆ 2.10526 ┆ 0.98060 ┆ 1.0     ┆ 1.0     ┆ 2.0     ┆ 3.0     ┆ 4.0     │\n",
      "│ under 15 ┆       ┆         ┆ 3157894 ┆ 8572326 ┆         ┆         ┆         ┆         ┆         │\n",
      "│ år       ┆       ┆         ┆ 7367    ┆ 1284    ┆         ┆         ┆         ┆         ┆         │\n",
      "│ Dåpskirk ┆ 62    ┆ 520     ┆ null    ┆ null    ┆ Aurland ┆ null    ┆ null    ┆ null    ┆ Åsane   │\n",
      "│ e/sted   ┆       ┆         ┆         ┆         ┆         ┆         ┆         ┆         ┆ Kirke   │\n",
      "│ Fødselsd ┆ 458   ┆ 124     ┆ 1971-12 ┆ null    ┆ 1910-04 ┆ 1954-03 ┆ 1977-07 ┆ 1990-09 ┆ 2023-03 │\n",
      "│ ato      ┆       ┆         ┆ -18 13: ┆         ┆ -30     ┆ -19     ┆ -10     ┆ -28     ┆ -18     │\n",
      "│          ┆       ┆         ┆ 53:11.2 ┆         ┆         ┆         ┆         ┆         ┆         │\n",
      "│          ┆       ┆         ┆ 66000   ┆         ┆         ┆         ┆         ┆         ┆         │\n",
      "│ Personnu ┆ 383   ┆ 199     ┆ null    ┆ null    ┆ 0103804 ┆ null    ┆ null    ┆ null    ┆ 3110754 │\n",
      "│ mmer     ┆       ┆         ┆         ┆         ┆ 6876    ┆         ┆         ┆         ┆ 8400    │\n",
      "│ EFTERNAV ┆ 582   ┆ 0       ┆ null    ┆ null    ┆ Aadland ┆ null    ┆ null    ┆ null    ┆ Øren    │\n",
      "│ N        ┆       ┆         ┆         ┆         ┆         ┆         ┆         ┆         ┆         │\n",
      "│ FORNAVN  ┆ 578   ┆ 4       ┆ null    ┆ null    ┆ Aarid   ┆ null    ┆ null    ┆ null    ┆ Øyvind  │\n",
      "│          ┆       ┆         ┆         ┆         ┆ Liland  ┆         ┆         ┆         ┆         │\n",
      "│ Stilling ┆ 53    ┆ 529     ┆ null    ┆ null    ┆ Adminin ┆ null    ┆ null    ┆ null    ┆ Student │\n",
      "│          ┆       ┆         ┆         ┆         ┆ strator ┆         ┆         ┆         ┆         │\n",
      "│ ADRESSE  ┆ 576   ┆ 6       ┆ null    ┆ null    ┆ Absalon ┆ null    ┆ null    ┆ null    ┆ Øvregat │\n",
      "│          ┆       ┆         ┆         ┆         ┆ Beyersg ┆         ┆         ┆         ┆ e 164   │\n",
      "│          ┆       ┆         ┆         ┆         ┆ ate 5   ┆         ┆         ┆         ┆         │\n",
      "│ E-postad ┆ 7     ┆ 575     ┆ null    ┆ null    ┆ anki-b@ ┆ null    ┆ null    ┆ null    ┆ saint-j │\n",
      "│ resse    ┆       ┆         ┆         ┆         ┆ online. ┆         ┆         ┆         ┆ auques@ │\n",
      "│          ┆       ┆         ┆         ┆         ┆ no      ┆         ┆         ┆         ┆ katamai │\n",
      "│          ┆       ┆         ┆         ┆         ┆         ┆         ┆         ┆         ┆ l.com   │\n",
      "│ POSTNR   ┆ 582   ┆ 0       ┆ null    ┆ null    ┆ 1165    ┆ null    ┆ null    ┆ null    ┆ 8980    │\n",
      "│ Og       ┆ 58    ┆ 524     ┆ null    ┆ null    ┆ og      ┆ null    ┆ null    ┆ null    ┆ og      │\n",
      "│ SAM_FOR  ┆ 48    ┆ 534     ┆ null    ┆ null    ┆ Agnar   ┆ null    ┆ null    ┆ null    ┆ Åge Chr │\n",
      "│          ┆       ┆         ┆         ┆         ┆         ┆         ┆         ┆         ┆ istian  │\n",
      "│ SAM_EFTE ┆ 48    ┆ 534     ┆ null    ┆ null    ┆ Aeschli ┆ null    ┆ null    ┆ null    ┆ Wüthric │\n",
      "│ R        ┆       ┆         ┆         ┆         ┆ mann    ┆         ┆         ┆         ┆ h       │\n",
      "│ Utsendel ┆ 137   ┆ 445     ┆ null    ┆ null    ┆ UB      ┆ null    ┆ null    ┆ null    ┆ UTM     │\n",
      "│ se       ┆       ┆         ┆         ┆         ┆         ┆         ┆         ┆         ┆         │\n",
      "│ Utsendel ┆ 201   ┆ 381     ┆ null    ┆ null    ┆ A       ┆ null    ┆ null    ┆ null    ┆ S       │\n",
      "│ ses kode ┆       ┆         ┆         ┆         ┆         ┆         ┆         ┆         ┆         │\n",
      "│ Telefon  ┆ 155   ┆ 427     ┆ null    ┆ null    ┆ 04 78   ┆ null    ┆ null    ┆ null    ┆ 97 12   │\n",
      "│ priv     ┆       ┆         ┆         ┆         ┆ 36 76   ┆         ┆         ┆         ┆ 91 15   │\n",
      "│ Telefon  ┆ 56    ┆ 526     ┆ null    ┆ null    ┆ 084 87  ┆ null    ┆ null    ┆ null    ┆ 998 63  │\n",
      "│ mob      ┆       ┆         ┆         ┆         ┆ 752     ┆         ┆         ┆         ┆ 789     │\n",
      "│ Sivilsta ┆ 198   ┆ 384     ┆ null    ┆ null    ┆ Annet   ┆ null    ┆ null    ┆ null    ┆ Ugift   │\n",
      "│ nd       ┆       ┆         ┆         ┆         ┆         ┆         ┆         ┆         ┆ mann    │\n",
      "│ Trossamf ┆ 273   ┆ 309     ┆ null    ┆ null    ┆ ????    ┆ null    ┆ null    ┆ null    ┆ Metodis │\n",
      "│ unn      ┆       ┆         ┆         ┆         ┆         ┆         ┆         ┆         ┆ tkirken │\n",
      "│          ┆       ┆         ┆         ┆         ┆         ┆         ┆         ┆         ┆ i Norge │\n",
      "│ Gift?    ┆ 582.0 ┆ 0.0     ┆ 0.09450 ┆ null    ┆ 0.0     ┆ null    ┆ null    ┆ null    ┆ 1.0     │\n",
      "│          ┆       ┆         ┆ 1718213 ┆         ┆         ┆         ┆         ┆         ┆         │\n",
      "│          ┆       ┆         ┆ 05842   ┆         ┆         ┆         ┆         ┆         ┆         │\n",
      "│ Utsendel ┆ 195   ┆ 387     ┆ null    ┆ null    ┆ E       ┆ null    ┆ null    ┆ null    ┆ P       │\n",
      "│ sesforma ┆       ┆         ┆         ┆         ┆         ┆         ┆         ┆         ┆         │\n",
      "│ t        ┆       ┆         ┆         ┆         ┆         ┆         ┆         ┆         ┆         │\n",
      "│ Ektemake ┆ 78    ┆ 504     ┆ null    ┆ null    ┆ ????    ┆ null    ┆ null    ┆ null    ┆ Metodis │\n",
      "│ ns tross ┆       ┆         ┆         ┆         ┆         ┆         ┆         ┆         ┆ tkirken │\n",
      "│ amfunn   ┆       ┆         ┆         ┆         ┆         ┆         ┆         ┆         ┆ i Norge │\n",
      "│ Anmerkni ┆ 193   ┆ 389     ┆ null    ┆ null    ┆ 17-10-9 ┆ null    ┆ null    ┆ null    ┆ Øystein │\n",
      "│ ng       ┆       ┆         ┆         ┆         ┆ 2       ┆         ┆         ┆         ┆ Løvlie  │\n",
      "│          ┆       ┆         ┆         ┆         ┆         ┆         ┆         ┆         ┆ f. 04.0 │\n",
      "│          ┆       ┆         ┆         ┆         ┆         ┆         ┆         ┆         ┆ 5.1969  │\n",
      "│ Kategori ┆ 578   ┆ 4       ┆ null    ┆ null    ┆ D       ┆ null    ┆ null    ┆ null    ┆ V       │\n",
      "│ Giro     ┆ 582.0 ┆ 0.0     ┆ 0.43127 ┆ null    ┆ 0.0     ┆ null    ┆ null    ┆ null    ┆ 1.0     │\n",
      "│          ┆       ┆         ┆ 1477663 ┆         ┆         ┆         ┆         ┆         ┆         │\n",
      "│          ┆       ┆         ┆ 23026   ┆         ┆         ┆         ┆         ┆         ┆         │\n",
      "│ RegDato  ┆ 581   ┆ 1       ┆ 2013-09 ┆ null    ┆ 1995-09 ┆ 2006-01 ┆ 2014-05 ┆ 2019-04 ┆ 2025-05 │\n",
      "│          ┆       ┆         ┆ -20 00: ┆         ┆ -08 11: ┆ -16 22: ┆ -31 20: ┆ -08 09: ┆ -31 19: │\n",
      "│          ┆       ┆         ┆ 41:46.9 ┆         ┆ 54:19   ┆ 20:24   ┆ 44:44   ┆ 15:06   ┆ 43:21   │\n",
      "│          ┆       ┆         ┆ 62000   ┆         ┆         ┆         ┆         ┆         ┆         │\n",
      "│ SamID    ┆ 91.0  ┆ 491.0   ┆ 13523.1 ┆ 1557.27 ┆ 11084.0 ┆ 11758.0 ┆ 14023.0 ┆ 14631.0 ┆ 15638.0 │\n",
      "│          ┆       ┆         ┆ 5384615 ┆ 5454996 ┆         ┆         ┆         ┆         ┆         │\n",
      "│          ┆       ┆         ┆ 3846    ┆ 6562    ┆         ┆         ┆         ┆         ┆         │\n",
      "│ FarID    ┆ 151.0 ┆ 431.0   ┆ 13517.4 ┆ 1491.04 ┆ 11025.0 ┆ 11690.0 ┆ 14023.0 ┆ 14480.0 ┆ 15628.0 │\n",
      "│          ┆       ┆         ┆ 4370860 ┆ 4468980 ┆         ┆         ┆         ┆         ┆         │\n",
      "│          ┆       ┆         ┆ 9271    ┆ 3257    ┆         ┆         ┆         ┆         ┆         │\n",
      "│ MorID    ┆ 194.0 ┆ 388.0   ┆ 13449.7 ┆ 1352.33 ┆ 11018.0 ┆ 12357.0 ┆ 13393.0 ┆ 14479.0 ┆ 15595.0 │\n",
      "│          ┆       ┆         ┆ 3711340 ┆ 0491983 ┆         ┆         ┆         ┆         ┆         │\n",
      "│          ┆       ┆         ┆ 2061    ┆ 4138    ┆         ┆         ┆         ┆         ┆         │\n",
      "│ Kjønn    ┆ 432   ┆ 150     ┆ null    ┆ null    ┆ K       ┆ null    ┆ null    ┆ null    ┆ M       │\n",
      "│ Svart?   ┆ 582.0 ┆ 0.0     ┆ 0.0     ┆ null    ┆ 0.0     ┆ null    ┆ null    ┆ null    ┆ 0.0     │\n",
      "│ Faddere  ┆ 60    ┆ 522     ┆ null    ┆ null    ┆ Angela  ┆ null    ┆ null    ┆ null    ┆ Widar   │\n",
      " │         ┆       ┆         ┆         ┆         ┆ Rawclif ┆         ┆         ┆         ┆ Aspeli\n",
      "│          ┆       ┆         ┆         ┆         ┆ fe;     ┆         ┆         ┆         ┆ Eli Lin │\n",
      "│          ┆       ┆         ┆         ┆         ┆ Petr    ┆         ┆         ┆         ┆ dberg   │\n",
      "│          ┆       ┆         ┆         ┆         ┆ Nejtek  ┆         ┆         ┆         ┆         │\n",
      "│ Er mor   ┆ 582.0 ┆ 0.0     ┆ 0.06357 ┆ null    ┆ 0.0     ┆ null    ┆ null    ┆ null    ┆ 1.0     │\n",
      "│ og far   ┆       ┆         ┆ 3883161 ┆         ┆         ┆         ┆         ┆         ┆         │\n",
      "│ gift?    ┆       ┆         ┆ 51202   ┆         ┆         ┆         ┆         ┆         ┆         │\n",
      "│ Prest    ┆ 65    ┆ 517     ┆ null    ┆ null    ┆ BA      ┆ null    ┆ null    ┆ null    ┆ Svenn   │\n",
      "│          ┆       ┆         ┆         ┆         ┆         ┆         ┆         ┆         ┆ Olav    │\n",
      "│          ┆       ┆         ┆         ┆         ┆         ┆         ┆         ┆         ┆ Kalvø   │\n",
      "│ Dåpsatte ┆ 582.0 ┆ 0.0     ┆ 0.08419 ┆ null    ┆ 0.0     ┆ null    ┆ null    ┆ null    ┆ 1.0     │\n",
      "│ st       ┆       ┆         ┆ 2439862 ┆         ┆         ┆         ┆         ┆         ┆         │\n",
      "│          ┆       ┆         ┆ 54296   ┆         ┆         ┆         ┆         ┆         ┆         │\n",
      "│ Søk      ┆ 1     ┆ 581     ┆ null    ┆ null    ┆ nilssen ┆ null    ┆ null    ┆ null    ┆ nilssen │\n",
      "│ UtmeldtD ┆ 5     ┆ 577     ┆ 2001-12 ┆ null    ┆ 1998-06 ┆ 1998-07 ┆ 1998-07 ┆ 1998-08 ┆ 2015-08 │\n",
      "│ ato      ┆       ┆         ┆ -14 00: ┆         ┆ -24     ┆ -01     ┆ -05     ┆ -29     ┆ -15     │\n",
      "│          ┆       ┆         ┆ 00:00   ┆         ┆         ┆         ┆         ┆         ┆         │\n",
      "│ DødsDato ┆ 2     ┆ 580     ┆ null    ┆ null    ┆ 2003-05 ┆ null    ┆ null    ┆ null    ┆ 2019-03 │\n",
      "│          ┆       ┆         ┆         ┆         ┆ -10 00: ┆         ┆         ┆         ┆ -12 00: │\n",
      "│          ┆       ┆         ┆         ┆         ┆ 00:00   ┆         ┆         ┆         ┆ 00:00   │\n",
      "│ Kommune  ┆ 285   ┆ 297     ┆ null    ┆ null    ┆ AURLAND ┆ null    ┆ null    ┆ null    ┆ ØLEN    │\n",
      "│ KID-nr   ┆ 107   ┆ 475     ┆ null    ┆ null    ┆ 1000510 ┆ null    ┆ null    ┆ null    ┆ 1207910 │\n",
      "│          ┆       ┆         ┆         ┆         ┆ 0036    ┆         ┆         ┆         ┆ 2922    │\n",
      "└──────────┴───────┴─────────┴─────────┴─────────┴─────────┴─────────┴─────────┴─────────┴─────────┘\n"
     ]
    },
    {
     "name": "stderr",
     "output_type": "stream",
     "text": [
      "/tmp/ipykernel_27708/1052446714.py:12: DeprecationWarning: the argument `columns` for `DataFrame.pivot` is deprecated. It was renamed to `on` in version 1.0.0.\n",
      "  .pivot(index=\"column_name\", columns=\"statistic\", values=\"value\")\n"
     ]
    },
    {
     "data": {
      "text/plain": [
       "polars.config.Config"
      ]
     },
     "execution_count": 4,
     "metadata": {},
     "output_type": "execute_result"
    }
   ],
   "source": [
    "# Statestikk over dataene i fra Bergen\n",
    "\n",
    "summary_wide = df.describe()\n",
    "# 2. Reshape it into a clean, readable format using the corrected code\n",
    "summary_clean = (\n",
    "    summary_wide\n",
    "    # Use the modern .unpivot() instead of .melt()\n",
    "    # Use 'statistic' as the index column\n",
    "    .unpivot(index=\"statistic\", variable_name=\"column_name\", value_name=\"value\")\n",
    "    \n",
    "    # The pivot operation also needs to reference 'statistic'\n",
    "    .pivot(index=\"column_name\", columns=\"statistic\", values=\"value\")\n",
    ")\n",
    "pl.Config.set_tbl_cols(-1)\n",
    "pl.Config.set_tbl_rows(-1)\n",
    "print(\"\\n--- 2. Clean, Pivoted Statistics (Corrected and Easy to Read!) ---\")\n",
    "print(summary_clean)\n",
    "pl.Config.set_tbl_cols(10)\n",
    "pl.Config.set_tbl_rows(10)"
   ]
  },
  {
   "cell_type": "code",
   "execution_count": 5,
   "id": "615f8b3d-3e71-488d-b2db-e9b9bceb9aaf",
   "metadata": {},
   "outputs": [
    {
     "data": {
      "text/plain": [
       "'\\ndf.select(\"MedlemID\", \"SamID\", \"FORNAVN\", \"EFTERNAVN\", \"Personnummer\"\\n         ).sort(\"SamID\"\\n               )#.filter(pl.col(\"Personnummer\").str.len_chars() == 6)\\n'"
      ]
     },
     "execution_count": 5,
     "metadata": {},
     "output_type": "execute_result"
    }
   ],
   "source": [
    "'''\n",
    "df.select(\"MedlemID\", \"SamID\", \"FORNAVN\", \"EFTERNAVN\", \"Personnummer\"\n",
    "         ).sort(\"SamID\"\n",
    "               )#.filter(pl.col(\"Personnummer\").str.len_chars() == 6)\n",
    "'''"
   ]
  },
  {
   "cell_type": "markdown",
   "id": "dc80c870-5025-4088-a2ad-9966257b834c",
   "metadata": {},
   "source": [
    "## Rekkefølge på konverteringen\n",
    "- Alle som har fødselsnummer, medlemmer med flere\n",
    "- Alle som er registrert med \"MedlemID\", \"SamID\", \"MorID\", \"FarID\"\n",
    "- Alle som har \"MedlemID\" i \"SamID\", \"MorID\", \"FarID\"\n",
    "- \n",
    "- Det vil være overlappende \"MedlemID\" for de som er listet over. Få ut en liste og krymp den til disticte verdier av \"MedlemID\"\n",
    "- Resterende personer vil ha datakvalitet av varierende kvalitet. Disse konverteres til slutt. Det er resterende som ikke er med i den oppbyggde \"MedlemID\" listen. Ingen av disse er medlemmer. De har heller ikke forbindelser til andre personer."
   ]
  },
  {
   "cell_type": "markdown",
   "id": "c5a0defe-bdaf-4846-8051-3a300ec5aae0",
   "metadata": {},
   "source": [
    "### Denne er ikke nødvendig, så lenge vi gjør den siste testen ved henting av data fra excel filen\n",
    "``` python\n",
    "df_medlemId = (\n",
    "    df\n",
    "    .filter(\n",
    "        (pl.col(\"Kategori\").str.starts_with(\"M\")) &\n",
    "        # Vet ikke hvorfor dette blir gjort, men det er det som skjer i access databasen \"qryMedlemmer\"\n",
    "        (pl.col(\"POSTNR\").is_between(pl.lit(\"100\"), pl.lit(\"9000\"), closed=\"both\"))\n",
    "    )\n",
    "    .select(\"MedlemID\")\n",
    ")\n",
    "df_medlemId\n",
    "```"
   ]
  },
  {
   "cell_type": "code",
   "execution_count": 6,
   "id": "390f3960-1cb6-4bc7-8440-86548de6580d",
   "metadata": {},
   "outputs": [],
   "source": [
    "\n",
    "# Tror ikke dette blir nødvendig. Personers forbindelser blir oppdatert etter at alle\n",
    "# relevante personer er lagt inn i egen ferdig vasket tabell under \"df_connectedMedlemer\"\n",
    "\n",
    "# Oppdaterer df og setter alle ikke eksisterende kontakter til null\n",
    "#df = df.with_columns([\n",
    "#    pl.when(pl.col(c).is_in(missing_ids[\"MedlemID\"].to_list()))\n",
    "#      .then(None)\n",
    "#      .otherwise(pl.col(c))\n",
    "#      .alias(c)\n",
    "#    for c in [\"SamID\", \"MorID\", \"FarID\"]\n",
    "#])\n"
   ]
  },
  {
   "cell_type": "markdown",
   "id": "5c087f35-d504-4743-8253-bdd8e5cc287f",
   "metadata": {},
   "source": [
    "# Konvertering utrekk"
   ]
  },
  {
   "cell_type": "code",
   "execution_count": 7,
   "id": "4e44c2dd-ed5b-4780-8e51-0270a198a3d3",
   "metadata": {},
   "outputs": [
    {
     "name": "stdout",
     "output_type": "stream",
     "text": [
      "shape: (13, 3)\n",
      "┌──────────────────┬─────────────┬─────────────────────────────────┐\n",
      "│ Access Kattegori ┆ Cornerstone ┆ Beskirvelse                     │\n",
      "│ ---              ┆ ---         ┆ ---                             │\n",
      "│ str              ┆ str         ┆ str                             │\n",
      "╞══════════════════╪═════════════╪═════════════════════════════════╡\n",
      "│ DB               ┆ null        ┆ ? dåpsbarn                      │\n",
      "│ DF               ┆ null        ┆ ? dåps foreldre                 │\n",
      "│ DØD              ┆ null        ┆ Blir satt til status død, egen… │\n",
      "│ FLY              ┆ null        ┆ ? Tror det betyr flyttet, kan … │\n",
      "│ M                ┆ Medlem      ┆ null                            │\n",
      "│ …                ┆ …           ┆ …                               │\n",
      "│ O                ┆ null        ┆ Organisasjon, Egen behandling   │\n",
      "│ P                ┆ null        ┆ ? p                             │\n",
      "│ D                ┆ null        ┆ null                            │\n",
      "│ UTM              ┆ null        ┆ Kan eventuelt legge person inn… │\n",
      "│ V                ┆ null        ┆ null                            │\n",
      "└──────────────────┴─────────────┴─────────────────────────────────┘\n",
      "shape: (10, 3)\n",
      "┌────────────────────┬─────────────┬──────────────────┐\n",
      "│ Access Sivilstatus ┆ Cornerstone ┆ Beskrivelse      │\n",
      "│ ---                ┆ ---         ┆ ---              │\n",
      "│ str                ┆ str         ┆ str              │\n",
      "╞════════════════════╪═════════════╪══════════════════╡\n",
      "│ Gift mann          ┆ Gift        ┆ null             │\n",
      "│ Separet mann       ┆ Separert    ┆ null             │\n",
      "│ Fraskilt kvinne    ┆ Skilt       ┆ null             │\n",
      "│ Pikebarn           ┆ Singel      ┆ Usikker på denne │\n",
      "│ Guttebarn          ┆ Singel      ┆ Usikker på denne │\n",
      "│ Ugift kvinne       ┆ Singel      ┆ null             │\n",
      "│ Ugift mann         ┆ Singel      ┆ null             │\n",
      "│ Gift kvinne        ┆ Gift        ┆ null             │\n",
      "│ Separert kvinne    ┆ Separert    ┆ null             │\n",
      "│ Fraskilt mann      ┆ Skilt       ┆ null             │\n",
      "└────────────────────┴─────────────┴──────────────────┘\n"
     ]
    }
   ],
   "source": [
    "# Leser inn hjelpe tabeller for Medlemstyper og Sivilstatus\n",
    "df_sivil = pl.read_excel(\"sivil_status.xlsx\")\n",
    "df_medlems_type = pl.read_excel(\"kategorier.xlsx\")\n",
    "\n",
    "print(df_medlems_type)\n",
    "print(df_sivil)"
   ]
  },
  {
   "cell_type": "code",
   "execution_count": 8,
   "id": "449d5688-6d43-400f-a0bf-6a004d07bbcc",
   "metadata": {},
   "outputs": [],
   "source": [
    "df = bergens_kolonner_med_verdi(df, \"Anmerkning\")\n",
    "#df_test.select(\"FORNAVN\", \"EFTERNAVN\", \"Anmerkning\")"
   ]
  },
  {
   "cell_type": "code",
   "execution_count": 20,
   "id": "37739533-e566-4bde-a26a-740652101762",
   "metadata": {},
   "outputs": [
    {
     "ename": "ShapeError",
     "evalue": "Series length 251 doesn't match the DataFrame height of 582",
     "output_type": "error",
     "traceback": [
      "\u001b[31m---------------------------------------------------------------------------\u001b[39m",
      "\u001b[31mShapeError\u001b[39m                                Traceback (most recent call last)",
      "\u001b[36mCell\u001b[39m\u001b[36m \u001b[39m\u001b[32mIn[20]\u001b[39m\u001b[32m, line 9\u001b[39m\n\u001b[32m      2\u001b[39m gender_map = {\n\u001b[32m      3\u001b[39m     \u001b[33m\"\u001b[39m\u001b[33mM\u001b[39m\u001b[33m\"\u001b[39m: \u001b[33m\"\u001b[39m\u001b[33mMann\u001b[39m\u001b[33m\"\u001b[39m,\n\u001b[32m      4\u001b[39m     \u001b[33m\"\u001b[39m\u001b[33mK\u001b[39m\u001b[33m\"\u001b[39m: \u001b[33m\"\u001b[39m\u001b[33mKvinne\u001b[39m\u001b[33m\"\u001b[39m\n\u001b[32m      5\u001b[39m }\n\u001b[32m      7\u001b[39m DATE_FORMAT :\u001b[38;5;28mstr\u001b[39m = \u001b[33m\"\u001b[39m\u001b[38;5;132;01m%d\u001b[39;00m\u001b[33m.\u001b[39m\u001b[33m%\u001b[39m\u001b[33mm.\u001b[39m\u001b[33m%\u001b[39m\u001b[33mY\u001b[39m\u001b[33m\"\u001b[39m\n\u001b[32m      8\u001b[39m konverterings_tabell = (\n\u001b[32m----> \u001b[39m\u001b[32m9\u001b[39m     \u001b[43mdf\u001b[49m\n\u001b[32m     10\u001b[39m \u001b[43m        \u001b[49m\u001b[43m.\u001b[49m\u001b[43mjoin\u001b[49m\u001b[43m(\u001b[49m\n\u001b[32m     11\u001b[39m \u001b[43m            \u001b[49m\u001b[38;5;66;43;03m# 1. First join: rename \"Cornerstone\" to be specific\u001b[39;49;00m\n\u001b[32m     12\u001b[39m \u001b[43m            \u001b[49m\u001b[43mdf_medlems_type\u001b[49m\u001b[43m.\u001b[49m\u001b[43mselect\u001b[49m\u001b[43m(\u001b[49m\u001b[43m[\u001b[49m\n\u001b[32m     13\u001b[39m \u001b[43m                \u001b[49m\u001b[33;43m\"\u001b[39;49m\u001b[33;43mAccess Kattegori\u001b[39;49m\u001b[33;43m\"\u001b[39;49m\u001b[43m,\u001b[49m\u001b[43m \u001b[49m\n\u001b[32m     14\u001b[39m \u001b[43m                \u001b[49m\u001b[43mpl\u001b[49m\u001b[43m.\u001b[49m\u001b[43mcol\u001b[49m\u001b[43m(\u001b[49m\u001b[33;43m\"\u001b[39;49m\u001b[33;43mCornerstone\u001b[39;49m\u001b[33;43m\"\u001b[39;49m\u001b[43m)\u001b[49m\u001b[43m.\u001b[49m\u001b[43malias\u001b[49m\u001b[43m(\u001b[49m\u001b[33;43m\"\u001b[39;49m\u001b[33;43mKategori_Cornerstone\u001b[39;49m\u001b[33;43m\"\u001b[39;49m\u001b[43m)\u001b[49m\n\u001b[32m     15\u001b[39m \u001b[43m            \u001b[49m\u001b[43m]\u001b[49m\u001b[43m)\u001b[49m\u001b[43m,\u001b[49m\n\u001b[32m     16\u001b[39m \u001b[43m            \u001b[49m\u001b[43mleft_on\u001b[49m\u001b[43m=\u001b[49m\u001b[33;43m\"\u001b[39;49m\u001b[33;43mKategori\u001b[39;49m\u001b[33;43m\"\u001b[39;49m\u001b[43m,\u001b[49m\n\u001b[32m     17\u001b[39m \u001b[43m            \u001b[49m\u001b[43mright_on\u001b[49m\u001b[43m=\u001b[49m\u001b[33;43m\"\u001b[39;49m\u001b[33;43mAccess Kattegori\u001b[39;49m\u001b[33;43m\"\u001b[39;49m\u001b[43m,\u001b[49m\n\u001b[32m     18\u001b[39m \u001b[43m            \u001b[49m\u001b[43mhow\u001b[49m\u001b[43m=\u001b[49m\u001b[33;43m\"\u001b[39;49m\u001b[33;43mleft\u001b[39;49m\u001b[33;43m\"\u001b[39;49m\n\u001b[32m     19\u001b[39m \u001b[43m        \u001b[49m\u001b[43m)\u001b[49m\n\u001b[32m     20\u001b[39m \u001b[43m        \u001b[49m\u001b[43m.\u001b[49m\u001b[43mjoin\u001b[49m\u001b[43m(\u001b[49m\n\u001b[32m     21\u001b[39m \u001b[43m            \u001b[49m\u001b[38;5;66;43;03m# 2. Second join: rename \"Cornerstone\" here as well\u001b[39;49;00m\n\u001b[32m     22\u001b[39m \u001b[43m            \u001b[49m\u001b[43mdf_sivil\u001b[49m\u001b[43m.\u001b[49m\u001b[43mselect\u001b[49m\u001b[43m(\u001b[49m\u001b[43m[\u001b[49m\n\u001b[32m     23\u001b[39m \u001b[43m                \u001b[49m\u001b[33;43m\"\u001b[39;49m\u001b[33;43mAccess Sivilstatus\u001b[39;49m\u001b[33;43m\"\u001b[39;49m\u001b[43m,\u001b[49m\u001b[43m \u001b[49m\n\u001b[32m     24\u001b[39m \u001b[43m                \u001b[49m\u001b[43mpl\u001b[49m\u001b[43m.\u001b[49m\u001b[43mcol\u001b[49m\u001b[43m(\u001b[49m\u001b[33;43m\"\u001b[39;49m\u001b[33;43mCornerstone\u001b[39;49m\u001b[33;43m\"\u001b[39;49m\u001b[43m)\u001b[49m\u001b[43m.\u001b[49m\u001b[43malias\u001b[49m\u001b[43m(\u001b[49m\u001b[33;43m\"\u001b[39;49m\u001b[33;43mSivilstand_Cornerstone\u001b[39;49m\u001b[33;43m\"\u001b[39;49m\u001b[43m)\u001b[49m\n\u001b[32m     25\u001b[39m \u001b[43m            \u001b[49m\u001b[43m]\u001b[49m\u001b[43m)\u001b[49m\u001b[43m,\u001b[49m\n\u001b[32m     26\u001b[39m \u001b[43m            \u001b[49m\u001b[43mleft_on\u001b[49m\u001b[43m=\u001b[49m\u001b[33;43m\"\u001b[39;49m\u001b[33;43mSivilstand\u001b[39;49m\u001b[33;43m\"\u001b[39;49m\u001b[43m,\u001b[49m\n\u001b[32m     27\u001b[39m \u001b[43m            \u001b[49m\u001b[43mright_on\u001b[49m\u001b[43m=\u001b[49m\u001b[33;43m\"\u001b[39;49m\u001b[33;43mAccess Sivilstatus\u001b[39;49m\u001b[33;43m\"\u001b[39;49m\u001b[43m,\u001b[49m\n\u001b[32m     28\u001b[39m \u001b[43m            \u001b[49m\u001b[43mhow\u001b[49m\u001b[43m=\u001b[49m\u001b[33;43m\"\u001b[39;49m\u001b[33;43mleft\u001b[39;49m\u001b[33;43m\"\u001b[39;49m\n\u001b[32m     29\u001b[39m \u001b[43m        \u001b[49m\u001b[43m)\u001b[49m\n\u001b[32m     30\u001b[39m \u001b[43m        \u001b[49m\u001b[43m.\u001b[49m\u001b[43mselect\u001b[49m\u001b[43m(\u001b[49m\n\u001b[32m     31\u001b[39m \u001b[43m        \u001b[49m\u001b[43mpl\u001b[49m\u001b[43m.\u001b[49m\u001b[43mcol\u001b[49m\u001b[43m(\u001b[49m\u001b[33;43m\"\u001b[39;49m\u001b[33;43mMedlemID\u001b[39;49m\u001b[33;43m\"\u001b[39;49m\u001b[43m)\u001b[49m\u001b[43m,\u001b[49m\u001b[43m \u001b[49m\u001b[38;5;66;43;03m# \u001b[39;49;00m\n\u001b[32m     32\u001b[39m \u001b[43m        \u001b[49m\u001b[43mpl\u001b[49m\u001b[43m.\u001b[49m\u001b[43mcol\u001b[49m\u001b[43m(\u001b[49m\u001b[33;43m\"\u001b[39;49m\u001b[33;43mInnmeldingsdato\u001b[39;49m\u001b[33;43m\"\u001b[39;49m\u001b[43m)\u001b[49m\u001b[43m.\u001b[49m\u001b[43mdt\u001b[49m\u001b[43m.\u001b[49m\u001b[43mstrftime\u001b[49m\u001b[43m(\u001b[49m\u001b[43mDATE_FORMAT\u001b[49m\u001b[43m)\u001b[49m\u001b[43m,\u001b[49m\n\u001b[32m     33\u001b[39m \u001b[43m        \u001b[49m\u001b[43mpl\u001b[49m\u001b[43m.\u001b[49m\u001b[43mcol\u001b[49m\u001b[43m(\u001b[49m\u001b[33;43m\"\u001b[39;49m\u001b[33;43mEr den innmeldte døpt ?\u001b[39;49m\u001b[33;43m\"\u001b[39;49m\u001b[43m)\u001b[49m\u001b[43m,\u001b[49m\n\u001b[32m     34\u001b[39m \u001b[43m        \u001b[49m\u001b[43mpl\u001b[49m\u001b[43m.\u001b[49m\u001b[43mcol\u001b[49m\u001b[43m(\u001b[49m\u001b[33;43m\"\u001b[39;49m\u001b[33;43mMenighet\u001b[39;49m\u001b[33;43m\"\u001b[39;49m\u001b[43m)\u001b[49m\u001b[43m,\u001b[49m\n\u001b[32m     35\u001b[39m \u001b[43m        \u001b[49m\u001b[43mpl\u001b[49m\u001b[43m.\u001b[49m\u001b[43mcol\u001b[49m\u001b[43m(\u001b[49m\u001b[33;43m\"\u001b[39;49m\u001b[33;43mFødested\u001b[39;49m\u001b[33;43m\"\u001b[39;49m\u001b[43m)\u001b[49m\u001b[43m,\u001b[49m\n\u001b[32m     36\u001b[39m \u001b[43m        \u001b[49m\u001b[43mpl\u001b[49m\u001b[43m.\u001b[49m\u001b[43mcol\u001b[49m\u001b[43m(\u001b[49m\u001b[33;43m\"\u001b[39;49m\u001b[33;43mDåpsdato\u001b[39;49m\u001b[33;43m\"\u001b[39;49m\u001b[43m)\u001b[49m\u001b[43m.\u001b[49m\u001b[43mdt\u001b[49m\u001b[43m.\u001b[49m\u001b[43mstrftime\u001b[49m\u001b[43m(\u001b[49m\u001b[43mDATE_FORMAT\u001b[49m\u001b[43m)\u001b[49m\u001b[43m,\u001b[49m\n\u001b[32m     37\u001b[39m \u001b[43m        \u001b[49m\u001b[43mpl\u001b[49m\u001b[43m.\u001b[49m\u001b[43mcol\u001b[49m\u001b[43m(\u001b[49m\u001b[33;43m\"\u001b[39;49m\u001b[33;43mAnt barn under 15 år\u001b[39;49m\u001b[33;43m\"\u001b[39;49m\u001b[43m)\u001b[49m\u001b[43m,\u001b[49m\n\u001b[32m     38\u001b[39m \u001b[43m        \u001b[49m\u001b[43mpl\u001b[49m\u001b[43m.\u001b[49m\u001b[43mcol\u001b[49m\u001b[43m(\u001b[49m\u001b[33;43m\"\u001b[39;49m\u001b[33;43mDåpskirke/sted\u001b[39;49m\u001b[33;43m\"\u001b[39;49m\u001b[43m)\u001b[49m\u001b[43m,\u001b[49m\n\u001b[32m     39\u001b[39m \u001b[43m        \u001b[49m\u001b[43mpl\u001b[49m\u001b[43m.\u001b[49m\u001b[43mcol\u001b[49m\u001b[43m(\u001b[49m\u001b[33;43m\"\u001b[39;49m\u001b[33;43mFødselsdato\u001b[39;49m\u001b[33;43m\"\u001b[39;49m\u001b[43m)\u001b[49m\u001b[43m.\u001b[49m\u001b[43mdt\u001b[49m\u001b[43m.\u001b[49m\u001b[43mstrftime\u001b[49m\u001b[43m(\u001b[49m\u001b[43mDATE_FORMAT\u001b[49m\u001b[43m)\u001b[49m\u001b[43m,\u001b[49m\n\u001b[32m     40\u001b[39m \u001b[43m        \u001b[49m\u001b[43mpl\u001b[49m\u001b[43m.\u001b[49m\u001b[43mcol\u001b[49m\u001b[43m(\u001b[49m\u001b[33;43m\"\u001b[39;49m\u001b[33;43mPersonnummer\u001b[39;49m\u001b[33;43m\"\u001b[39;49m\u001b[43m)\u001b[49m\u001b[43m,\u001b[49m\n\u001b[32m     41\u001b[39m \u001b[43m        \u001b[49m\u001b[43mpl\u001b[49m\u001b[43m.\u001b[49m\u001b[43mcol\u001b[49m\u001b[43m(\u001b[49m\u001b[33;43m\"\u001b[39;49m\u001b[33;43mEFTERNAVN\u001b[39;49m\u001b[33;43m\"\u001b[39;49m\u001b[43m)\u001b[49m\u001b[43m,\u001b[49m\n\u001b[32m     42\u001b[39m \u001b[43m        \u001b[49m\u001b[43mpl\u001b[49m\u001b[43m.\u001b[49m\u001b[43mcol\u001b[49m\u001b[43m(\u001b[49m\u001b[33;43m\"\u001b[39;49m\u001b[33;43mFORNAVN\u001b[39;49m\u001b[33;43m\"\u001b[39;49m\u001b[43m)\u001b[49m\u001b[43m,\u001b[49m\n\u001b[32m     43\u001b[39m \u001b[43m        \u001b[49m\u001b[43mpl\u001b[49m\u001b[43m.\u001b[49m\u001b[43mcol\u001b[49m\u001b[43m(\u001b[49m\u001b[33;43m\"\u001b[39;49m\u001b[33;43mStilling\u001b[39;49m\u001b[33;43m\"\u001b[39;49m\u001b[43m)\u001b[49m\u001b[43m,\u001b[49m\n\u001b[32m     44\u001b[39m \u001b[43m        \u001b[49m\u001b[43mpl\u001b[49m\u001b[43m.\u001b[49m\u001b[43mcol\u001b[49m\u001b[43m(\u001b[49m\u001b[33;43m\"\u001b[39;49m\u001b[33;43mADRESSE\u001b[39;49m\u001b[33;43m\"\u001b[39;49m\u001b[43m)\u001b[49m\u001b[43m,\u001b[49m\n\u001b[32m     45\u001b[39m \u001b[43m        \u001b[49m\u001b[43mpl\u001b[49m\u001b[43m.\u001b[49m\u001b[43mcol\u001b[49m\u001b[43m(\u001b[49m\u001b[33;43m\"\u001b[39;49m\u001b[33;43mE-postadresse\u001b[39;49m\u001b[33;43m\"\u001b[39;49m\u001b[43m)\u001b[49m\u001b[43m,\u001b[49m\n\u001b[32m     46\u001b[39m \u001b[43m        \u001b[49m\u001b[43mpl\u001b[49m\u001b[43m.\u001b[49m\u001b[43mcol\u001b[49m\u001b[43m(\u001b[49m\u001b[33;43m\"\u001b[39;49m\u001b[33;43mPOSTNR\u001b[39;49m\u001b[33;43m\"\u001b[39;49m\u001b[43m)\u001b[49m\u001b[43m,\u001b[49m\n\u001b[32m     47\u001b[39m \u001b[43m        \u001b[49m\u001b[43mpl\u001b[49m\u001b[43m.\u001b[49m\u001b[43mcol\u001b[49m\u001b[43m(\u001b[49m\u001b[33;43m\"\u001b[39;49m\u001b[33;43mOg\u001b[39;49m\u001b[33;43m\"\u001b[39;49m\u001b[43m)\u001b[49m\u001b[43m,\u001b[49m\n\u001b[32m     48\u001b[39m \u001b[43m        \u001b[49m\u001b[43mpl\u001b[49m\u001b[43m.\u001b[49m\u001b[43mcol\u001b[49m\u001b[43m(\u001b[49m\u001b[33;43m\"\u001b[39;49m\u001b[33;43mSAM_FOR\u001b[39;49m\u001b[33;43m\"\u001b[39;49m\u001b[43m)\u001b[49m\u001b[43m,\u001b[49m\n\u001b[32m     49\u001b[39m \u001b[43m        \u001b[49m\u001b[43mpl\u001b[49m\u001b[43m.\u001b[49m\u001b[43mcol\u001b[49m\u001b[43m(\u001b[49m\u001b[33;43m\"\u001b[39;49m\u001b[33;43mSAM_EFTER\u001b[39;49m\u001b[33;43m\"\u001b[39;49m\u001b[43m)\u001b[49m\u001b[43m,\u001b[49m\n\u001b[32m     50\u001b[39m \u001b[43m        \u001b[49m\u001b[43mpl\u001b[49m\u001b[43m.\u001b[49m\u001b[43mcol\u001b[49m\u001b[43m(\u001b[49m\u001b[33;43m\"\u001b[39;49m\u001b[33;43mUtsendelse\u001b[39;49m\u001b[33;43m\"\u001b[39;49m\u001b[43m)\u001b[49m\u001b[43m,\u001b[49m\n\u001b[32m     51\u001b[39m \u001b[43m        \u001b[49m\u001b[43mpl\u001b[49m\u001b[43m.\u001b[49m\u001b[43mcol\u001b[49m\u001b[43m(\u001b[49m\u001b[33;43m\"\u001b[39;49m\u001b[33;43mUtsendelses kode\u001b[39;49m\u001b[33;43m\"\u001b[39;49m\u001b[43m)\u001b[49m\u001b[43m,\u001b[49m\n\u001b[32m     52\u001b[39m \u001b[43m        \u001b[49m\u001b[43mpl\u001b[49m\u001b[43m.\u001b[49m\u001b[43mcol\u001b[49m\u001b[43m(\u001b[49m\u001b[33;43m\"\u001b[39;49m\u001b[33;43mTelefon priv\u001b[39;49m\u001b[33;43m\"\u001b[39;49m\u001b[43m)\u001b[49m\u001b[43m,\u001b[49m\n\u001b[32m     53\u001b[39m \u001b[43m        \u001b[49m\u001b[43mpl\u001b[49m\u001b[43m.\u001b[49m\u001b[43mcol\u001b[49m\u001b[43m(\u001b[49m\u001b[33;43m\"\u001b[39;49m\u001b[33;43mTelefon mob\u001b[39;49m\u001b[33;43m\"\u001b[39;49m\u001b[43m)\u001b[49m\u001b[43m,\u001b[49m\n\u001b[32m     54\u001b[39m \u001b[43m        \u001b[49m\u001b[43mpl\u001b[49m\u001b[43m.\u001b[49m\u001b[43mcol\u001b[49m\u001b[43m(\u001b[49m\u001b[33;43m\"\u001b[39;49m\u001b[33;43mSivilstand_Cornerstone\u001b[39;49m\u001b[33;43m\"\u001b[39;49m\u001b[43m)\u001b[49m\u001b[43m,\u001b[49m\u001b[43m \u001b[49m\u001b[38;5;66;43;03m# Lagt til \u001b[39;49;00m\n\u001b[32m     55\u001b[39m \u001b[43m        \u001b[49m\u001b[43mpl\u001b[49m\u001b[43m.\u001b[49m\u001b[43mcol\u001b[49m\u001b[43m(\u001b[49m\u001b[33;43m\"\u001b[39;49m\u001b[33;43mSivilstand\u001b[39;49m\u001b[33;43m\"\u001b[39;49m\u001b[43m)\u001b[49m\u001b[43m,\u001b[49m\n\u001b[32m     56\u001b[39m \u001b[43m        \u001b[49m\u001b[43mpl\u001b[49m\u001b[43m.\u001b[49m\u001b[43mcol\u001b[49m\u001b[43m(\u001b[49m\u001b[33;43m\"\u001b[39;49m\u001b[33;43mTrossamfunn\u001b[39;49m\u001b[33;43m\"\u001b[39;49m\u001b[43m)\u001b[49m\u001b[43m,\u001b[49m\n\u001b[32m     57\u001b[39m \u001b[43m        \u001b[49m\u001b[43mpl\u001b[49m\u001b[43m.\u001b[49m\u001b[43mcol\u001b[49m\u001b[43m(\u001b[49m\u001b[33;43m\"\u001b[39;49m\u001b[33;43mGift?\u001b[39;49m\u001b[33;43m\"\u001b[39;49m\u001b[43m)\u001b[49m\u001b[43m,\u001b[49m\n\u001b[32m     58\u001b[39m \u001b[43m        \u001b[49m\u001b[43mpl\u001b[49m\u001b[43m.\u001b[49m\u001b[43mcol\u001b[49m\u001b[43m(\u001b[49m\u001b[33;43m\"\u001b[39;49m\u001b[33;43mUtsendelsesformat\u001b[39;49m\u001b[33;43m\"\u001b[39;49m\u001b[43m)\u001b[49m\u001b[43m,\u001b[49m\n\u001b[32m     59\u001b[39m \u001b[43m        \u001b[49m\u001b[43mpl\u001b[49m\u001b[43m.\u001b[49m\u001b[43mcol\u001b[49m\u001b[43m(\u001b[49m\u001b[33;43m\"\u001b[39;49m\u001b[33;43mEktemakens trossamfunn\u001b[39;49m\u001b[33;43m\"\u001b[39;49m\u001b[43m)\u001b[49m\u001b[43m,\u001b[49m\n\u001b[32m     60\u001b[39m \u001b[43m        \u001b[49m\u001b[43mpl\u001b[49m\u001b[43m.\u001b[49m\u001b[43mcol\u001b[49m\u001b[43m(\u001b[49m\u001b[33;43m\"\u001b[39;49m\u001b[33;43mAnmerkning\u001b[39;49m\u001b[33;43m\"\u001b[39;49m\u001b[43m)\u001b[49m\u001b[43m,\u001b[49m\n\u001b[32m     61\u001b[39m \u001b[43m        \u001b[49m\u001b[43mpl\u001b[49m\u001b[43m.\u001b[49m\u001b[43mcol\u001b[49m\u001b[43m(\u001b[49m\u001b[33;43m\"\u001b[39;49m\u001b[33;43mKategori_Cornerstone\u001b[39;49m\u001b[33;43m\"\u001b[39;49m\u001b[43m)\u001b[49m\u001b[43m,\u001b[49m\u001b[43m \u001b[49m\u001b[38;5;66;43;03m# Lagt til\u001b[39;49;00m\n\u001b[32m     62\u001b[39m \u001b[43m        \u001b[49m\u001b[43mpl\u001b[49m\u001b[43m.\u001b[49m\u001b[43mcol\u001b[49m\u001b[43m(\u001b[49m\u001b[33;43m\"\u001b[39;49m\u001b[33;43mKategori\u001b[39;49m\u001b[33;43m\"\u001b[39;49m\u001b[43m)\u001b[49m\u001b[43m,\u001b[49m\n\u001b[32m     63\u001b[39m \u001b[43m        \u001b[49m\u001b[43mpl\u001b[49m\u001b[43m.\u001b[49m\u001b[43mlit\u001b[49m\u001b[43m(\u001b[49m\u001b[33;43m\"\u001b[39;49m\u001b[33;43mGiro\u001b[39;49m\u001b[33;43m\"\u001b[39;49m\u001b[43m)\u001b[49m\u001b[43m.\u001b[49m\u001b[43mfilter\u001b[49m\u001b[43m(\u001b[49m\u001b[43mpl\u001b[49m\u001b[43m.\u001b[49m\u001b[43mcol\u001b[49m\u001b[43m(\u001b[49m\u001b[33;43m\"\u001b[39;49m\u001b[33;43mGiro\u001b[39;49m\u001b[33;43m\"\u001b[39;49m\u001b[43m)\u001b[49m\u001b[43m)\u001b[49m\u001b[43m.\u001b[49m\u001b[43malias\u001b[49m\u001b[43m(\u001b[49m\u001b[33;43m\"\u001b[39;49m\u001b[33;43mGiroInfo\u001b[39;49m\u001b[33;43m\"\u001b[39;49m\u001b[43m)\u001b[49m\u001b[43m,\u001b[49m\n\u001b[32m     64\u001b[39m \u001b[43m        \u001b[49m\u001b[43mpl\u001b[49m\u001b[43m.\u001b[49m\u001b[43mwhen\u001b[49m\u001b[43m(\u001b[49m\u001b[43mpl\u001b[49m\u001b[43m.\u001b[49m\u001b[43mcol\u001b[49m\u001b[43m(\u001b[49m\u001b[33;43m\"\u001b[39;49m\u001b[33;43mGiro\u001b[39;49m\u001b[33;43m\"\u001b[39;49m\u001b[43m)\u001b[49m\u001b[43m \u001b[49m\u001b[43m==\u001b[49m\u001b[43m \u001b[49m\u001b[38;5;28;43;01mTrue\u001b[39;49;00m\u001b[43m)\u001b[49m\u001b[43m \u001b[49m\u001b[38;5;66;43;03m# The condition: is the value True?\u001b[39;49;00m\n\u001b[32m     65\u001b[39m \u001b[43m            \u001b[49m\u001b[43m.\u001b[49m\u001b[43mthen\u001b[49m\u001b[43m(\u001b[49m\u001b[43mpl\u001b[49m\u001b[43m.\u001b[49m\u001b[43mlit\u001b[49m\u001b[43m(\u001b[49m\u001b[33;43m\"\u001b[39;49m\u001b[33;43mGiro\u001b[39;49m\u001b[33;43m\"\u001b[39;49m\u001b[43m)\u001b[49m\u001b[43m)\u001b[49m\u001b[43m           \u001b[49m\u001b[38;5;66;43;03m# The result if True\u001b[39;49;00m\n\u001b[32m     66\u001b[39m \u001b[43m            \u001b[49m\u001b[43m.\u001b[49m\u001b[43motherwise\u001b[49m\u001b[43m(\u001b[49m\u001b[38;5;28;43;01mNone\u001b[39;49;00m\u001b[43m)\u001b[49m\u001b[43m                \u001b[49m\u001b[38;5;66;43;03m# The result for all other cases (False and Null)\u001b[39;49;00m\n\u001b[32m     67\u001b[39m \u001b[43m            \u001b[49m\u001b[43m.\u001b[49m\u001b[43malias\u001b[49m\u001b[43m(\u001b[49m\u001b[33;43m\"\u001b[39;49m\u001b[33;43mGiro\u001b[39;49m\u001b[33;43m\"\u001b[39;49m\u001b[43m)\u001b[49m\u001b[43m,\u001b[49m\u001b[43m             \u001b[49m\u001b[38;5;66;43;03m# Give the new column a name\u001b[39;49;00m\n\u001b[32m     68\u001b[39m \u001b[43m        \u001b[49m\u001b[43mpl\u001b[49m\u001b[43m.\u001b[49m\u001b[43mcol\u001b[49m\u001b[43m(\u001b[49m\u001b[33;43m\"\u001b[39;49m\u001b[33;43mRegDato\u001b[39;49m\u001b[33;43m\"\u001b[39;49m\u001b[43m)\u001b[49m\u001b[43m.\u001b[49m\u001b[43mdt\u001b[49m\u001b[43m.\u001b[49m\u001b[43mstrftime\u001b[49m\u001b[43m(\u001b[49m\u001b[43mDATE_FORMAT\u001b[49m\u001b[43m)\u001b[49m\u001b[43m,\u001b[49m\n\u001b[32m     69\u001b[39m \u001b[43m        \u001b[49m\u001b[43mpl\u001b[49m\u001b[43m.\u001b[49m\u001b[43mcol\u001b[49m\u001b[43m(\u001b[49m\u001b[33;43m\"\u001b[39;49m\u001b[33;43mSamID\u001b[39;49m\u001b[33;43m\"\u001b[39;49m\u001b[43m)\u001b[49m\u001b[43m,\u001b[49m\n\u001b[32m     70\u001b[39m \u001b[43m        \u001b[49m\u001b[43mpl\u001b[49m\u001b[43m.\u001b[49m\u001b[43mcol\u001b[49m\u001b[43m(\u001b[49m\u001b[33;43m\"\u001b[39;49m\u001b[33;43mFarID\u001b[39;49m\u001b[33;43m\"\u001b[39;49m\u001b[43m)\u001b[49m\u001b[43m,\u001b[49m\n\u001b[32m     71\u001b[39m \u001b[43m        \u001b[49m\u001b[43mpl\u001b[49m\u001b[43m.\u001b[49m\u001b[43mcol\u001b[49m\u001b[43m(\u001b[49m\u001b[33;43m\"\u001b[39;49m\u001b[33;43mMorID\u001b[39;49m\u001b[33;43m\"\u001b[39;49m\u001b[43m)\u001b[49m\u001b[43m,\u001b[49m\n\u001b[32m     72\u001b[39m \u001b[43m        \u001b[49m\u001b[43mpl\u001b[49m\u001b[43m.\u001b[49m\u001b[43mcol\u001b[49m\u001b[43m(\u001b[49m\u001b[33;43m\"\u001b[39;49m\u001b[33;43mKjønn\u001b[39;49m\u001b[33;43m\"\u001b[39;49m\u001b[43m)\u001b[49m\u001b[43m.\u001b[49m\u001b[43mreplace_strict\u001b[49m\u001b[43m(\u001b[49m\n\u001b[32m     73\u001b[39m \u001b[43m            \u001b[49m\u001b[43mgender_map\u001b[49m\u001b[43m,\u001b[49m\n\u001b[32m     74\u001b[39m \u001b[43m            \u001b[49m\u001b[43mdefault\u001b[49m\u001b[43m=\u001b[49m\u001b[38;5;28;43;01mNone\u001b[39;49;00m\u001b[43m \u001b[49m\u001b[38;5;66;43;03m# Set the default for non-matches to null        \u001b[39;49;00m\n\u001b[32m     75\u001b[39m \u001b[43m        \u001b[49m\u001b[43m)\u001b[49m\u001b[43m.\u001b[49m\u001b[43malias\u001b[49m\u001b[43m(\u001b[49m\u001b[33;43m\"\u001b[39;49m\u001b[33;43mKjønn\u001b[39;49m\u001b[33;43m\"\u001b[39;49m\u001b[43m)\u001b[49m\u001b[43m,\u001b[49m\n\u001b[32m     76\u001b[39m \u001b[43m        \u001b[49m\u001b[43mpl\u001b[49m\u001b[43m.\u001b[49m\u001b[43mcol\u001b[49m\u001b[43m(\u001b[49m\u001b[33;43m\"\u001b[39;49m\u001b[33;43mSvart?\u001b[39;49m\u001b[33;43m\"\u001b[39;49m\u001b[43m)\u001b[49m\u001b[43m,\u001b[49m\n\u001b[32m     77\u001b[39m \u001b[43m        \u001b[49m\u001b[43mpl\u001b[49m\u001b[43m.\u001b[49m\u001b[43mcol\u001b[49m\u001b[43m(\u001b[49m\u001b[33;43m\"\u001b[39;49m\u001b[33;43mFaddere\u001b[39;49m\u001b[33;43m\"\u001b[39;49m\u001b[43m)\u001b[49m\u001b[43m,\u001b[49m\n\u001b[32m     78\u001b[39m \u001b[43m        \u001b[49m\u001b[43mpl\u001b[49m\u001b[43m.\u001b[49m\u001b[43mcol\u001b[49m\u001b[43m(\u001b[49m\u001b[33;43m\"\u001b[39;49m\u001b[33;43mEr mor og far gift?\u001b[39;49m\u001b[33;43m\"\u001b[39;49m\u001b[43m)\u001b[49m\u001b[43m,\u001b[49m\n\u001b[32m     79\u001b[39m \u001b[43m        \u001b[49m\u001b[43mpl\u001b[49m\u001b[43m.\u001b[49m\u001b[43mcol\u001b[49m\u001b[43m(\u001b[49m\u001b[33;43m\"\u001b[39;49m\u001b[33;43mPrest\u001b[39;49m\u001b[33;43m\"\u001b[39;49m\u001b[43m)\u001b[49m\u001b[43m,\u001b[49m\n\u001b[32m     80\u001b[39m \u001b[43m        \u001b[49m\u001b[43mpl\u001b[49m\u001b[43m.\u001b[49m\u001b[43mcol\u001b[49m\u001b[43m(\u001b[49m\u001b[33;43m\"\u001b[39;49m\u001b[33;43mDåpsattest\u001b[39;49m\u001b[33;43m\"\u001b[39;49m\u001b[43m)\u001b[49m\u001b[43m,\u001b[49m\n\u001b[32m     81\u001b[39m \u001b[43m        \u001b[49m\u001b[43mpl\u001b[49m\u001b[43m.\u001b[49m\u001b[43mcol\u001b[49m\u001b[43m(\u001b[49m\u001b[33;43m\"\u001b[39;49m\u001b[33;43mSøk\u001b[39;49m\u001b[33;43m\"\u001b[39;49m\u001b[43m)\u001b[49m\u001b[43m,\u001b[49m\n\u001b[32m     82\u001b[39m \u001b[43m        \u001b[49m\u001b[43mpl\u001b[49m\u001b[43m.\u001b[49m\u001b[43mcol\u001b[49m\u001b[43m(\u001b[49m\u001b[33;43m\"\u001b[39;49m\u001b[33;43mUtmeldtDato\u001b[39;49m\u001b[33;43m\"\u001b[39;49m\u001b[43m)\u001b[49m\u001b[43m.\u001b[49m\u001b[43mdt\u001b[49m\u001b[43m.\u001b[49m\u001b[43mstrftime\u001b[49m\u001b[43m(\u001b[49m\u001b[43mDATE_FORMAT\u001b[49m\u001b[43m)\u001b[49m\u001b[43m,\u001b[49m\n\u001b[32m     83\u001b[39m \u001b[43m        \u001b[49m\u001b[38;5;66;43;03m#pl.col(\"DødsDato\").dt.strftime(DATE_FORMAT), Dødsdato er en string\u001b[39;49;00m\n\u001b[32m     84\u001b[39m \u001b[43m        \u001b[49m\u001b[43mpl\u001b[49m\u001b[43m.\u001b[49m\u001b[43mcol\u001b[49m\u001b[43m(\u001b[49m\u001b[33;43m\"\u001b[39;49m\u001b[33;43mDødsDato\u001b[39;49m\u001b[33;43m\"\u001b[39;49m\u001b[43m)\u001b[49m\u001b[43m,\u001b[49m\n\u001b[32m     85\u001b[39m \u001b[43m        \u001b[49m\u001b[43mpl\u001b[49m\u001b[43m.\u001b[49m\u001b[43mcol\u001b[49m\u001b[43m(\u001b[49m\u001b[33;43m\"\u001b[39;49m\u001b[33;43mKommune\u001b[39;49m\u001b[33;43m\"\u001b[39;49m\u001b[43m)\u001b[49m\u001b[43m,\u001b[49m\n\u001b[32m     86\u001b[39m \u001b[43m        \u001b[49m\u001b[43mpl\u001b[49m\u001b[43m.\u001b[49m\u001b[43mcol\u001b[49m\u001b[43m(\u001b[49m\u001b[33;43m\"\u001b[39;49m\u001b[33;43mKID-nr\u001b[39;49m\u001b[33;43m\"\u001b[39;49m\u001b[43m)\u001b[49m\n\u001b[32m     87\u001b[39m \n\u001b[32m     88\u001b[39m \u001b[43m    \u001b[49m\u001b[43m)\u001b[49m\n\u001b[32m     89\u001b[39m )\u001b[38;5;66;03m#.filter(pl.col(\"DødsDato\").is_not_null())\u001b[39;00m\n\u001b[32m     90\u001b[39m pl.Config.set_tbl_cols(-\u001b[32m1\u001b[39m)\n\u001b[32m     91\u001b[39m konverterings_tabell\n",
      "\u001b[36mFile \u001b[39m\u001b[32m~/dev/python/bergens_konvertering/.venv/lib/python3.11/site-packages/polars/dataframe/frame.py:9753\u001b[39m, in \u001b[36mDataFrame.select\u001b[39m\u001b[34m(self, *exprs, **named_exprs)\u001b[39m\n\u001b[32m   9651\u001b[39m \u001b[38;5;250m\u001b[39m\u001b[33;03m\"\"\"\u001b[39;00m\n\u001b[32m   9652\u001b[39m \u001b[33;03mSelect columns from this DataFrame.\u001b[39;00m\n\u001b[32m   9653\u001b[39m \n\u001b[32m   (...)\u001b[39m\u001b[32m   9746\u001b[39m \u001b[33;03m└──────────────┘\u001b[39;00m\n\u001b[32m   9747\u001b[39m \u001b[33;03m\"\"\"\u001b[39;00m\n\u001b[32m   9748\u001b[39m \u001b[38;5;28;01mfrom\u001b[39;00m\u001b[38;5;250m \u001b[39m\u001b[34;01mpolars\u001b[39;00m\u001b[34;01m.\u001b[39;00m\u001b[34;01mlazyframe\u001b[39;00m\u001b[34;01m.\u001b[39;00m\u001b[34;01mopt_flags\u001b[39;00m\u001b[38;5;250m \u001b[39m\u001b[38;5;28;01mimport\u001b[39;00m QueryOptFlags\n\u001b[32m   9750\u001b[39m \u001b[38;5;28;01mreturn\u001b[39;00m (\n\u001b[32m   9751\u001b[39m     \u001b[38;5;28;43mself\u001b[39;49m\u001b[43m.\u001b[49m\u001b[43mlazy\u001b[49m\u001b[43m(\u001b[49m\u001b[43m)\u001b[49m\n\u001b[32m   9752\u001b[39m \u001b[43m    \u001b[49m\u001b[43m.\u001b[49m\u001b[43mselect\u001b[49m\u001b[43m(\u001b[49m\u001b[43m*\u001b[49m\u001b[43mexprs\u001b[49m\u001b[43m,\u001b[49m\u001b[43m \u001b[49m\u001b[43m*\u001b[49m\u001b[43m*\u001b[49m\u001b[43mnamed_exprs\u001b[49m\u001b[43m)\u001b[49m\n\u001b[32m-> \u001b[39m\u001b[32m9753\u001b[39m \u001b[43m    \u001b[49m\u001b[43m.\u001b[49m\u001b[43mcollect\u001b[49m\u001b[43m(\u001b[49m\u001b[43moptimizations\u001b[49m\u001b[43m=\u001b[49m\u001b[43mQueryOptFlags\u001b[49m\u001b[43m.\u001b[49m\u001b[43m_eager\u001b[49m\u001b[43m(\u001b[49m\u001b[43m)\u001b[49m\u001b[43m)\u001b[49m\n\u001b[32m   9754\u001b[39m )\n",
      "\u001b[36mFile \u001b[39m\u001b[32m~/dev/python/bergens_konvertering/.venv/lib/python3.11/site-packages/polars/_utils/deprecation.py:97\u001b[39m, in \u001b[36mdeprecate_streaming_parameter.<locals>.decorate.<locals>.wrapper\u001b[39m\u001b[34m(*args, **kwargs)\u001b[39m\n\u001b[32m     93\u001b[39m         kwargs[\u001b[33m\"\u001b[39m\u001b[33mengine\u001b[39m\u001b[33m\"\u001b[39m] = \u001b[33m\"\u001b[39m\u001b[33min-memory\u001b[39m\u001b[33m\"\u001b[39m\n\u001b[32m     95\u001b[39m     \u001b[38;5;28;01mdel\u001b[39;00m kwargs[\u001b[33m\"\u001b[39m\u001b[33mstreaming\u001b[39m\u001b[33m\"\u001b[39m]\n\u001b[32m---> \u001b[39m\u001b[32m97\u001b[39m \u001b[38;5;28;01mreturn\u001b[39;00m \u001b[43mfunction\u001b[49m\u001b[43m(\u001b[49m\u001b[43m*\u001b[49m\u001b[43margs\u001b[49m\u001b[43m,\u001b[49m\u001b[43m \u001b[49m\u001b[43m*\u001b[49m\u001b[43m*\u001b[49m\u001b[43mkwargs\u001b[49m\u001b[43m)\u001b[49m\n",
      "\u001b[36mFile \u001b[39m\u001b[32m~/dev/python/bergens_konvertering/.venv/lib/python3.11/site-packages/polars/lazyframe/opt_flags.py:331\u001b[39m, in \u001b[36mforward_old_opt_flags.<locals>.decorate.<locals>.wrapper\u001b[39m\u001b[34m(*args, **kwargs)\u001b[39m\n\u001b[32m    328\u001b[39m         optflags = cb(optflags, kwargs.pop(key))  \u001b[38;5;66;03m# type: ignore[no-untyped-call,unused-ignore]\u001b[39;00m\n\u001b[32m    330\u001b[39m kwargs[\u001b[33m\"\u001b[39m\u001b[33moptimizations\u001b[39m\u001b[33m\"\u001b[39m] = optflags\n\u001b[32m--> \u001b[39m\u001b[32m331\u001b[39m \u001b[38;5;28;01mreturn\u001b[39;00m \u001b[43mfunction\u001b[49m\u001b[43m(\u001b[49m\u001b[43m*\u001b[49m\u001b[43margs\u001b[49m\u001b[43m,\u001b[49m\u001b[43m \u001b[49m\u001b[43m*\u001b[49m\u001b[43m*\u001b[49m\u001b[43mkwargs\u001b[49m\u001b[43m)\u001b[49m\n",
      "\u001b[36mFile \u001b[39m\u001b[32m~/dev/python/bergens_konvertering/.venv/lib/python3.11/site-packages/polars/lazyframe/frame.py:2300\u001b[39m, in \u001b[36mLazyFrame.collect\u001b[39m\u001b[34m(self, type_coercion, predicate_pushdown, projection_pushdown, simplify_expression, slice_pushdown, comm_subplan_elim, comm_subexpr_elim, cluster_with_columns, collapse_joins, no_optimization, engine, background, optimizations, **_kwargs)\u001b[39m\n\u001b[32m   2298\u001b[39m \u001b[38;5;66;03m# Only for testing purposes\u001b[39;00m\n\u001b[32m   2299\u001b[39m callback = _kwargs.get(\u001b[33m\"\u001b[39m\u001b[33mpost_opt_callback\u001b[39m\u001b[33m\"\u001b[39m, callback)\n\u001b[32m-> \u001b[39m\u001b[32m2300\u001b[39m \u001b[38;5;28;01mreturn\u001b[39;00m wrap_df(\u001b[43mldf\u001b[49m\u001b[43m.\u001b[49m\u001b[43mcollect\u001b[49m\u001b[43m(\u001b[49m\u001b[43mengine\u001b[49m\u001b[43m,\u001b[49m\u001b[43m \u001b[49m\u001b[43mcallback\u001b[49m\u001b[43m)\u001b[49m)\n",
      "\u001b[31mShapeError\u001b[39m: Series length 251 doesn't match the DataFrame height of 582"
     ]
    }
   ],
   "source": [
    "# The mapping dictionary only defines 'M' and 'K'\n",
    "gender_map = {\n",
    "    \"M\": \"Mann\",\n",
    "    \"K\": \"Kvinne\"\n",
    "}\n",
    "\n",
    "DATE_FORMAT :str = \"%d.%m.%Y\"\n",
    "konverterings_tabell = (\n",
    "    df\n",
    "        .join(\n",
    "            # 1. First join: rename \"Cornerstone\" to be specific\n",
    "            df_medlems_type.select([\n",
    "                \"Access Kattegori\", \n",
    "                pl.col(\"Cornerstone\").alias(\"Kategori_Cornerstone\")\n",
    "            ]),\n",
    "            left_on=\"Kategori\",\n",
    "            right_on=\"Access Kattegori\",\n",
    "            how=\"left\"\n",
    "        )\n",
    "        .join(\n",
    "            # 2. Second join: rename \"Cornerstone\" here as well\n",
    "            df_sivil.select([\n",
    "                \"Access Sivilstatus\", \n",
    "                pl.col(\"Cornerstone\").alias(\"Sivilstand_Cornerstone\")\n",
    "            ]),\n",
    "            left_on=\"Sivilstand\",\n",
    "            right_on=\"Access Sivilstatus\",\n",
    "            how=\"left\"\n",
    "        )\n",
    "        .select(\n",
    "        pl.col(\"MedlemID\"), # \n",
    "        pl.col(\"Innmeldingsdato\").dt.strftime(DATE_FORMAT),\n",
    "        pl.col(\"Er den innmeldte døpt ?\"),\n",
    "        pl.col(\"Menighet\"),\n",
    "        pl.col(\"Fødested\"),\n",
    "        pl.col(\"Dåpsdato\").dt.strftime(DATE_FORMAT),\n",
    "        pl.col(\"Ant barn under 15 år\"),\n",
    "        pl.col(\"Dåpskirke/sted\"),\n",
    "        pl.col(\"Fødselsdato\").dt.strftime(DATE_FORMAT),\n",
    "        pl.col(\"Personnummer\"),\n",
    "        pl.col(\"EFTERNAVN\"),\n",
    "        pl.col(\"FORNAVN\"),\n",
    "        pl.col(\"Stilling\"),\n",
    "        pl.col(\"ADRESSE\"),\n",
    "        pl.col(\"E-postadresse\"),\n",
    "        pl.col(\"POSTNR\"),\n",
    "        pl.col(\"Og\"),\n",
    "        pl.col(\"SAM_FOR\"),\n",
    "        pl.col(\"SAM_EFTER\"),\n",
    "        pl.col(\"Utsendelse\"),\n",
    "        pl.col(\"Utsendelses kode\"),\n",
    "        pl.col(\"Telefon priv\"),\n",
    "        pl.col(\"Telefon mob\"),\n",
    "        pl.col(\"Sivilstand_Cornerstone\"), # Lagt til \n",
    "        pl.col(\"Sivilstand\"),\n",
    "        pl.col(\"Trossamfunn\"),\n",
    "        pl.col(\"Gift?\"),\n",
    "        pl.col(\"Utsendelsesformat\"),\n",
    "        pl.col(\"Ektemakens trossamfunn\"),\n",
    "        pl.col(\"Anmerkning\"),\n",
    "        pl.col(\"Kategori_Cornerstone\"), # Lagt til\n",
    "        pl.col(\"Kategori\"),\n",
    "        pl.when(pl.col(\"Giro\") == True) # The condition: is the value True?\n",
    "            .then(pl.lit(\"Giro\"))           # The result if True\n",
    "            .otherwise(None)                # The result for all other cases (False and Null)\n",
    "            .alias(\"Giro\"),             # Give the new column a name\n",
    "        pl.col(\"RegDato\").dt.strftime(DATE_FORMAT),\n",
    "        pl.col(\"SamID\"),\n",
    "        pl.col(\"FarID\"),\n",
    "        pl.col(\"MorID\"),\n",
    "        pl.col(\"Kjønn\").replace_strict(\n",
    "            gender_map,\n",
    "            default=None # Set the default for non-matches to null        \n",
    "        ).alias(\"Kjønn\"),\n",
    "        pl.col(\"Svart?\"),\n",
    "        pl.col(\"Faddere\"),\n",
    "        pl.col(\"Er mor og far gift?\"),\n",
    "        pl.col(\"Prest\"),\n",
    "        pl.col(\"Dåpsattest\"),\n",
    "        pl.col(\"Søk\"),\n",
    "        pl.col(\"UtmeldtDato\").dt.strftime(DATE_FORMAT),\n",
    "        #pl.col(\"DødsDato\").dt.strftime(DATE_FORMAT), Dødsdato er en string\n",
    "        pl.col(\"DødsDato\"),\n",
    "        pl.col(\"Kommune\"),\n",
    "        pl.col(\"KID-nr\")\n",
    "\n",
    "    )\n",
    ")#.filter(pl.col(\"DødsDato\").is_not_null())\n",
    "pl.Config.set_tbl_cols(-1)\n",
    "konverterings_tabell\n"
   ]
  },
  {
   "cell_type": "code",
   "execution_count": 11,
   "id": "aa4612f0-bea1-49c1-8a7b-22e680322dc8",
   "metadata": {},
   "outputs": [
    {
     "data": {
      "text/plain": [
       "<xlsxwriter.workbook.Workbook at 0x7fb54437e050>"
      ]
     },
     "execution_count": 11,
     "metadata": {},
     "output_type": "execute_result"
    }
   ],
   "source": [
    "#konverterings_tabell.write_excel(\"konverterings_tabell.xlsx\")"
   ]
  },
  {
   "cell_type": "code",
   "execution_count": null,
   "id": "a6967530-0d2f-4eea-9790-ce8656978426",
   "metadata": {},
   "outputs": [],
   "source": []
  }
 ],
 "metadata": {
  "kernelspec": {
   "display_name": "Python 3 (ipykernel)",
   "language": "python",
   "name": "python3"
  },
  "language_info": {
   "codemirror_mode": {
    "name": "ipython",
    "version": 3
   },
   "file_extension": ".py",
   "mimetype": "text/x-python",
   "name": "python",
   "nbconvert_exporter": "python",
   "pygments_lexer": "ipython3",
   "version": "3.11.2"
  }
 },
 "nbformat": 4,
 "nbformat_minor": 5
}
