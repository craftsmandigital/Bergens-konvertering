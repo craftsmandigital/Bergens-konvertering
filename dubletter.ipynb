{
 "cells": [
  {
   "cell_type": "code",
   "execution_count": 1,
   "id": "15a6409a-4c1e-427a-bed6-9d947ef22a57",
   "metadata": {},
   "outputs": [
    {
     "data": {
      "text/plain": [
       "polars.config.Config"
      ]
     },
     "execution_count": 1,
     "metadata": {},
     "output_type": "execute_result"
    }
   ],
   "source": [
    "from find_fuzzy_duplicates import find_fuzzy_duplicates\n",
    "\n",
    "\n",
    "import polars as pl\n",
    "pl.Config.set_tbl_rows(-1)"
   ]
  },
  {
   "cell_type": "markdown",
   "id": "3c8a3004-ffc5-42c0-9dc7-208c72aaa3b4",
   "metadata": {},
   "source": [
    "###### Interne dubletter\n",
    "# Eksterne dubletter med Oslo/Hamar"
   ]
  },
  {
   "cell_type": "code",
   "execution_count": 2,
   "id": "f1a04926-960c-48a7-8b29-2f9df932747f",
   "metadata": {},
   "outputs": [
    {
     "name": "stderr",
     "output_type": "stream",
     "text": [
      "Could not determine dtype for column 43, falling back to string\n"
     ]
    }
   ],
   "source": [
    "###### leser inn Data exportert i fra Bergens Access database\n",
    "# I fra den tabellen som heter \"tblInnmeldte\"\n",
    "df_bergen = (pl.read_excel(\"tblInnmeldte 2025-06-12.xlsx\")\n",
    "    # Vet ikke hvorfor dette blir gjort, men det er det som skjer i access databasen \"qryMedlemmer\" -\n",
    "    # som er utgangspunkt for alle data som vises i Access\n",
    "    # uten filter finnes 333 medlemmer, mens med filter finnes 284 medlemmer.\n",
    "    # det er disse som har vært utgangspunkt for medlems opptellig\n",
    "    .filter(pl.col(\"POSTNR\").is_between(pl.lit(\"100\"), pl.lit(\"9000\"), closed=\"both\"))\n",
    ")\n",
    "#print(df_bergen.select(\"MedlemID\", \"FORNAVN\", \"EFTERNAVN\", \"ADRESSE\", \"POSTNR\").sort([\"FORNAVN\", \"EFTERNAVN\"]))"
   ]
  },
  {
   "cell_type": "code",
   "execution_count": null,
   "id": "26a25ecc-9360-4305-94a1-a59b7b66d604",
   "metadata": {},
   "outputs": [],
   "source": []
  },
  {
   "cell_type": "code",
   "execution_count": 6,
   "id": "18a11a12-f1c6-4abc-9562-8b5af36eb6ef",
   "metadata": {
    "scrolled": true
   },
   "outputs": [
    {
     "data": {
      "text/html": [
       "<div><style>\n",
       ".dataframe > thead > tr,\n",
       ".dataframe > tbody > tr {\n",
       "  text-align: right;\n",
       "  white-space: pre-wrap;\n",
       "}\n",
       "</style>\n",
       "<small>shape: (10, 9)</small><table border=\"1\" class=\"dataframe\"><thead><tr><th>fuzzy_group</th><th>FORNAVN</th><th>EFTERNAVN</th><th>Kategori</th><th>RegDato</th><th>UtmeldtDato</th><th>MedlemID</th><th>ADRESSE</th><th>POSTNR</th></tr><tr><td>i64</td><td>str</td><td>str</td><td>str</td><td>datetime[ms]</td><td>date</td><td>i64</td><td>str</td><td>str</td></tr></thead><tbody><tr><td>0</td><td>&quot;Kari&quot;</td><td>&quot;Berger&quot;</td><td>&quot;M&quot;</td><td>2020-03-20 17:22:29</td><td>null</td><td>3439</td><td>&quot;Gjerdåsvegen 4&quot;</td><td>&quot;5428&quot;</td></tr><tr><td>0</td><td>&quot;Kari Anna&quot;</td><td>&quot;Berger&quot;</td><td>&quot;M&quot;</td><td>2022-08-26 10:09:25</td><td>null</td><td>4592</td><td>&quot;Nordahl Rolfsensvei 22A&quot;</td><td>&quot;5094&quot;</td></tr><tr><td>1</td><td>&quot;Maria Augusta&quot;</td><td>&quot;Helland&quot;</td><td>&quot;M&quot;</td><td>2019-06-13 13:36:59</td><td>null</td><td>4492</td><td>&quot;Sjkoldvegen 40B&quot;</td><td>&quot;5221&quot;</td></tr><tr><td>1</td><td>&quot;Maria&quot;</td><td>&quot;Løvland&quot;</td><td>&quot;UTM&quot;</td><td>2014-09-17 18:03:56</td><td>null</td><td>3628</td><td>&quot;Presthaugveien 1D&quot;</td><td>&quot;5521&quot;</td></tr><tr><td>2</td><td>&quot;Dina Sofie Aeschlimann&quot;</td><td>&quot;Isene&quot;</td><td>&quot;MB&quot;</td><td>2019-09-23 11:20:12</td><td>null</td><td>3537</td><td>&quot;Tørsdalsvegen 573&quot;</td><td>&quot;5574&quot;</td></tr><tr><td>2</td><td>&quot;Oda Sunniva Aeschlimann&quot;</td><td>&quot;Isene&quot;</td><td>&quot;MB&quot;</td><td>2005-01-07 10:13:28</td><td>null</td><td>2811</td><td>&quot;Tørsdalsvegen 573&quot;</td><td>&quot;5574&quot;</td></tr><tr><td>3</td><td>&quot;Lisbeth&quot;</td><td>&quot;Sunde&quot;</td><td>&quot;V&quot;</td><td>2019-06-24 20:24:31</td><td>null</td><td>4578</td><td>&quot;Løvåsveien 70&quot;</td><td>&quot;5145&quot;</td></tr><tr><td>3</td><td>&quot;Lisbeth&quot;</td><td>&quot;Sundt&quot;</td><td>&quot;V&quot;</td><td>2019-04-08 09:14:29</td><td>null</td><td>2172</td><td>&quot;Gimlebakken 18&quot;</td><td>&quot;5052&quot;</td></tr><tr><td>4</td><td>&quot;Amalie Dobrovólny&quot;</td><td>&quot;Wolfe&quot;</td><td>&quot;MB&quot;</td><td>2014-05-21 11:11:23</td><td>null</td><td>3063</td><td>&quot;Johan Hjortsvei 46&quot;</td><td>&quot;5081&quot;</td></tr><tr><td>4</td><td>&quot;Embla Dobrovólny&quot;</td><td>&quot;Wolfe&quot;</td><td>&quot;MB&quot;</td><td>2014-05-21 11:12:02</td><td>null</td><td>2622</td><td>&quot;Johan Hjortsvei 46&quot;</td><td>&quot;5081&quot;</td></tr></tbody></table></div>"
      ],
      "text/plain": [
       "shape: (10, 9)\n",
       "┌────────────┬────────────┬───────────┬──────────┬───┬────────────┬──────────┬────────────┬────────┐\n",
       "│ fuzzy_grou ┆ FORNAVN    ┆ EFTERNAVN ┆ Kategori ┆ … ┆ UtmeldtDat ┆ MedlemID ┆ ADRESSE    ┆ POSTNR │\n",
       "│ p          ┆ ---        ┆ ---       ┆ ---      ┆   ┆ o          ┆ ---      ┆ ---        ┆ ---    │\n",
       "│ ---        ┆ str        ┆ str       ┆ str      ┆   ┆ ---        ┆ i64      ┆ str        ┆ str    │\n",
       "│ i64        ┆            ┆           ┆          ┆   ┆ date       ┆          ┆            ┆        │\n",
       "╞════════════╪════════════╪═══════════╪══════════╪═══╪════════════╪══════════╪════════════╪════════╡\n",
       "│ 0          ┆ Kari       ┆ Berger    ┆ M        ┆ … ┆ null       ┆ 3439     ┆ Gjerdåsveg ┆ 5428   │\n",
       "│            ┆            ┆           ┆          ┆   ┆            ┆          ┆ en 4       ┆        │\n",
       "│ 0          ┆ Kari Anna  ┆ Berger    ┆ M        ┆ … ┆ null       ┆ 4592     ┆ Nordahl    ┆ 5094   │\n",
       "│            ┆            ┆           ┆          ┆   ┆            ┆          ┆ Rolfsensve ┆        │\n",
       "│            ┆            ┆           ┆          ┆   ┆            ┆          ┆ i 22A      ┆        │\n",
       "│ 1          ┆ Maria      ┆ Helland   ┆ M        ┆ … ┆ null       ┆ 4492     ┆ Sjkoldvege ┆ 5221   │\n",
       "│            ┆ Augusta    ┆           ┆          ┆   ┆            ┆          ┆ n 40B      ┆        │\n",
       "│ 1          ┆ Maria      ┆ Løvland   ┆ UTM      ┆ … ┆ null       ┆ 3628     ┆ Presthaugv ┆ 5521   │\n",
       "│            ┆            ┆           ┆          ┆   ┆            ┆          ┆ eien 1D    ┆        │\n",
       "│ 2          ┆ Dina Sofie ┆ Isene     ┆ MB       ┆ … ┆ null       ┆ 3537     ┆ Tørsdalsve ┆ 5574   │\n",
       "│            ┆ Aeschliman ┆           ┆          ┆   ┆            ┆          ┆ gen 573    ┆        │\n",
       "│            ┆ n          ┆           ┆          ┆   ┆            ┆          ┆            ┆        │\n",
       "│ 2          ┆ Oda        ┆ Isene     ┆ MB       ┆ … ┆ null       ┆ 2811     ┆ Tørsdalsve ┆ 5574   │\n",
       "│            ┆ Sunniva    ┆           ┆          ┆   ┆            ┆          ┆ gen 573    ┆        │\n",
       "│            ┆ Aeschliman ┆           ┆          ┆   ┆            ┆          ┆            ┆        │\n",
       "│            ┆ n          ┆           ┆          ┆   ┆            ┆          ┆            ┆        │\n",
       "│ 3          ┆ Lisbeth    ┆ Sunde     ┆ V        ┆ … ┆ null       ┆ 4578     ┆ Løvåsveien ┆ 5145   │\n",
       "│            ┆            ┆           ┆          ┆   ┆            ┆          ┆ 70         ┆        │\n",
       "│ 3          ┆ Lisbeth    ┆ Sundt     ┆ V        ┆ … ┆ null       ┆ 2172     ┆ Gimlebakke ┆ 5052   │\n",
       "│            ┆            ┆           ┆          ┆   ┆            ┆          ┆ n 18       ┆        │\n",
       "│ 4          ┆ Amalie     ┆ Wolfe     ┆ MB       ┆ … ┆ null       ┆ 3063     ┆ Johan      ┆ 5081   │\n",
       "│            ┆ Dobrovólny ┆           ┆          ┆   ┆            ┆          ┆ Hjortsvei  ┆        │\n",
       "│            ┆            ┆           ┆          ┆   ┆            ┆          ┆ 46         ┆        │\n",
       "│ 4          ┆ Embla      ┆ Wolfe     ┆ MB       ┆ … ┆ null       ┆ 2622     ┆ Johan      ┆ 5081   │\n",
       "│            ┆ Dobrovólny ┆           ┆          ┆   ┆            ┆          ┆ Hjortsvei  ┆        │\n",
       "│            ┆            ┆           ┆          ┆   ┆            ┆          ┆ 46         ┆        │\n",
       "└────────────┴────────────┴───────────┴──────────┴───┴────────────┴──────────┴────────────┴────────┘"
      ]
     },
     "execution_count": 6,
     "metadata": {},
     "output_type": "execute_result"
    }
   ],
   "source": [
    "duplicates_found = find_fuzzy_duplicates(\n",
    "        df=df_bergen,\n",
    "        columns=[\"FORNAVN\", \"EFTERNAVN\"],\n",
    "        columns_to_view=[\"Kategori\",\"RegDato\" ,\"UtmeldtDato\", \"MedlemID\", \"ADRESSE\", \"POSTNR\"],\n",
    "        #columns_to_view=None,\n",
    "        similarity_threshold=88,\n",
    "        #blocking_column=\"POSTNR\"\n",
    "    )\n",
    "#duplicates_found.select(\"fuzzy_group\",\"MedlemID\", \"FORNAVN\", \"EFTERNAVN\", \"ADRESSE\", \"POSTNR\")\n",
    "duplicates_found"
   ]
  },
  {
   "cell_type": "code",
   "execution_count": 4,
   "id": "0c197298-a94a-4e64-beb1-f611defea113",
   "metadata": {},
   "outputs": [],
   "source": [
    "#df_bergen.sort([\"FORNAVN\", \"EFTERNAVN\"])"
   ]
  },
  {
   "cell_type": "code",
   "execution_count": null,
   "id": "82ab2c96-b336-49e4-a510-288d50dbaafd",
   "metadata": {},
   "outputs": [],
   "source": []
  }
 ],
 "metadata": {
  "kernelspec": {
   "display_name": "Python 3 (ipykernel)",
   "language": "python",
   "name": "python3"
  },
  "language_info": {
   "codemirror_mode": {
    "name": "ipython",
    "version": 3
   },
   "file_extension": ".py",
   "mimetype": "text/x-python",
   "name": "python",
   "nbconvert_exporter": "python",
   "pygments_lexer": "ipython3",
   "version": "3.11.2"
  }
 },
 "nbformat": 4,
 "nbformat_minor": 5
}
