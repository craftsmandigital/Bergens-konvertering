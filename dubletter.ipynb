{
 "cells": [
  {
   "cell_type": "markdown",
   "id": "2ebc1b14-ba60-4a01-af08-bb4b1aec7616",
   "metadata": {},
   "source": [
    "# Generere liste over dubletter mellom Oslo/Hamar og Bergen."
   ]
  },
  {
   "cell_type": "code",
   "execution_count": 1,
   "id": "15a6409a-4c1e-427a-bed6-9d947ef22a57",
   "metadata": {},
   "outputs": [
    {
     "data": {
      "text/plain": [
       "polars.config.Config"
      ]
     },
     "execution_count": 1,
     "metadata": {},
     "output_type": "execute_result"
    }
   ],
   "source": [
    "from find_fuzzy_duplicates import find_fuzzy_duplicates\n",
    "from hentOgVaskData import hent_og_vask_data\n",
    "\n",
    "import polars as pl\n",
    "pl.Config.set_tbl_rows(-1)"
   ]
  },
  {
   "cell_type": "code",
   "execution_count": 2,
   "id": "f1a04926-960c-48a7-8b29-2f9df932747f",
   "metadata": {},
   "outputs": [
    {
     "name": "stderr",
     "output_type": "stream",
     "text": [
      "Could not determine dtype for column 43, falling back to string\n"
     ]
    }
   ],
   "source": [
    "'''\n",
    "1. Leser inn Data exportert i fra Bergens Access database.\n",
    "   I fra den tabellen som heter `tblInnmeldte`. Dette gjøres ved å benytte funksjonen `hent_og_vask_data()`. Denne funksjonen er også hardkodet med de som har dobbelt medlemskap mellom registerene. Disse blir satt til \"venn\" i stedet for medlem av Bergens registeret.\n",
    "'''\n",
    "df_bergen = hent_og_vask_data()"
   ]
  },
  {
   "cell_type": "code",
   "execution_count": null,
   "id": "26a25ecc-9360-4305-94a1-a59b7b66d604",
   "metadata": {},
   "outputs": [],
   "source": []
  },
  {
   "cell_type": "code",
   "execution_count": 3,
   "id": "0c197298-a94a-4e64-beb1-f611defea113",
   "metadata": {},
   "outputs": [],
   "source": [
    "#df_bergen.sort([\"FORNAVN\", \"EFTERNAVN\"])"
   ]
  },
  {
   "cell_type": "markdown",
   "id": "58bc4072-4ccd-4bc5-a71a-a0294bfe65b0",
   "metadata": {},
   "source": [
    "# Hamar registeret tilpasses Oslo uttrekk"
   ]
  },
  {
   "cell_type": "code",
   "execution_count": 4,
   "id": "a30c1ac1-55b4-441b-997f-0c9317332df1",
   "metadata": {},
   "outputs": [],
   "source": [
    "'''\n",
    "2. forberedelse for å slå sammen Oslo, Bergen registrene i samme tabell. Dette gjøres for å finne dubletter mellom registrene og egen dubletter. Vi velger å tilpasse Bergen tabellen, slik at det blir like kolonne navn med Oslo registeret. \n",
    "'''\n",
    "\n",
    "\n",
    "df_convTable = df_bergen.select(\n",
    "    # Columns that are renamed (or kept with the same name)\n",
    "    pl.lit(0).cast(pl.Int64).alias(\"Cornerstone-ID\"),\n",
    "    pl.col(\"MedlemID\"),  # Alias is optional when name is the same\n",
    "    pl.col(\"Personnummer\").alias(\"Fødselsnummer\"),\n",
    "    pl.col(\"FORNAVN\").alias(\"Fornavn\"),\n",
    "    pl.lit(None).alias(\"Mellomnavn\"),\n",
    "    pl.col(\"EFTERNAVN\").alias(\"Etternavn\"),\n",
    "    pl.col(\"ADRESSE\").alias(\"Adresse\"),\n",
    "    pl.col(\"POSTNR\").alias(\"Postnummer\"),\n",
    "    pl.lit(None).cast(pl.String).alias(\"Gruppens navn 1\"),\n",
    "    pl.col(\"Kategori\").alias(\"Medlemstype 1\"),\n",
    "    pl.col(\"Innmeldingsdato\").dt.strftime(\"%d.%m.%Y\").alias(\"Innmeldt dato 1\"),\n",
    "    pl.col(\"UtmeldtDato\").dt.strftime(\"%d.%m.%Y\").alias(\"Utmeldt dato 1\"),\n",
    "    pl.col(\"Telefon mob\").alias(\"Telefonnummer 1\"),\n",
    "    pl.col(\"E-postadresse\").alias(\"E-post\"),\n",
    "    pl.col(\"RegDato\").dt.strftime(\"%d.%m.%Y\").alias(\"Opprettet\"),\n",
    ")\n"
   ]
  },
  {
   "cell_type": "code",
   "execution_count": 5,
   "id": "1f212642-45ee-411a-b95c-eae4614011f9",
   "metadata": {},
   "outputs": [
    {
     "data": {
      "text/plain": [
       "Schema([('Cornerstone-ID', Int64),\n",
       "        ('MedlemID', Int64),\n",
       "        ('Fødselsnummer', String),\n",
       "        ('Fornavn', String),\n",
       "        ('Mellomnavn', Null),\n",
       "        ('Etternavn', String),\n",
       "        ('Adresse', String),\n",
       "        ('Postnummer', String),\n",
       "        ('Gruppens navn 1', String),\n",
       "        ('Medlemstype 1', String),\n",
       "        ('Innmeldt dato 1', String),\n",
       "        ('Utmeldt dato 1', String),\n",
       "        ('Telefonnummer 1', String),\n",
       "        ('E-post', String),\n",
       "        ('Opprettet', String)])"
      ]
     },
     "execution_count": 5,
     "metadata": {},
     "output_type": "execute_result"
    }
   ],
   "source": [
    "df_convTable.schema"
   ]
  },
  {
   "cell_type": "code",
   "execution_count": 6,
   "id": "2412d8a9-7676-4bd8-9b86-3171a7348f8b",
   "metadata": {},
   "outputs": [],
   "source": [
    "'''\n",
    "3. Leser inn Oslo/Hamar registeret i en tabell, Vi slår også sammen \"Fornavn\" og \"Mellom\" navn, slik at det blir mest mulig likt med Bergen.\n",
    "'''\n",
    "# Leser inn en eksport av alle personer fro Cornerstone\n",
    "df_oslo = (pl.read_excel(\"oslo_hamar.xlsx\")\n",
    ")\n",
    "\n",
    "# Slår sammen fornavn og etternavn, slik at det blir likt med Bergens registeret\n",
    "df_oslo = df_oslo.with_columns(\n",
    "    pl.when(pl.col(\"Mellomnavn\").is_not_null())  # The condition: IF Mellomnavn is NOT null\n",
    "    .then(pl.col(\"Fornavn\") + \" \" + pl.col(\"Mellomnavn\")) # THEN: concatenate the names\n",
    "    .otherwise(pl.col(\"Fornavn\")) # OTHERWISE: keep the original Fornavn\n",
    "    .alias(\"Fornavn\") # Crucial: This overwrites the existing \"Fornavn\" column\n",
    ")"
   ]
  },
  {
   "cell_type": "code",
   "execution_count": 7,
   "id": "0ddd50ae-674d-48c3-a58b-5a41a58cb7b1",
   "metadata": {},
   "outputs": [
    {
     "name": "stdout",
     "output_type": "stream",
     "text": [
      "Schema([('Cornerstone-ID', Int64), ('MedlemID', Int64), ('Fødselsnummer', String), ('Fornavn', String), ('Mellomnavn', String), ('Etternavn', String), ('Adresse', String), ('Postnummer', String), ('Gruppens navn 1', String), ('Medlemstype 1', String), ('Innmeldt dato 1', String), ('Utmeldt dato 1', String), ('Telefonnummer 1', String), ('E-post', String), ('Opprettet', String)])\n",
      "Schema([('Cornerstone-ID', Int64), ('MedlemID', Int64), ('Fødselsnummer', String), ('Fornavn', String), ('Mellomnavn', Null), ('Etternavn', String), ('Adresse', String), ('Postnummer', String), ('Gruppens navn 1', String), ('Medlemstype 1', String), ('Innmeldt dato 1', String), ('Utmeldt dato 1', String), ('Telefonnummer 1', String), ('E-post', String), ('Opprettet', String)])\n"
     ]
    }
   ],
   "source": [
    "'''\n",
    "4. Sjekker om Oslo og Bergen tabellene er like, da er de klare for sammenslåing.\n",
    "   Slår sammen Oslo og Bergen tabellene til en stor felles tabell\n",
    "'''\n",
    "\n",
    "# Sjekker om de to tabellene er like for samenslåing og dublett finning\n",
    "print(df_oslo.schema)\n",
    "print(df_convTable.schema)\n",
    "df_combined = pl.concat([df_oslo, df_convTable])"
   ]
  },
  {
   "cell_type": "markdown",
   "id": "b4dedd52-94d4-4847-b9dd-30dc677b3869",
   "metadata": {},
   "source": [
    "# Legg inn dette om du vil ta ut forhåndsdubletter\n",
    "\n",
    "``` python\n",
    "df_forhånds_dubletter = (\n",
    "    pl.read_excel(\"DubletterOsloBergen.xlsx\")\n",
    "        .filter(pl.col(\"Menighet\") == \"BERGEN\") #\n",
    "        .select(pl.col(\"MedlemID\"))\n",
    ")\n",
    "df_forhånds_dubletter\n",
    "\n",
    "\n",
    "df_combined = (\n",
    "    df_combined.join(\n",
    "        df_forhånds_dubletter,\n",
    "        on=\"MedlemID\",\n",
    "        how=\"anti\"\n",
    "    )\n",
    ")\n",
    "df_combined\n",
    "```"
   ]
  },
  {
   "cell_type": "code",
   "execution_count": 8,
   "id": "2ce57bef-da8d-4030-bb6d-09d8f77163b8",
   "metadata": {},
   "outputs": [],
   "source": [
    "\n",
    "\n",
    "#df_combined_duplicates.write_excel(\"dummy.xlsx\")"
   ]
  },
  {
   "cell_type": "code",
   "execution_count": null,
   "id": "61ee595a-4188-42f0-ad17-a3b4fa8af8a3",
   "metadata": {},
   "outputs": [],
   "source": [
    "'''\n",
    "5. Finner dubletter mellom tabellene ved funksjonen `find_fuzzy_duplicates`\n",
    "   Tabellen viser grupper av Dubletter \n",
    "'''\n",
    "\n",
    "# Finner dubletter mellom Bergen Oslo/Hamar\n",
    "df_combined_duplicates = find_fuzzy_duplicates(\n",
    "    df=df_combined,\n",
    "    columns=[\"Fornavn\", \"Etternavn\"],\n",
    "    columns_to_view=[\"Mellomnavn\",\"Cornerstone-ID\", \"MedlemID\", \"Medlemstype 1\" ,\"Adresse\", \"Postnummer\", \"Innmeldt dato 1\",\"Utmeldt dato 1\", \"Fødselsnummer\"],\n",
    "    #columns_to_view=None,\n",
    "    similarity_threshold=90,\n",
    "    #blocking_column=\"Postnummer\"\n",
    ")\n",
    "#print(df_combined_duplicates.select(\"fuzzy_group\",\"MedlemID\", \"Fornavn\", \"Etternavn\", \"Adresse\", \"Postnummer\",\"Fødselsnummer\"))\n",
    "df_combined_duplicates"
   ]
  },
  {
   "cell_type": "code",
   "execution_count": 19,
   "id": "4a0d442b-260d-49be-904c-cdf3ac38672a",
   "metadata": {},
   "outputs": [
    {
     "name": "stdout",
     "output_type": "stream",
     "text": [
      "shape: (9, 2)\n",
      "┌─────────────┬────────────┐\n",
      "│ fuzzy_group ┆ group_size │\n",
      "│ ---         ┆ ---        │\n",
      "│ i64         ┆ u32        │\n",
      "╞═════════════╪════════════╡\n",
      "│ 27          ┆ 4          │\n",
      "│ 38          ┆ 3          │\n",
      "│ 41          ┆ 3          │\n",
      "│ 43          ┆ 3          │\n",
      "│ 69          ┆ 3          │\n",
      "│ 72          ┆ 3          │\n",
      "│ 89          ┆ 3          │\n",
      "│ 91          ┆ 3          │\n",
      "│ 94          ┆ 3          │\n",
      "└─────────────┴────────────┘\n"
     ]
    },
    {
     "name": "stderr",
     "output_type": "stream",
     "text": [
      "/tmp/ipykernel_28440/2168568234.py:8: DeprecationWarning: `pl.count()` is deprecated. Please use `pl.len()` instead.\n",
      "(Deprecated in version 0.20.5)\n",
      "  pl.count().alias(\"group_size\") # Count rows in each group\n"
     ]
    },
    {
     "data": {
      "text/html": [
       "<div><style>\n",
       ".dataframe > thead > tr,\n",
       ".dataframe > tbody > tr {\n",
       "  text-align: right;\n",
       "  white-space: pre-wrap;\n",
       "}\n",
       "</style>\n",
       "<small>shape: (28, 13)</small><table border=\"1\" class=\"dataframe\"><thead><tr><th>fuzzy_group</th><th>group_size</th><th>Fornavn</th><th>Etternavn</th><th>Mellomnavn</th><th>Cornerstone-ID</th><th>MedlemID</th><th>Medlemstype 1</th><th>Adresse</th><th>Postnummer</th><th>Innmeldt dato 1</th><th>Utmeldt dato 1</th><th>Fødselsnummer</th></tr><tr><td>i64</td><td>u32</td><td>str</td><td>str</td><td>str</td><td>i64</td><td>i64</td><td>str</td><td>str</td><td>str</td><td>str</td><td>str</td><td>str</td></tr></thead><tbody><tr><td>27</td><td>4</td><td>&quot;Gabriel Gaupseth Christiansen&quot;</td><td>&quot;Eikaas&quot;</td><td>null</td><td>2058397</td><td>0</td><td>&quot;Medlem Barn&quot;</td><td>&quot;Granvegen 54&quot;</td><td>&quot;2742&quot;</td><td>&quot;01.01.2019&quot;</td><td>null</td><td>&quot;05111790568&quot;</td></tr><tr><td>27</td><td>4</td><td>&quot;Liv Christiansen&quot;</td><td>&quot;Eikaas&quot;</td><td>null</td><td>2058233</td><td>0</td><td>&quot;Medlem&quot;</td><td>&quot;Granvegen 54&quot;</td><td>&quot;2742&quot;</td><td>&quot;01.01.2019&quot;</td><td>null</td><td>&quot;31057745811&quot;</td></tr><tr><td>27</td><td>4</td><td>&quot;Olivia Viola Gaupseth Christia…</td><td>&quot;Eikaas&quot;</td><td>null</td><td>2058395</td><td>0</td><td>&quot;Medlem Barn&quot;</td><td>&quot;Granvegen 54&quot;</td><td>&quot;2742&quot;</td><td>&quot;01.01.2019&quot;</td><td>null</td><td>&quot;28041089891&quot;</td></tr><tr><td>27</td><td>4</td><td>&quot;Theodor Christiansen&quot;</td><td>&quot;Eikaas&quot;</td><td>null</td><td>2058396</td><td>0</td><td>&quot;Medlem Barn&quot;</td><td>&quot;Granvegen 54&quot;</td><td>&quot;2742&quot;</td><td>&quot;01.01.2019&quot;</td><td>null</td><td>&quot;23060879923&quot;</td></tr><tr><td>38</td><td>3</td><td>&quot;Krister&quot;</td><td>&quot;Halck&quot;</td><td>null</td><td>6040239</td><td>0</td><td>null</td><td>null</td><td>null</td><td>null</td><td>null</td><td>null</td></tr><tr><td>38</td><td>3</td><td>&quot;Krister&quot;</td><td>&quot;Halck&quot;</td><td>null</td><td>4583437</td><td>0</td><td>null</td><td>null</td><td>null</td><td>null</td><td>null</td><td>null</td></tr><tr><td>38</td><td>3</td><td>&quot;Per Krister&quot;</td><td>&quot;Halck&quot;</td><td>null</td><td>2057164</td><td>0</td><td>null</td><td>&quot;Flesåstunet 2 B&quot;</td><td>&quot;0860&quot;</td><td>null</td><td>null</td><td>&quot;24117037343&quot;</td></tr><tr><td>41</td><td>3</td><td>&quot;Lars&quot;</td><td>&quot;Hektoen&quot;</td><td>null</td><td>2055481</td><td>0</td><td>null</td><td>&quot;Krags vei 9 A&quot;</td><td>&quot;0783&quot;</td><td>null</td><td>null</td><td>null</td></tr><tr><td>41</td><td>3</td><td>&quot;Lars Michael Stockhausen&quot;</td><td>&quot;Hektoen&quot;</td><td>null</td><td>2056516</td><td>0</td><td>&quot;Ordinært medlem&quot;</td><td>&quot;Krags vei 9&quot;</td><td>&quot;0783&quot;</td><td>&quot;01.01.2019&quot;</td><td>null</td><td>&quot;08098940996&quot;</td></tr><tr><td>41</td><td>3</td><td>&quot;Lars Nicholas Ataliba&quot;</td><td>&quot;Hektoen&quot;</td><td>null</td><td>3208888</td><td>0</td><td>null</td><td>&quot;Risalléen 23 C&quot;</td><td>&quot;0374&quot;</td><td>null</td><td>null</td><td>&quot;14030776934&quot;</td></tr><tr><td>43</td><td>3</td><td>&quot;Evelyn Romer&quot;</td><td>&quot;Iversen&quot;</td><td>null</td><td>2055508</td><td>0</td><td>&quot;Medlem&quot;</td><td>&quot;Bergsmyrene 2&quot;</td><td>&quot;3483&quot;</td><td>&quot;01.01.2019&quot;</td><td>&quot;11.08.2020&quot;</td><td>&quot;10075824632&quot;</td></tr><tr><td>43</td><td>3</td><td>&quot;Severin Romer&quot;</td><td>&quot;Iversen&quot;</td><td>null</td><td>2056789</td><td>0</td><td>&quot;Støttemedlem&quot;</td><td>&quot;Bergsmyrene 2&quot;</td><td>&quot;3483&quot;</td><td>&quot;01.01.2019&quot;</td><td>null</td><td>&quot;02089244733&quot;</td></tr><tr><td>43</td><td>3</td><td>&quot;Verena Romer&quot;</td><td>&quot;Iversen&quot;</td><td>null</td><td>2057220</td><td>0</td><td>&quot;Støttemedlem&quot;</td><td>&quot;Bergsmyrene 2&quot;</td><td>&quot;3483&quot;</td><td>&quot;01.01.2019&quot;</td><td>null</td><td>&quot;06049441019&quot;</td></tr><tr><td>69</td><td>3</td><td>&quot;Elin Trondsdatter&quot;</td><td>&quot;Ottestad&quot;</td><td>null</td><td>2056993</td><td>0</td><td>&quot;Medlem Ungdom&quot;</td><td>&quot;Tenvikv 114&quot;</td><td>&quot;3140&quot;</td><td>&quot;01.01.2019&quot;</td><td>null</td><td>&quot;16109442295&quot;</td></tr><tr><td>69</td><td>3</td><td>&quot;Hedda Trondsdatter&quot;</td><td>&quot;Ottestad&quot;</td><td>null</td><td>2057473</td><td>0</td><td>&quot;Medlem Barn&quot;</td><td>&quot;Tenvikv 114&quot;</td><td>&quot;3140&quot;</td><td>&quot;01.01.2019&quot;</td><td>null</td><td>&quot;08059844874&quot;</td></tr><tr><td>69</td><td>3</td><td>&quot;Jenny Trondsdatter&quot;</td><td>&quot;Ottestad&quot;</td><td>null</td><td>2056498</td><td>0</td><td>&quot;Støttemedlem&quot;</td><td>&quot;Tenvikv 114&quot;</td><td>&quot;3140&quot;</td><td>&quot;01.01.2019&quot;</td><td>null</td><td>&quot;08118940076&quot;</td></tr><tr><td>72</td><td>3</td><td>&quot;Anjo Johanna&quot;</td><td>&quot;Peters&quot;</td><td>null</td><td>2056309</td><td>0</td><td>&quot;Medlem&quot;</td><td>&quot;Nordåsgrenda 178&quot;</td><td>&quot;5235&quot;</td><td>&quot;01.01.2019&quot;</td><td>&quot;19.02.2021&quot;</td><td>&quot;25116024244&quot;</td></tr><tr><td>72</td><td>3</td><td>&quot;Johanna&quot;</td><td>&quot;Petersen&quot;</td><td>null</td><td>2145415</td><td>0</td><td>null</td><td>&quot;Romsveien 317&quot;</td><td>&quot;3179&quot;</td><td>null</td><td>null</td><td>&quot;07047824278&quot;</td></tr><tr><td>72</td><td>3</td><td>&quot;Anjo Johanna&quot;</td><td>&quot;Peters&quot;</td><td>null</td><td>0</td><td>12577</td><td>&quot;V&quot;</td><td>&quot;Nordåsgrenda 178&quot;</td><td>&quot;5235&quot;</td><td>null</td><td>null</td><td>&quot;25116024244&quot;</td></tr><tr><td>89</td><td>3</td><td>&quot;Maria Austenå&quot;</td><td>&quot;Sjøberg&quot;</td><td>null</td><td>2057823</td><td>0</td><td>null</td><td>&quot;Mellomåsvn. 18&quot;</td><td>&quot;1414&quot;</td><td>null</td><td>null</td><td>null</td></tr><tr><td>89</td><td>3</td><td>&quot;Tarjei Austenå&quot;</td><td>&quot;Sjøberg&quot;</td><td>&quot;Austenå&quot;</td><td>2057825</td><td>0</td><td>&quot;Medlem Barn&quot;</td><td>&quot;Pauline Halls Vei 23&quot;</td><td>&quot;1410&quot;</td><td>&quot;01.01.2019&quot;</td><td>null</td><td>&quot;15069941106&quot;</td></tr><tr><td>89</td><td>3</td><td>&quot;Tiril Austenå&quot;</td><td>&quot;Sjøberg&quot;</td><td>null</td><td>2057822</td><td>0</td><td>&quot;Medlem Barn&quot;</td><td>&quot;Pauline Hallsvei 23&quot;</td><td>&quot;1410&quot;</td><td>&quot;01.01.2019&quot;</td><td>null</td><td>&quot;11070195447&quot;</td></tr><tr><td>91</td><td>3</td><td>&quot;Ella Lova Kirchhofer Fernander&quot;</td><td>&quot;Smit&quot;</td><td>&quot;Kirchhofer Fernander&quot;</td><td>2858424</td><td>0</td><td>&quot;Medlem&quot;</td><td>&quot;EIKSKOLLEN 7 D&quot;</td><td>&quot;1361&quot;</td><td>&quot;17.09.2018&quot;</td><td>null</td><td>&quot;01051897451&quot;</td></tr><tr><td>91</td><td>3</td><td>&quot;Lily Isabelle Kirchhofer Ferna…</td><td>&quot;Smit&quot;</td><td>&quot;Kirchhofer Fernander&quot;</td><td>2858475</td><td>0</td><td>&quot;Medlem&quot;</td><td>&quot;EIKSKOLLEN 7 D&quot;</td><td>&quot;1361&quot;</td><td>&quot;07.09.2018&quot;</td><td>null</td><td>&quot;23041586087&quot;</td></tr><tr><td>91</td><td>3</td><td>&quot;Loui Christian Kirchhofer Fern…</td><td>&quot;Smit&quot;</td><td>&quot;Kirchhofer Fernander&quot;</td><td>2858496</td><td>0</td><td>&quot;Medlem&quot;</td><td>&quot;Eikskollen 7 D&quot;</td><td>&quot;1361&quot;</td><td>&quot;17.09.2018&quot;</td><td>null</td><td>&quot;25021383158&quot;</td></tr><tr><td>94</td><td>3</td><td>&quot;Mathias Schønheyder&quot;</td><td>&quot;Stegenstad&quot;</td><td>null</td><td>2058151</td><td>0</td><td>&quot;Medlem Barn&quot;</td><td>&quot;Guldbergs vei 28c&quot;</td><td>&quot;0375&quot;</td><td>&quot;01.01.2019&quot;</td><td>null</td><td>&quot;04040780721&quot;</td></tr><tr><td>94</td><td>3</td><td>&quot;Patrik Schønheyder&quot;</td><td>&quot;Stegenstad&quot;</td><td>null</td><td>2057873</td><td>0</td><td>&quot;Medlem Barn&quot;</td><td>&quot;Guldbergs vei 28 C&quot;</td><td>&quot;0375&quot;</td><td>&quot;01.01.2019&quot;</td><td>null</td><td>&quot;14090383907&quot;</td></tr><tr><td>94</td><td>3</td><td>&quot;Sara Schønheyder&quot;</td><td>&quot;Stegenstad&quot;</td><td>null</td><td>2058175</td><td>0</td><td>&quot;Medlem Barn&quot;</td><td>&quot;Guldbergs vei 28 C&quot;</td><td>&quot;0375&quot;</td><td>&quot;01.01.2019&quot;</td><td>null</td><td>&quot;27040990270&quot;</td></tr></tbody></table></div>"
      ],
      "text/plain": [
       "shape: (28, 13)\n",
       "┌───────────┬───────────┬───────────┬───────────┬───┬───────────┬───────────┬───────────┬──────────┐\n",
       "│ fuzzy_gro ┆ group_siz ┆ Fornavn   ┆ Etternavn ┆ … ┆ Postnumme ┆ Innmeldt  ┆ Utmeldt   ┆ Fødselsn │\n",
       "│ up        ┆ e         ┆ ---       ┆ ---       ┆   ┆ r         ┆ dato 1    ┆ dato 1    ┆ ummer    │\n",
       "│ ---       ┆ ---       ┆ str       ┆ str       ┆   ┆ ---       ┆ ---       ┆ ---       ┆ ---      │\n",
       "│ i64       ┆ u32       ┆           ┆           ┆   ┆ str       ┆ str       ┆ str       ┆ str      │\n",
       "╞═══════════╪═══════════╪═══════════╪═══════════╪═══╪═══════════╪═══════════╪═══════════╪══════════╡\n",
       "│ 27        ┆ 4         ┆ Gabriel   ┆ Eikaas    ┆ … ┆ 2742      ┆ 01.01.201 ┆ null      ┆ 05111790 │\n",
       "│           ┆           ┆ Gaupseth  ┆           ┆   ┆           ┆ 9         ┆           ┆ 568      │\n",
       "│           ┆           ┆ Christian ┆           ┆   ┆           ┆           ┆           ┆          │\n",
       "│           ┆           ┆ sen       ┆           ┆   ┆           ┆           ┆           ┆          │\n",
       "│ 27        ┆ 4         ┆ Liv Chris ┆ Eikaas    ┆ … ┆ 2742      ┆ 01.01.201 ┆ null      ┆ 31057745 │\n",
       "│           ┆           ┆ tiansen   ┆           ┆   ┆           ┆ 9         ┆           ┆ 811      │\n",
       "│ 27        ┆ 4         ┆ Olivia    ┆ Eikaas    ┆ … ┆ 2742      ┆ 01.01.201 ┆ null      ┆ 28041089 │\n",
       "│           ┆           ┆ Viola     ┆           ┆   ┆           ┆ 9         ┆           ┆ 891      │\n",
       "│           ┆           ┆ Gaupseth  ┆           ┆   ┆           ┆           ┆           ┆          │\n",
       "│           ┆           ┆ Christia… ┆           ┆   ┆           ┆           ┆           ┆          │\n",
       "│ 27        ┆ 4         ┆ Theodor   ┆ Eikaas    ┆ … ┆ 2742      ┆ 01.01.201 ┆ null      ┆ 23060879 │\n",
       "│           ┆           ┆ Christian ┆           ┆   ┆           ┆ 9         ┆           ┆ 923      │\n",
       "│           ┆           ┆ sen       ┆           ┆   ┆           ┆           ┆           ┆          │\n",
       "│ 38        ┆ 3         ┆ Krister   ┆ Halck     ┆ … ┆ null      ┆ null      ┆ null      ┆ null     │\n",
       "│ 38        ┆ 3         ┆ Krister   ┆ Halck     ┆ … ┆ null      ┆ null      ┆ null      ┆ null     │\n",
       "│ 38        ┆ 3         ┆ Per       ┆ Halck     ┆ … ┆ 0860      ┆ null      ┆ null      ┆ 24117037 │\n",
       "│           ┆           ┆ Krister   ┆           ┆   ┆           ┆           ┆           ┆ 343      │\n",
       "│ 41        ┆ 3         ┆ Lars      ┆ Hektoen   ┆ … ┆ 0783      ┆ null      ┆ null      ┆ null     │\n",
       "│ 41        ┆ 3         ┆ Lars      ┆ Hektoen   ┆ … ┆ 0783      ┆ 01.01.201 ┆ null      ┆ 08098940 │\n",
       "│           ┆           ┆ Michael   ┆           ┆   ┆           ┆ 9         ┆           ┆ 996      │\n",
       "│           ┆           ┆ Stockhaus ┆           ┆   ┆           ┆           ┆           ┆          │\n",
       "│           ┆           ┆ en        ┆           ┆   ┆           ┆           ┆           ┆          │\n",
       "│ 41        ┆ 3         ┆ Lars      ┆ Hektoen   ┆ … ┆ 0374      ┆ null      ┆ null      ┆ 14030776 │\n",
       "│           ┆           ┆ Nicholas  ┆           ┆   ┆           ┆           ┆           ┆ 934      │\n",
       "│           ┆           ┆ Ataliba   ┆           ┆   ┆           ┆           ┆           ┆          │\n",
       "│ 43        ┆ 3         ┆ Evelyn    ┆ Iversen   ┆ … ┆ 3483      ┆ 01.01.201 ┆ 11.08.202 ┆ 10075824 │\n",
       "│           ┆           ┆ Romer     ┆           ┆   ┆           ┆ 9         ┆ 0         ┆ 632      │\n",
       "│ 43        ┆ 3         ┆ Severin   ┆ Iversen   ┆ … ┆ 3483      ┆ 01.01.201 ┆ null      ┆ 02089244 │\n",
       "│           ┆           ┆ Romer     ┆           ┆   ┆           ┆ 9         ┆           ┆ 733      │\n",
       "│ 43        ┆ 3         ┆ Verena    ┆ Iversen   ┆ … ┆ 3483      ┆ 01.01.201 ┆ null      ┆ 06049441 │\n",
       "│           ┆           ┆ Romer     ┆           ┆   ┆           ┆ 9         ┆           ┆ 019      │\n",
       "│ 69        ┆ 3         ┆ Elin Tron ┆ Ottestad  ┆ … ┆ 3140      ┆ 01.01.201 ┆ null      ┆ 16109442 │\n",
       "│           ┆           ┆ dsdatter  ┆           ┆   ┆           ┆ 9         ┆           ┆ 295      │\n",
       "│ 69        ┆ 3         ┆ Hedda Tro ┆ Ottestad  ┆ … ┆ 3140      ┆ 01.01.201 ┆ null      ┆ 08059844 │\n",
       "│           ┆           ┆ ndsdatter ┆           ┆   ┆           ┆ 9         ┆           ┆ 874      │\n",
       "│ 69        ┆ 3         ┆ Jenny Tro ┆ Ottestad  ┆ … ┆ 3140      ┆ 01.01.201 ┆ null      ┆ 08118940 │\n",
       "│           ┆           ┆ ndsdatter ┆           ┆   ┆           ┆ 9         ┆           ┆ 076      │\n",
       "│ 72        ┆ 3         ┆ Anjo      ┆ Peters    ┆ … ┆ 5235      ┆ 01.01.201 ┆ 19.02.202 ┆ 25116024 │\n",
       "│           ┆           ┆ Johanna   ┆           ┆   ┆           ┆ 9         ┆ 1         ┆ 244      │\n",
       "│ 72        ┆ 3         ┆ Johanna   ┆ Petersen  ┆ … ┆ 3179      ┆ null      ┆ null      ┆ 07047824 │\n",
       "│           ┆           ┆           ┆           ┆   ┆           ┆           ┆           ┆ 278      │\n",
       "│ 72        ┆ 3         ┆ Anjo      ┆ Peters    ┆ … ┆ 5235      ┆ null      ┆ null      ┆ 25116024 │\n",
       "│           ┆           ┆ Johanna   ┆           ┆   ┆           ┆           ┆           ┆ 244      │\n",
       "│ 89        ┆ 3         ┆ Maria     ┆ Sjøberg   ┆ … ┆ 1414      ┆ null      ┆ null      ┆ null     │\n",
       "│           ┆           ┆ Austenå   ┆           ┆   ┆           ┆           ┆           ┆          │\n",
       "│ 89        ┆ 3         ┆ Tarjei    ┆ Sjøberg   ┆ … ┆ 1410      ┆ 01.01.201 ┆ null      ┆ 15069941 │\n",
       "│           ┆           ┆ Austenå   ┆           ┆   ┆           ┆ 9         ┆           ┆ 106      │\n",
       "│ 89        ┆ 3         ┆ Tiril     ┆ Sjøberg   ┆ … ┆ 1410      ┆ 01.01.201 ┆ null      ┆ 11070195 │\n",
       "│           ┆           ┆ Austenå   ┆           ┆   ┆           ┆ 9         ┆           ┆ 447      │\n",
       "│ 91        ┆ 3         ┆ Ella Lova ┆ Smit      ┆ … ┆ 1361      ┆ 17.09.201 ┆ null      ┆ 01051897 │\n",
       "│           ┆           ┆ Kirchhofe ┆           ┆   ┆           ┆ 8         ┆           ┆ 451      │\n",
       "│           ┆           ┆ r         ┆           ┆   ┆           ┆           ┆           ┆          │\n",
       "│           ┆           ┆ Fernander ┆           ┆   ┆           ┆           ┆           ┆          │\n",
       "│ 91        ┆ 3         ┆ Lily      ┆ Smit      ┆ … ┆ 1361      ┆ 07.09.201 ┆ null      ┆ 23041586 │\n",
       "│           ┆           ┆ Isabelle  ┆           ┆   ┆           ┆ 8         ┆           ┆ 087      │\n",
       "│           ┆           ┆ Kirchhofe ┆           ┆   ┆           ┆           ┆           ┆          │\n",
       "│           ┆           ┆ r Ferna…  ┆           ┆   ┆           ┆           ┆           ┆          │\n",
       "│ 91        ┆ 3         ┆ Loui      ┆ Smit      ┆ … ┆ 1361      ┆ 17.09.201 ┆ null      ┆ 25021383 │\n",
       "│           ┆           ┆ Christian ┆           ┆   ┆           ┆ 8         ┆           ┆ 158      │\n",
       "│           ┆           ┆ Kirchhofe ┆           ┆   ┆           ┆           ┆           ┆          │\n",
       "│           ┆           ┆ r Fern…   ┆           ┆   ┆           ┆           ┆           ┆          │\n",
       "│ 94        ┆ 3         ┆ Mathias   ┆ Stegensta ┆ … ┆ 0375      ┆ 01.01.201 ┆ null      ┆ 04040780 │\n",
       "│           ┆           ┆ Schønheyd ┆ d         ┆   ┆           ┆ 9         ┆           ┆ 721      │\n",
       "│           ┆           ┆ er        ┆           ┆   ┆           ┆           ┆           ┆          │\n",
       "│ 94        ┆ 3         ┆ Patrik    ┆ Stegensta ┆ … ┆ 0375      ┆ 01.01.201 ┆ null      ┆ 14090383 │\n",
       "│           ┆           ┆ Schønheyd ┆ d         ┆   ┆           ┆ 9         ┆           ┆ 907      │\n",
       "│           ┆           ┆ er        ┆           ┆   ┆           ┆           ┆           ┆          │\n",
       "│ 94        ┆ 3         ┆ Sara Schø ┆ Stegensta ┆ … ┆ 0375      ┆ 01.01.201 ┆ null      ┆ 27040990 │\n",
       "│           ┆           ┆ nheyder   ┆ d         ┆   ┆           ┆ 9         ┆           ┆ 270      │\n",
       "└───────────┴───────────┴───────────┴───────────┴───┴───────────┴───────────┴───────────┴──────────┘"
      ]
     },
     "execution_count": 19,
     "metadata": {},
     "output_type": "execute_result"
    }
   ],
   "source": [
    "'''\n",
    "6. Finner Dubletter med flere en 2 forekomster. Dette viser en fin liste over de med mer en 2 forekomster. Tabellen som skrivers ut i 5.2 skal redigeres manuelt til kun å inneholde 2 forekomst dubletter.\n",
    "'''\n",
    "\n",
    "# --- Find fuzzy_group values that repeat more than 2 times ---\n",
    "df_groups_with_more_than_2_members = (\n",
    "    df_combined_duplicates\n",
    "    .group_by(\"fuzzy_group\")\n",
    "    .agg(\n",
    "        pl.count().alias(\"group_size\") # Count rows in each group\n",
    "    )\n",
    "    .filter(\n",
    "        pl.col(\"group_size\") > 2 # Keep only groups where size > 2\n",
    "    )\n",
    "    .select(\"fuzzy_group\", \"group_size\") # Select just the fuzzy_group column\n",
    ")\n",
    "\n",
    "print(df_groups_with_more_than_2_members)\n",
    "\n",
    "\n",
    "# wiew those who is more than dubeled\n",
    "df_more_than_2_occurrences = (\n",
    "    df_groups_with_more_than_2_members\n",
    "        .join(df_combined_duplicates,\n",
    "              on=\"fuzzy_group\",\n",
    "              how=\"inner\"\n",
    "    )\n",
    ")\n",
    "df_more_than_2_occurrences"
   ]
  },
  {
   "cell_type": "code",
   "execution_count": 12,
   "id": "f7b59125-4090-4135-8feb-660254c1c24c",
   "metadata": {},
   "outputs": [],
   "source": [
    "#df_combined_duplicates.write_excel(\"DubletterOsloBergen.xlsx\")"
   ]
  },
  {
   "cell_type": "code",
   "execution_count": 13,
   "id": "e2a62cb3-10a7-4b57-9820-66661e8b967a",
   "metadata": {},
   "outputs": [
    {
     "data": {
      "text/html": [
       "<div><style>\n",
       ".dataframe > thead > tr,\n",
       ".dataframe > tbody > tr {\n",
       "  text-align: right;\n",
       "  white-space: pre-wrap;\n",
       "}\n",
       "</style>\n",
       "<small>shape: (76, 57)</small><table border=\"1\" class=\"dataframe\"><thead><tr><th>fuzzy_group</th><th>Fornavn</th><th>Etternavn</th><th>Mellomnavn</th><th>Cornerstone-ID</th><th>MedlemID</th><th>Medlemstype 1</th><th>Adresse</th><th>Postnummer</th><th>Innmeldt dato 1</th><th>Utmeldt dato 1</th><th>Fødselsnummer</th><th>Innmeldingsdato</th><th>Er den innmeldte døpt ?</th><th>Menighet</th><th>Fødested</th><th>Dåpsdato</th><th>Ant barn under 15 år</th><th>Dåpskirke/sted</th><th>Fødselsdato</th><th>Personnummer</th><th>EFTERNAVN</th><th>FORNAVN</th><th>Stilling</th><th>ADRESSE</th><th>E-postadresse</th><th>POSTNR</th><th>Og</th><th>SAM_FOR</th><th>SAM_EFTER</th><th>Utsendelse</th><th>Utsendelses kode</th><th>Telefon priv</th><th>Telefon mob</th><th>Sivilstand</th><th>Trossamfunn</th><th>Gift?</th><th>Utsendelsesformat</th><th>Ektemakens trossamfunn</th><th>Anmerkning</th><th>Kategori</th><th>Giro</th><th>RegDato</th><th>SamID</th><th>FarID</th><th>MorID</th><th>Kjønn</th><th>Svart?</th><th>Faddere</th><th>Er mor og far gift?</th><th>Prest</th><th>Dåpsattest</th><th>Søk</th><th>UtmeldtDato</th><th>DødsDato</th><th>Kommune</th><th>KID-nr</th></tr><tr><td>i64</td><td>str</td><td>str</td><td>str</td><td>i64</td><td>i64</td><td>str</td><td>str</td><td>str</td><td>str</td><td>str</td><td>str</td><td>date</td><td>bool</td><td>str</td><td>str</td><td>date</td><td>i64</td><td>str</td><td>date</td><td>str</td><td>str</td><td>str</td><td>str</td><td>str</td><td>str</td><td>str</td><td>str</td><td>str</td><td>str</td><td>str</td><td>str</td><td>str</td><td>str</td><td>str</td><td>str</td><td>bool</td><td>str</td><td>str</td><td>str</td><td>str</td><td>bool</td><td>datetime[ms]</td><td>i64</td><td>i64</td><td>i64</td><td>str</td><td>bool</td><td>str</td><td>bool</td><td>str</td><td>bool</td><td>str</td><td>date</td><td>str</td><td>str</td><td>str</td></tr></thead><tbody><tr><td>0</td><td>&quot;Janicke&quot;</td><td>&quot;Akerø&quot;</td><td>null</td><td>0</td><td>15536</td><td>&quot;M&quot;</td><td>&quot;Richard Nordraaks gate 9&quot;</td><td>&quot;5018&quot;</td><td>null</td><td>null</td><td>&quot;07115936284&quot;</td><td>null</td><td>false</td><td>null</td><td>null</td><td>null</td><td>null</td><td>null</td><td>1959-11-07</td><td>&quot;07115936284&quot;</td><td>&quot;Akerø&quot;</td><td>&quot;Janicke&quot;</td><td>null</td><td>&quot;Richard Nordraaks gate 9&quot;</td><td>null</td><td>&quot;5018&quot;</td><td>null</td><td>null</td><td>null</td><td>&quot;UB&quot;</td><td>&quot;B&quot;</td><td>null</td><td>null</td><td>null</td><td>&quot;Kristensamfunnet&quot;</td><td>false</td><td>&quot;E&quot;</td><td>null</td><td>null</td><td>&quot;M&quot;</td><td>false</td><td>2020-03-20 17:16:23</td><td>null</td><td>null</td><td>13033</td><td>null</td><td>false</td><td>null</td><td>false</td><td>null</td><td>false</td><td>null</td><td>null</td><td>null</td><td>null</td><td>&quot;10088100739&quot;</td></tr><tr><td>2</td><td>&quot;Gry Veronica&quot;</td><td>&quot;Alsos&quot;</td><td>null</td><td>0</td><td>14800</td><td>&quot;M&quot;</td><td>&quot;Solåsen 33B&quot;</td><td>&quot;5223&quot;</td><td>&quot;07.10.2006&quot;</td><td>null</td><td>&quot;22077028874&quot;</td><td>2006-10-07</td><td>false</td><td>&quot;Bergen&quot;</td><td>null</td><td>null</td><td>null</td><td>null</td><td>1970-07-22</td><td>&quot;22077028874&quot;</td><td>&quot;Alsos&quot;</td><td>&quot;Gry Veronica&quot;</td><td>&quot;Lærer&quot;</td><td>&quot;Solåsen 33B&quot;</td><td>null</td><td>&quot;5223&quot;</td><td>null</td><td>null</td><td>null</td><td>&quot;UB&quot;</td><td>&quot;BS&quot;</td><td>&quot;55 10 06 48&quot;</td><td>null</td><td>null</td><td>&quot;Kristensamfunnet&quot;</td><td>false</td><td>&quot;E&quot;</td><td>&quot;Kristensamfunnet&quot;</td><td>null</td><td>&quot;M&quot;</td><td>false</td><td>2020-03-20 17:16:57</td><td>12729</td><td>null</td><td>null</td><td>&quot;M&quot;</td><td>false</td><td>null</td><td>false</td><td>null</td><td>false</td><td>null</td><td>null</td><td>null</td><td>null</td><td>&quot;10171100471&quot;</td></tr><tr><td>5</td><td>&quot;Bodil&quot;</td><td>&quot;Aukrust&quot;</td><td>null</td><td>0</td><td>12181</td><td>&quot;V&quot;</td><td>&quot;Haukedalsbotn 39&quot;</td><td>&quot;5113&quot;</td><td>&quot;22.12.2000&quot;</td><td>null</td><td>&quot;04084728247&quot;</td><td>2000-12-22</td><td>false</td><td>null</td><td>null</td><td>null</td><td>null</td><td>null</td><td>1947-08-04</td><td>&quot;04084728247&quot;</td><td>&quot;Aukrust&quot;</td><td>&quot;Bodil&quot;</td><td>null</td><td>&quot;Haukedalsbotn 39&quot;</td><td>null</td><td>&quot;5113&quot;</td><td>&quot;og&quot;</td><td>&quot;Erik Øystein&quot;</td><td>&quot;Hauglin&quot;</td><td>&quot;UB&quot;</td><td>&quot;B&quot;</td><td>&quot;55 18 28 52&quot;</td><td>null</td><td>null</td><td>null</td><td>false</td><td>&quot;P&quot;</td><td>null</td><td>null</td><td>&quot;V&quot;</td><td>true</td><td>2022-02-04 16:44:28</td><td>null</td><td>null</td><td>null</td><td>&quot;K&quot;</td><td>false</td><td>null</td><td>false</td><td>null</td><td>false</td><td>null</td><td>null</td><td>null</td><td>&quot;BERGEN&quot;</td><td>null</td></tr><tr><td>6</td><td>&quot;Milla Kristine&quot;</td><td>&quot;Aukrust&quot;</td><td>null</td><td>0</td><td>11780</td><td>&quot;V&quot;</td><td>&quot;Haukedalsbotn 39&quot;</td><td>&quot;5113&quot;</td><td>null</td><td>null</td><td>null</td><td>null</td><td>false</td><td>null</td><td>null</td><td>null</td><td>null</td><td>null</td><td>1982-12-11</td><td>null</td><td>&quot;Aukrust&quot;</td><td>&quot;Milla Kristine&quot;</td><td>null</td><td>&quot;Haukedalsbotn 39&quot;</td><td>null</td><td>&quot;5113&quot;</td><td>null</td><td>null</td><td>null</td><td>null</td><td>null</td><td>null</td><td>null</td><td>null</td><td>null</td><td>false</td><td>null</td><td>null</td><td>&quot;Bodil Aukrust, Erik Øystein Ha…</td><td>&quot;V&quot;</td><td>true</td><td>2000-11-11 22:54:18</td><td>null</td><td>null</td><td>12181</td><td>&quot;K&quot;</td><td>false</td><td>null</td><td>false</td><td>null</td><td>false</td><td>null</td><td>null</td><td>null</td><td>&quot;BERGEN&quot;</td><td>null</td></tr><tr><td>9</td><td>&quot;Erling&quot;</td><td>&quot;Bakken&quot;</td><td>null</td><td>0</td><td>15610</td><td>&quot;V&quot;</td><td>&quot;Sanddalsvegen 11 D&quot;</td><td>&quot;5221&quot;</td><td>null</td><td>null</td><td>null</td><td>null</td><td>false</td><td>null</td><td>null</td><td>null</td><td>null</td><td>null</td><td>null</td><td>null</td><td>&quot;Bakken&quot;</td><td>&quot;Erling&quot;</td><td>null</td><td>&quot;Sanddalsvegen 11 D&quot;</td><td>null</td><td>&quot;5221&quot;</td><td>null</td><td>null</td><td>null</td><td>null</td><td>null</td><td>null</td><td>null</td><td>null</td><td>null</td><td>false</td><td>null</td><td>null</td><td>null</td><td>&quot;V&quot;</td><td>false</td><td>2019-12-11 10:18:51</td><td>null</td><td>null</td><td>null</td><td>null</td><td>false</td><td>null</td><td>false</td><td>null</td><td>false</td><td>null</td><td>null</td><td>null</td><td>null</td><td>null</td></tr><tr><td>10</td><td>&quot;Jorun&quot;</td><td>&quot;Barane&quot;</td><td>null</td><td>0</td><td>15537</td><td>&quot;M&quot;</td><td>&quot;Nedstagata 8&quot;</td><td>&quot;5745&quot;</td><td>null</td><td>null</td><td>&quot;22086139603&quot;</td><td>null</td><td>false</td><td>null</td><td>null</td><td>null</td><td>null</td><td>null</td><td>1961-08-22</td><td>&quot;22086139603&quot;</td><td>&quot;Barane&quot;</td><td>&quot;Jorun&quot;</td><td>null</td><td>&quot;Nedstagata 8&quot;</td><td>null</td><td>&quot;5745&quot;</td><td>&quot;og&quot;</td><td>&quot;Morten&quot;</td><td>&quot;Clemetsen&quot;</td><td>null</td><td>null</td><td>null</td><td>null</td><td>null</td><td>&quot;Kristensamfunnet&quot;</td><td>false</td><td>null</td><td>null</td><td>null</td><td>&quot;M&quot;</td><td>false</td><td>2014-11-11 23:49:37</td><td>14463</td><td>null</td><td>null</td><td>null</td><td>false</td><td>null</td><td>false</td><td>null</td><td>false</td><td>null</td><td>null</td><td>null</td><td>null</td><td>null</td></tr><tr><td>11</td><td>&quot;John L.&quot;</td><td>&quot;Baum&quot;</td><td>null</td><td>0</td><td>14695</td><td>&quot;P&quot;</td><td>&quot;Munkerudveien 81E&quot;</td><td>&quot;1165&quot;</td><td>null</td><td>null</td><td>null</td><td>null</td><td>false</td><td>null</td><td>null</td><td>null</td><td>null</td><td>null</td><td>null</td><td>null</td><td>&quot;Baum&quot;</td><td>&quot;John L.&quot;</td><td>null</td><td>&quot;Munkerudveien 81E&quot;</td><td>null</td><td>&quot;1165&quot;</td><td>null</td><td>null</td><td>null</td><td>null</td><td>null</td><td>null</td><td>null</td><td>null</td><td>null</td><td>false</td><td>null</td><td>null</td><td>null</td><td>&quot;P&quot;</td><td>false</td><td>2014-10-17 12:29:28</td><td>null</td><td>null</td><td>null</td><td>null</td><td>false</td><td>null</td><td>false</td><td>null</td><td>false</td><td>null</td><td>null</td><td>null</td><td>null</td><td>null</td></tr><tr><td>13</td><td>&quot;Jørgen Anesønn&quot;</td><td>&quot;Beyer&quot;</td><td>null</td><td>0</td><td>14329</td><td>&quot;FLY&quot;</td><td>&quot;Absalon Beyersgate 5&quot;</td><td>&quot;3580&quot;</td><td>&quot;07.10.1998&quot;</td><td>null</td><td>&quot;28029846180&quot;</td><td>1998-10-07</td><td>false</td><td>&quot;Bergen&quot;</td><td>&quot;Bergen&quot;</td><td>1998-09-06</td><td>null</td><td>&quot;Kristensamfunnet&quot;</td><td>1998-02-28</td><td>&quot;28029846180&quot;</td><td>&quot;Beyer&quot;</td><td>&quot;Jørgen Anesønn&quot;</td><td>null</td><td>&quot;Absalon Beyersgate 5&quot;</td><td>null</td><td>&quot;3580&quot;</td><td>null</td><td>null</td><td>null</td><td>null</td><td>null</td><td>null</td><td>null</td><td>null</td><td>null</td><td>false</td><td>null</td><td>null</td><td>null</td><td>&quot;FLY&quot;</td><td>false</td><td>2006-01-16 22:20:07</td><td>null</td><td>11281</td><td>11212</td><td>&quot;M&quot;</td><td>false</td><td>null</td><td>false</td><td>&quot;JR&quot;</td><td>false</td><td>null</td><td>null</td><td>null</td><td>&quot;BERGEN&quot;</td><td>null</td></tr><tr><td>14</td><td>&quot;Martin Sigurd&quot;</td><td>&quot;Beyer&quot;</td><td>null</td><td>0</td><td>13236</td><td>&quot;FLY&quot;</td><td>&quot;Absalon Beyersgate 5&quot;</td><td>&quot;3580&quot;</td><td>null</td><td>null</td><td>&quot;15098826502&quot;</td><td>null</td><td>false</td><td>null</td><td>null</td><td>null</td><td>null</td><td>null</td><td>1988-09-15</td><td>&quot;15098826502&quot;</td><td>&quot;Beyer&quot;</td><td>&quot;Martin Sigurd&quot;</td><td>null</td><td>&quot;Absalon Beyersgate 5&quot;</td><td>null</td><td>&quot;3580&quot;</td><td>null</td><td>null</td><td>null</td><td>null</td><td>null</td><td>null</td><td>null</td><td>null</td><td>&quot;Kristensamfunnet&quot;</td><td>false</td><td>null</td><td>null</td><td>null</td><td>&quot;FLY&quot;</td><td>true</td><td>2006-01-16 22:20:24</td><td>null</td><td>11281</td><td>13237</td><td>&quot;M&quot;</td><td>false</td><td>null</td><td>false</td><td>null</td><td>false</td><td>null</td><td>null</td><td>null</td><td>&quot;STAVANGER&quot;</td><td>null</td></tr><tr><td>15</td><td>&quot;Sigve Tobias&quot;</td><td>&quot;Beyer&quot;</td><td>null</td><td>0</td><td>14523</td><td>&quot;FLY&quot;</td><td>&quot;Absalon Beyersgate 5&quot;</td><td>&quot;3580&quot;</td><td>&quot;12.08.2001&quot;</td><td>null</td><td>&quot;18030193500&quot;</td><td>2001-08-12</td><td>true</td><td>&quot;Bergen&quot;</td><td>&quot;Bergen&quot;</td><td>2001-08-12</td><td>null</td><td>&quot;Bergen&quot;</td><td>2001-03-18</td><td>&quot;18030193500&quot;</td><td>&quot;Beyer&quot;</td><td>&quot;Sigve Tobias&quot;</td><td>null</td><td>&quot;Absalon Beyersgate 5&quot;</td><td>null</td><td>&quot;3580&quot;</td><td>null</td><td>null</td><td>null</td><td>null</td><td>null</td><td>null</td><td>null</td><td>&quot;Guttebarn&quot;</td><td>&quot;Kristensamfunnet&quot;</td><td>false</td><td>null</td><td>null</td><td>null</td><td>&quot;FLY&quot;</td><td>false</td><td>2006-01-16 22:20:58</td><td>null</td><td>11281</td><td>11212</td><td>&quot;M&quot;</td><td>false</td><td>&quot;Margrethe Meidell Myklebust, E…</td><td>false</td><td>&quot;Gbie&quot;</td><td>true</td><td>null</td><td>null</td><td>null</td><td>null</td><td>null</td></tr><tr><td>16</td><td>&quot;Øyvind&quot;</td><td>&quot;Beyer&quot;</td><td>null</td><td>0</td><td>11281</td><td>&quot;FLY&quot;</td><td>&quot;Absalon Beyersgate 5&quot;</td><td>&quot;3580&quot;</td><td>null</td><td>null</td><td>&quot;17086848732&quot;</td><td>null</td><td>false</td><td>&quot;Bergen&quot;</td><td>null</td><td>null</td><td>2</td><td>null</td><td>1968-08-17</td><td>&quot;17086848732&quot;</td><td>&quot;Beyer&quot;</td><td>&quot;Øyvind&quot;</td><td>&quot;Arkitekt&quot;</td><td>&quot;Absalon Beyersgate 5&quot;</td><td>null</td><td>&quot;3580&quot;</td><td>null</td><td>null</td><td>null</td><td>null</td><td>null</td><td>&quot;55 31 50 74&quot;</td><td>&quot;924 90 910&quot;</td><td>null</td><td>&quot;Kristensamfunnet&quot;</td><td>false</td><td>null</td><td>null</td><td>&quot;Flyttet høsten 2005 til Langeh…</td><td>&quot;FLY&quot;</td><td>true</td><td>2014-06-02 09:45:36</td><td>null</td><td>null</td><td>null</td><td>&quot;M&quot;</td><td>false</td><td>null</td><td>false</td><td>null</td><td>false</td><td>null</td><td>null</td><td>null</td><td>&quot;BERGEN&quot;</td><td>null</td></tr><tr><td>17</td><td>&quot;Kari Berger&quot;</td><td>&quot;Bie&quot;</td><td>null</td><td>0</td><td>14644</td><td>&quot;DØD&quot;</td><td>&quot;Solbrå 2B&quot;</td><td>&quot;2322&quot;</td><td>null</td><td>null</td><td>null</td><td>null</td><td>false</td><td>null</td><td>null</td><td>null</td><td>null</td><td>null</td><td>null</td><td>null</td><td>&quot;Bie&quot;</td><td>&quot;Kari Berger&quot;</td><td>null</td><td>&quot;Solbrå 2B&quot;</td><td>null</td><td>&quot;2322&quot;</td><td>null</td><td>null</td><td>null</td><td>null</td><td>null</td><td>null</td><td>null</td><td>null</td><td>null</td><td>false</td><td>null</td><td>null</td><td>null</td><td>&quot;DØD&quot;</td><td>false</td><td>2014-10-17 12:28:25</td><td>null</td><td>null</td><td>null</td><td>null</td><td>false</td><td>null</td><td>false</td><td>null</td><td>false</td><td>null</td><td>null</td><td>null</td><td>null</td><td>null</td></tr><tr><td>19</td><td>&quot;Axel Mikael&quot;</td><td>&quot;Bjelke&quot;</td><td>null</td><td>0</td><td>14764</td><td>&quot;MU&quot;</td><td>&quot;Dalatunv. 66&quot;</td><td>&quot;5600&quot;</td><td>null</td><td>null</td><td>&quot;26077930565&quot;</td><td>null</td><td>false</td><td>null</td><td>null</td><td>null</td><td>null</td><td>null</td><td>1979-07-26</td><td>&quot;26077930565&quot;</td><td>&quot;Bjelke&quot;</td><td>&quot;Axel Mikael&quot;</td><td>null</td><td>&quot;Dalatunv. 66&quot;</td><td>null</td><td>&quot;5600&quot;</td><td>null</td><td>null</td><td>null</td><td>null</td><td>null</td><td>null</td><td>null</td><td>null</td><td>null</td><td>false</td><td>null</td><td>null</td><td>null</td><td>&quot;MU&quot;</td><td>false</td><td>2005-01-07 18:16:12</td><td>null</td><td>null</td><td>null</td><td>&quot;M&quot;</td><td>false</td><td>null</td><td>false</td><td>null</td><td>false</td><td>null</td><td>null</td><td>null</td><td>null</td><td>null</td></tr><tr><td>23</td><td>&quot;Vilde Andrea&quot;</td><td>&quot;Brun&quot;</td><td>null</td><td>0</td><td>15443</td><td>&quot;FLY&quot;</td><td>&quot;Vestliveien 69&quot;</td><td>&quot;5264&quot;</td><td>null</td><td>null</td><td>&quot;29017936040&quot;</td><td>null</td><td>false</td><td>null</td><td>null</td><td>null</td><td>null</td><td>null</td><td>1979-01-29</td><td>&quot;29017936040&quot;</td><td>&quot;Brun&quot;</td><td>&quot;Vilde Andrea&quot;</td><td>null</td><td>&quot;Vestliveien 69&quot;</td><td>null</td><td>&quot;5264&quot;</td><td>null</td><td>null</td><td>null</td><td>null</td><td>null</td><td>null</td><td>null</td><td>null</td><td>null</td><td>false</td><td>null</td><td>null</td><td>&quot;Flyttet iflg e-post fra SÅL. M…</td><td>&quot;FLY&quot;</td><td>false</td><td>2017-06-19 12:48:19</td><td>null</td><td>null</td><td>null</td><td>null</td><td>false</td><td>null</td><td>false</td><td>null</td><td>false</td><td>null</td><td>null</td><td>null</td><td>null</td><td>null</td></tr><tr><td>24</td><td>&quot;Marit&quot;</td><td>&quot;Bråten&quot;</td><td>null</td><td>0</td><td>11084</td><td>&quot;M&quot;</td><td>&quot;Hervikvegen 414&quot;</td><td>&quot;5566&quot;</td><td>null</td><td>null</td><td>&quot;09084749041&quot;</td><td>null</td><td>false</td><td>null</td><td>null</td><td>null</td><td>null</td><td>null</td><td>1947-08-09</td><td>&quot;09084749041&quot;</td><td>&quot;Bråten&quot;</td><td>&quot;Marit&quot;</td><td>null</td><td>&quot;Hervikvegen 414&quot;</td><td>null</td><td>&quot;5566&quot;</td><td>&quot;og&quot;</td><td>&quot;Eivind&quot;</td><td>&quot;Rossebø&quot;</td><td>&quot;UB&quot;</td><td>&quot;H&quot;</td><td>&quot;52 77 76 45&quot;</td><td>null</td><td>&quot;Gift kvinne&quot;</td><td>&quot;Kristensamfunnet&quot;</td><td>true</td><td>&quot;P&quot;</td><td>&quot;Kristensamfunnet&quot;</td><td>null</td><td>&quot;M&quot;</td><td>true</td><td>2019-06-24 13:48:30</td><td>11576</td><td>null</td><td>null</td><td>&quot;K&quot;</td><td>false</td><td>null</td><td>false</td><td>null</td><td>false</td><td>null</td><td>null</td><td>null</td><td>&quot;TYSVÆR&quot;</td><td>null</td></tr><tr><td>25</td><td>&quot;Peter Olav&quot;</td><td>&quot;Dannevig&quot;</td><td>null</td><td>0</td><td>14760</td><td>&quot;MS&quot;</td><td>&quot;Søndre Munkelidsgt. 8&quot;</td><td>&quot;5011&quot;</td><td>null</td><td>null</td><td>&quot;13058343700&quot;</td><td>null</td><td>false</td><td>null</td><td>null</td><td>null</td><td>null</td><td>null</td><td>1983-05-13</td><td>&quot;13058343700&quot;</td><td>&quot;Dannevig&quot;</td><td>&quot;Peter Olav&quot;</td><td>null</td><td>&quot;Søndre Munkelidsgt. 8&quot;</td><td>null</td><td>&quot;5011&quot;</td><td>null</td><td>null</td><td>null</td><td>null</td><td>null</td><td>null</td><td>null</td><td>null</td><td>null</td><td>false</td><td>null</td><td>null</td><td>null</td><td>&quot;MS&quot;</td><td>false</td><td>2005-01-07 18:17:18</td><td>null</td><td>null</td><td>null</td><td>&quot;M&quot;</td><td>false</td><td>null</td><td>false</td><td>null</td><td>false</td><td>null</td><td>null</td><td>null</td><td>null</td><td>null</td></tr><tr><td>26</td><td>&quot;Inger Karin&quot;</td><td>&quot;Aasland&quot;</td><td>null</td><td>0</td><td>11758</td><td>&quot;UTM&quot;</td><td>&quot;Oa&quot;</td><td>&quot;5555&quot;</td><td>null</td><td>null</td><td>&quot;23055433089&quot;</td><td>null</td><td>false</td><td>null</td><td>null</td><td>null</td><td>null</td><td>null</td><td>1954-05-23</td><td>&quot;23055433089&quot;</td><td>&quot;Aasland&quot;</td><td>&quot;Inger Karin&quot;</td><td>null</td><td>&quot;Oa&quot;</td><td>null</td><td>&quot;5555&quot;</td><td>null</td><td>null</td><td>null</td><td>null</td><td>null</td><td>null</td><td>null</td><td>null</td><td>null</td><td>false</td><td>null</td><td>null</td><td>&quot;Utmeldt jan 2014&quot;</td><td>&quot;UTM&quot;</td><td>true</td><td>2014-05-31 11:57:28</td><td>11759</td><td>null</td><td>null</td><td>&quot;K&quot;</td><td>false</td><td>null</td><td>false</td><td>null</td><td>false</td><td>null</td><td>null</td><td>null</td><td>&quot;SVEIO&quot;</td><td>null</td></tr><tr><td>28</td><td>&quot;Hilde Hofstra&quot;</td><td>&quot;Ente&quot;</td><td>null</td><td>0</td><td>15586</td><td>&quot;V&quot;</td><td>&quot;Lundhaugvegen 42&quot;</td><td>&quot;5221&quot;</td><td>null</td><td>null</td><td>&quot;19046123479&quot;</td><td>null</td><td>false</td><td>null</td><td>null</td><td>null</td><td>null</td><td>null</td><td>1961-04-10</td><td>&quot;19046123479&quot;</td><td>&quot;Ente&quot;</td><td>&quot;Hilde Hofstra&quot;</td><td>null</td><td>&quot;Lundhaugvegen 42&quot;</td><td>null</td><td>&quot;5221&quot;</td><td>null</td><td>null</td><td>null</td><td>null</td><td>null</td><td>null</td><td>null</td><td>null</td><td>&quot;Kristensamfunnet&quot;</td><td>false</td><td>null</td><td>&quot;Kristensamfunnet&quot;</td><td>&quot;Flyttet Oslo 2019&quot;</td><td>&quot;V&quot;</td><td>false</td><td>2020-03-20 17:31:40</td><td>15585</td><td>null</td><td>null</td><td>null</td><td>false</td><td>null</td><td>false</td><td>null</td><td>false</td><td>null</td><td>null</td><td>null</td><td>null</td><td>null</td></tr><tr><td>29</td><td>&quot;Sigrun Marie&quot;</td><td>&quot;Ente&quot;</td><td>null</td><td>0</td><td>15584</td><td>&quot;V&quot;</td><td>&quot;Lundhaugvegen 42&quot;</td><td>&quot;5221&quot;</td><td>null</td><td>null</td><td>&quot;10109732067&quot;</td><td>null</td><td>false</td><td>null</td><td>null</td><td>null</td><td>null</td><td>null</td><td>1997-10-10</td><td>&quot;10109732067&quot;</td><td>&quot;Ente&quot;</td><td>&quot;Sigrun Marie&quot;</td><td>null</td><td>&quot;Lundhaugvegen 42&quot;</td><td>null</td><td>&quot;5221&quot;</td><td>null</td><td>null</td><td>null</td><td>null</td><td>null</td><td>null</td><td>null</td><td>null</td><td>&quot;Kristensamfunnet&quot;</td><td>false</td><td>null</td><td>null</td><td>&quot;Flyttet Oslo 2019&quot;</td><td>&quot;V&quot;</td><td>false</td><td>2020-03-20 17:31:25</td><td>null</td><td>null</td><td>null</td><td>null</td><td>false</td><td>null</td><td>false</td><td>null</td><td>false</td><td>null</td><td>null</td><td>null</td><td>null</td><td>null</td></tr><tr><td>30</td><td>&quot;Henriette&quot;</td><td>&quot;Fløtra&quot;</td><td>null</td><td>0</td><td>14649</td><td>&quot;V&quot;</td><td>&quot;Idrettsveien 12&quot;</td><td>&quot;1580&quot;</td><td>null</td><td>null</td><td>null</td><td>null</td><td>false</td><td>null</td><td>null</td><td>null</td><td>null</td><td>null</td><td>null</td><td>null</td><td>&quot;Fløtra&quot;</td><td>&quot;Henriette&quot;</td><td>null</td><td>&quot;Idrettsveien 12&quot;</td><td>null</td><td>&quot;1580&quot;</td><td>null</td><td>null</td><td>null</td><td>null</td><td>&quot;B&quot;</td><td>null</td><td>null</td><td>null</td><td>null</td><td>false</td><td>null</td><td>null</td><td>null</td><td>&quot;V&quot;</td><td>false</td><td>2024-12-04 18:08:38</td><td>null</td><td>null</td><td>null</td><td>null</td><td>false</td><td>null</td><td>false</td><td>null</td><td>false</td><td>null</td><td>null</td><td>null</td><td>null</td><td>&quot;10019100105&quot;</td></tr><tr><td>31</td><td>&quot;Turid&quot;</td><td>&quot;Frimannslund&quot;</td><td>null</td><td>0</td><td>15458</td><td>&quot;V&quot;</td><td>&quot;Norddalsfjord&quot;</td><td>&quot;6900&quot;</td><td>null</td><td>null</td><td>null</td><td>null</td><td>false</td><td>null</td><td>null</td><td>null</td><td>null</td><td>null</td><td>null</td><td>null</td><td>&quot;Frimannslund&quot;</td><td>&quot;Turid&quot;</td><td>null</td><td>&quot;Norddalsfjord&quot;</td><td>null</td><td>&quot;6900&quot;</td><td>null</td><td>null</td><td>null</td><td>null</td><td>null</td><td>null</td><td>null</td><td>null</td><td>null</td><td>false</td><td>null</td><td>null</td><td>null</td><td>&quot;V&quot;</td><td>false</td><td>2014-05-31 20:54:27</td><td>null</td><td>null</td><td>null</td><td>null</td><td>false</td><td>null</td><td>false</td><td>null</td><td>false</td><td>null</td><td>null</td><td>null</td><td>null</td><td>null</td></tr><tr><td>32</td><td>&quot;Erik Andreas&quot;</td><td>&quot;Geelmuyden&quot;</td><td>null</td><td>0</td><td>15453</td><td>&quot;MB&quot;</td><td>&quot;Furuveien 9a&quot;</td><td>&quot;5067&quot;</td><td>null</td><td>null</td><td>&quot;22120584158&quot;</td><td>null</td><td>false</td><td>null</td><td>null</td><td>null</td><td>null</td><td>null</td><td>2005-12-22</td><td>&quot;22120584158&quot;</td><td>&quot;Geelmuyden&quot;</td><td>&quot;Erik Andreas&quot;</td><td>null</td><td>&quot;Furuveien 9a&quot;</td><td>null</td><td>&quot;5067&quot;</td><td>null</td><td>null</td><td>null</td><td>null</td><td>null</td><td>null</td><td>null</td><td>&quot;Guttebarn&quot;</td><td>&quot;Kristensamfunnet&quot;</td><td>false</td><td>null</td><td>null</td><td>null</td><td>&quot;MB&quot;</td><td>false</td><td>2010-03-30 12:33:03</td><td>null</td><td>15451</td><td>15463</td><td>null</td><td>false</td><td>null</td><td>false</td><td>null</td><td>false</td><td>null</td><td>null</td><td>null</td><td>null</td><td>null</td></tr><tr><td>33</td><td>&quot;Ingrid Kristine Miljeteig&quot;</td><td>&quot;Geelmuyden&quot;</td><td>null</td><td>0</td><td>15452</td><td>&quot;MB&quot;</td><td>&quot;Furuveien 9a&quot;</td><td>&quot;5067&quot;</td><td>null</td><td>null</td><td>&quot;18100396668&quot;</td><td>null</td><td>false</td><td>null</td><td>null</td><td>null</td><td>null</td><td>null</td><td>2003-10-18</td><td>&quot;18100396668&quot;</td><td>&quot;Geelmuyden&quot;</td><td>&quot;Ingrid Kristine Miljeteig&quot;</td><td>null</td><td>&quot;Furuveien 9a&quot;</td><td>null</td><td>&quot;5067&quot;</td><td>null</td><td>null</td><td>null</td><td>null</td><td>null</td><td>null</td><td>null</td><td>&quot;Pikebarn&quot;</td><td>&quot;Kristensamfunnet&quot;</td><td>false</td><td>null</td><td>null</td><td>null</td><td>&quot;MB&quot;</td><td>false</td><td>2009-06-04 17:19:25</td><td>null</td><td>15451</td><td>15463</td><td>&quot;K&quot;</td><td>false</td><td>null</td><td>false</td><td>null</td><td>false</td><td>null</td><td>null</td><td>null</td><td>null</td><td>null</td></tr><tr><td>34</td><td>&quot;Ivan Alexander&quot;</td><td>&quot;Geelmuyden&quot;</td><td>null</td><td>0</td><td>15451</td><td>&quot;MS&quot;</td><td>&quot;Furuveien 9a&quot;</td><td>&quot;5067&quot;</td><td>null</td><td>null</td><td>&quot;01107344949&quot;</td><td>null</td><td>false</td><td>null</td><td>null</td><td>null</td><td>null</td><td>null</td><td>1973-10-01</td><td>&quot;01107344949&quot;</td><td>&quot;Geelmuyden&quot;</td><td>&quot;Ivan Alexander&quot;</td><td>null</td><td>&quot;Furuveien 9a&quot;</td><td>null</td><td>&quot;5067&quot;</td><td>null</td><td>null</td><td>null</td><td>null</td><td>null</td><td>null</td><td>null</td><td>null</td><td>&quot;Kristensamfunnet&quot;</td><td>false</td><td>null</td><td>null</td><td>null</td><td>&quot;MS&quot;</td><td>false</td><td>2014-05-31 13:41:43</td><td>null</td><td>null</td><td>null</td><td>&quot;M&quot;</td><td>false</td><td>null</td><td>false</td><td>null</td><td>false</td><td>null</td><td>null</td><td>null</td><td>null</td><td>null</td></tr><tr><td>35</td><td>&quot;Knut&quot;</td><td>&quot;Godø&quot;</td><td>null</td><td>0</td><td>15426</td><td>&quot;FLY&quot;</td><td>&quot;Nikolai Astrups vei 12&quot;</td><td>&quot;6900&quot;</td><td>null</td><td>null</td><td>&quot;10016949391&quot;</td><td>null</td><td>false</td><td>null</td><td>null</td><td>null</td><td>null</td><td>null</td><td>1969-01-10</td><td>&quot;10016949391&quot;</td><td>&quot;Godø&quot;</td><td>&quot;Knut&quot;</td><td>null</td><td>&quot;Nikolai Astrups vei 12&quot;</td><td>null</td><td>&quot;6900&quot;</td><td>null</td><td>null</td><td>null</td><td>null</td><td>null</td><td>null</td><td>null</td><td>null</td><td>null</td><td>false</td><td>null</td><td>null</td><td>&quot;Flyttet til KiO iht duplikatme…</td><td>&quot;FLY&quot;</td><td>false</td><td>2014-02-03 09:47:27</td><td>null</td><td>null</td><td>null</td><td>null</td><td>false</td><td>null</td><td>false</td><td>null</td><td>false</td><td>null</td><td>null</td><td>null</td><td>null</td><td>null</td></tr><tr><td>39</td><td>&quot;Håvard Susaas&quot;</td><td>&quot;Halvorsen&quot;</td><td>null</td><td>0</td><td>13537</td><td>&quot;UTM&quot;</td><td>&quot;Breidablikkgate 80&quot;</td><td>&quot;5528&quot;</td><td>null</td><td>null</td><td>&quot;06109139368&quot;</td><td>null</td><td>false</td><td>null</td><td>null</td><td>null</td><td>null</td><td>null</td><td>1991-10-06</td><td>&quot;06109139368&quot;</td><td>&quot;Halvorsen&quot;</td><td>&quot;Håvard Susaas&quot;</td><td>null</td><td>&quot;Breidablikkgate 80&quot;</td><td>null</td><td>&quot;5528&quot;</td><td>null</td><td>null</td><td>null</td><td>null</td><td>null</td><td>null</td><td>null</td><td>null</td><td>null</td><td>false</td><td>null</td><td>null</td><td>&quot;Anette Sofie Susaas, Halfdan H…</td><td>&quot;UTM&quot;</td><td>false</td><td>2012-10-09 15:51:38</td><td>null</td><td>null</td><td>null</td><td>&quot;K&quot;</td><td>false</td><td>null</td><td>false</td><td>null</td><td>false</td><td>null</td><td>null</td><td>null</td><td>&quot;HAUGESUND&quot;</td><td>null</td></tr><tr><td>42</td><td>&quot;Sara Sofie Justesen&quot;</td><td>&quot;Håland&quot;</td><td>null</td><td>0</td><td>14761</td><td>&quot;MS&quot;</td><td>&quot;Starefossvn. 26&quot;</td><td>&quot;5019&quot;</td><td>null</td><td>null</td><td>&quot;19108433852&quot;</td><td>null</td><td>false</td><td>null</td><td>null</td><td>null</td><td>null</td><td>null</td><td>1984-10-19</td><td>&quot;19108433852&quot;</td><td>&quot;Håland&quot;</td><td>&quot;Sara Sofie Justesen&quot;</td><td>null</td><td>&quot;Starefossvn. 26&quot;</td><td>null</td><td>&quot;5019&quot;</td><td>null</td><td>null</td><td>null</td><td>null</td><td>null</td><td>null</td><td>null</td><td>null</td><td>null</td><td>false</td><td>null</td><td>null</td><td>null</td><td>&quot;MS&quot;</td><td>false</td><td>2005-01-07 18:17:05</td><td>null</td><td>null</td><td>null</td><td>&quot;K&quot;</td><td>false</td><td>null</td><td>false</td><td>null</td><td>false</td><td>null</td><td>null</td><td>null</td><td>null</td><td>null</td></tr><tr><td>46</td><td>&quot;Alvarinn Martin&quot;</td><td>&quot;Klanderud&quot;</td><td>null</td><td>0</td><td>14770</td><td>&quot;MB&quot;</td><td>&quot;Nedre Stølen 5A&quot;</td><td>&quot;5003&quot;</td><td>null</td><td>null</td><td>&quot;14119240930&quot;</td><td>null</td><td>false</td><td>null</td><td>null</td><td>null</td><td>null</td><td>null</td><td>1992-11-14</td><td>&quot;14119240930&quot;</td><td>&quot;Klanderud&quot;</td><td>&quot;Alvarinn Martin&quot;</td><td>null</td><td>&quot;Nedre Stølen 5A&quot;</td><td>null</td><td>&quot;5003&quot;</td><td>null</td><td>null</td><td>null</td><td>null</td><td>null</td><td>null</td><td>null</td><td>null</td><td>null</td><td>false</td><td>null</td><td>null</td><td>null</td><td>&quot;MB&quot;</td><td>false</td><td>2005-03-24 15:52:39</td><td>null</td><td>14769</td><td>null</td><td>null</td><td>false</td><td>null</td><td>false</td><td>null</td><td>false</td><td>null</td><td>null</td><td>null</td><td>null</td><td>null</td></tr><tr><td>47</td><td>&quot;Oddbjorn&quot;</td><td>&quot;Klanderud&quot;</td><td>null</td><td>0</td><td>14769</td><td>&quot;M&quot;</td><td>&quot;Nybøvegen 16&quot;</td><td>&quot;5221&quot;</td><td>null</td><td>null</td><td>&quot;15085737373&quot;</td><td>null</td><td>false</td><td>null</td><td>null</td><td>null</td><td>null</td><td>null</td><td>1957-08-15</td><td>&quot;15085737373&quot;</td><td>&quot;Klanderud&quot;</td><td>&quot;Oddbjorn&quot;</td><td>null</td><td>&quot;Nybøvegen 16&quot;</td><td>null</td><td>&quot;5221&quot;</td><td>null</td><td>null</td><td>null</td><td>&quot;UB&quot;</td><td>&quot;BS&quot;</td><td>null</td><td>null</td><td>null</td><td>null</td><td>false</td><td>&quot;P&quot;</td><td>null</td><td>null</td><td>&quot;M&quot;</td><td>false</td><td>2005-03-24 15:50:23</td><td>null</td><td>null</td><td>null</td><td>null</td><td>false</td><td>null</td><td>false</td><td>null</td><td>false</td><td>null</td><td>null</td><td>null</td><td>null</td><td>null</td></tr><tr><td>48</td><td>&quot;Perolina K.&quot;</td><td>&quot;Klanderud&quot;</td><td>null</td><td>0</td><td>15471</td><td>&quot;MU&quot;</td><td>&quot;Bøhmergaten 33&quot;</td><td>&quot;5057&quot;</td><td>null</td><td>null</td><td>&quot;08108936208&quot;</td><td>null</td><td>false</td><td>null</td><td>null</td><td>null</td><td>null</td><td>null</td><td>1989-10-08</td><td>&quot;08108936208&quot;</td><td>&quot;Klanderud&quot;</td><td>&quot;Perolina K.&quot;</td><td>null</td><td>&quot;Bøhmergaten 33&quot;</td><td>null</td><td>&quot;5057&quot;</td><td>null</td><td>null</td><td>null</td><td>null</td><td>&quot;B&quot;</td><td>null</td><td>null</td><td>null</td><td>null</td><td>false</td><td>null</td><td>null</td><td>null</td><td>&quot;MU&quot;</td><td>false</td><td>2010-03-30 12:22:56</td><td>null</td><td>null</td><td>null</td><td>&quot;K&quot;</td><td>false</td><td>null</td><td>false</td><td>null</td><td>false</td><td>null</td><td>null</td><td>null</td><td>null</td><td>null</td></tr><tr><td>49</td><td>&quot;Gunn-Berit&quot;</td><td>&quot;Kleiveland&quot;</td><td>null</td><td>0</td><td>14490</td><td>&quot;DF&quot;</td><td>&quot;Bjøllebotn 95&quot;</td><td>&quot;5226&quot;</td><td>null</td><td>null</td><td>null</td><td>null</td><td>false</td><td>null</td><td>null</td><td>null</td><td>2</td><td>null</td><td>null</td><td>null</td><td>&quot;Kleiveland&quot;</td><td>&quot;Gunn-Berit&quot;</td><td>null</td><td>&quot;Bjøllebotn 95&quot;</td><td>null</td><td>&quot;5226&quot;</td><td>null</td><td>null</td><td>null</td><td>null</td><td>null</td><td>&quot;55 98 98 09&quot;</td><td>&quot;984 95 133&quot;</td><td>null</td><td>null</td><td>false</td><td>null</td><td>null</td><td>null</td><td>&quot;DF&quot;</td><td>false</td><td>2005-01-06 11:53:13</td><td>14489</td><td>null</td><td>null</td><td>null</td><td>false</td><td>null</td><td>false</td><td>null</td><td>false</td><td>null</td><td>null</td><td>null</td><td>null</td><td>null</td></tr><tr><td>52</td><td>&quot;Anne&quot;</td><td>&quot;Krohn&quot;</td><td>null</td><td>0</td><td>14458</td><td>&quot;DØD&quot;</td><td>&quot;Paradishøgda 14&quot;</td><td>&quot;5231&quot;</td><td>&quot;04.05.1998&quot;</td><td>null</td><td>&quot;09096449469&quot;</td><td>1998-05-04</td><td>false</td><td>null</td><td>null</td><td>null</td><td>1</td><td>null</td><td>1964-09-09</td><td>&quot;09096449469&quot;</td><td>&quot;Krohn&quot;</td><td>&quot;Anne&quot;</td><td>&quot;Lærer&quot;</td><td>&quot;Paradishøgda 14&quot;</td><td>null</td><td>&quot;5231&quot;</td><td>null</td><td>null</td><td>null</td><td>null</td><td>&quot;BS&quot;</td><td>&quot;55 91 05 45&quot;</td><td>null</td><td>&quot;Ugift kvinne&quot;</td><td>&quot;Kristensamfunnet&quot;</td><td>false</td><td>&quot;E&quot;</td><td>&quot;Kristensamfunnet&quot;</td><td>null</td><td>&quot;DØD&quot;</td><td>false</td><td>2021-03-24 17:10:38</td><td>null</td><td>null</td><td>null</td><td>&quot;K&quot;</td><td>false</td><td>null</td><td>false</td><td>null</td><td>false</td><td>null</td><td>null</td><td>null</td><td>null</td><td>null</td></tr><tr><td>53</td><td>&quot;Ketil&quot;</td><td>&quot;Kvam&quot;</td><td>null</td><td>0</td><td>13519</td><td>&quot;M&quot;</td><td>&quot;Fanavegen 87&quot;</td><td>&quot;5239&quot;</td><td>&quot;30.11.2000&quot;</td><td>null</td><td>&quot;19025947374&quot;</td><td>2000-11-30</td><td>false</td><td>null</td><td>null</td><td>null</td><td>4</td><td>null</td><td>1959-02-19</td><td>&quot;19025947374&quot;</td><td>&quot;Kvam&quot;</td><td>&quot;Ketil&quot;</td><td>null</td><td>&quot;Fanavegen 87&quot;</td><td>null</td><td>&quot;5239&quot;</td><td>&quot;og&quot;</td><td>&quot;Nora B.&quot;</td><td>&quot;Kvam&quot;</td><td>null</td><td>&quot;B&quot;</td><td>&quot;55 00 00 00&quot;</td><td>null</td><td>&quot;Gift mann&quot;</td><td>&quot;Kristensamfunnet&quot;</td><td>true</td><td>&quot;P&quot;</td><td>&quot;Kristensamfunnet&quot;</td><td>null</td><td>&quot;M&quot;</td><td>true</td><td>2020-12-11 15:05:12</td><td>14473</td><td>null</td><td>null</td><td>&quot;M&quot;</td><td>false</td><td>null</td><td>false</td><td>null</td><td>false</td><td>null</td><td>null</td><td>null</td><td>&quot;BERGEN&quot;</td><td>null</td></tr><tr><td>54</td><td>&quot;Katrine Gabriella&quot;</td><td>&quot;Kvandal&quot;</td><td>null</td><td>0</td><td>13247</td><td>&quot;UTM&quot;</td><td>&quot;Almelandsvegen 10&quot;</td><td>&quot;5229&quot;</td><td>null</td><td>null</td><td>null</td><td>null</td><td>false</td><td>null</td><td>null</td><td>null</td><td>null</td><td>null</td><td>1991-04-28</td><td>null</td><td>&quot;Kvandal&quot;</td><td>&quot;Katrine Gabriella&quot;</td><td>null</td><td>&quot;Almelandsvegen 10&quot;</td><td>null</td><td>&quot;5229&quot;</td><td>null</td><td>null</td><td>null</td><td>null</td><td>null</td><td>null</td><td>null</td><td>null</td><td>null</td><td>false</td><td>null</td><td>null</td><td>&quot;Aslaug Kvandal og Per Svante G…</td><td>&quot;UTM&quot;</td><td>true</td><td>2000-11-18 16:56:33</td><td>null</td><td>null</td><td>13170</td><td>&quot;K&quot;</td><td>false</td><td>null</td><td>false</td><td>null</td><td>false</td><td>null</td><td>null</td><td>null</td><td>&quot;BERGEN&quot;</td><td>null</td></tr><tr><td>56</td><td>&quot;Rune&quot;</td><td>&quot;Lilleaas&quot;</td><td>null</td><td>0</td><td>14637</td><td>&quot;V&quot;</td><td>&quot;Nedre Ferstadvei 36&quot;</td><td>&quot;7023&quot;</td><td>null</td><td>null</td><td>null</td><td>null</td><td>false</td><td>null</td><td>null</td><td>null</td><td>null</td><td>null</td><td>null</td><td>null</td><td>&quot;Lilleaas&quot;</td><td>&quot;Rune&quot;</td><td>null</td><td>&quot;Nedre Ferstadvei 36&quot;</td><td>null</td><td>&quot;7023&quot;</td><td>null</td><td>null</td><td>null</td><td>null</td><td>&quot;AU&quot;</td><td>null</td><td>null</td><td>null</td><td>null</td><td>false</td><td>null</td><td>null</td><td>null</td><td>&quot;V&quot;</td><td>false</td><td>2002-12-17 21:45:52</td><td>null</td><td>null</td><td>null</td><td>null</td><td>false</td><td>null</td><td>false</td><td>null</td><td>false</td><td>null</td><td>null</td><td>null</td><td>null</td><td>null</td></tr><tr><td>58</td><td>&quot;Johan Erik Benjamin&quot;</td><td>&quot;Lindroos&quot;</td><td>null</td><td>0</td><td>15597</td><td>null</td><td>&quot;Sandviksveien 87D&quot;</td><td>&quot;5036&quot;</td><td>null</td><td>null</td><td>&quot;14048225129&quot;</td><td>null</td><td>false</td><td>null</td><td>null</td><td>null</td><td>null</td><td>null</td><td>1982-04-14</td><td>&quot;14048225129&quot;</td><td>&quot;Lindroos&quot;</td><td>&quot;Johan Erik Benjamin&quot;</td><td>null</td><td>&quot;Sandviksveien 87D&quot;</td><td>null</td><td>&quot;5036&quot;</td><td>null</td><td>null</td><td>null</td><td>&quot;UB&quot;</td><td>&quot;B&quot;</td><td>null</td><td>&quot;980 32 620&quot;</td><td>null</td><td>null</td><td>false</td><td>&quot;E&quot;</td><td>null</td><td>&quot;Første gang lagret 7.10.16&nbsp;&nbsp;--…</td><td>null</td><td>false</td><td>2019-01-07 10:55:22</td><td>null</td><td>null</td><td>null</td><td>null</td><td>false</td><td>null</td><td>false</td><td>null</td><td>false</td><td>null</td><td>null</td><td>null</td><td>null</td><td>null</td></tr><tr><td>59</td><td>&quot;Sven Åke&quot;</td><td>&quot;Lorentsson&quot;</td><td>null</td><td>0</td><td>15562</td><td>&quot;P&quot;</td><td>&quot;Brugata 27&quot;</td><td>&quot;2321&quot;</td><td>null</td><td>null</td><td>null</td><td>null</td><td>false</td><td>null</td><td>null</td><td>null</td><td>null</td><td>null</td><td>null</td><td>null</td><td>&quot;Lorentsson&quot;</td><td>&quot;Sven Åke&quot;</td><td>null</td><td>&quot;Brugata 27&quot;</td><td>null</td><td>&quot;2321&quot;</td><td>null</td><td>null</td><td>null</td><td>null</td><td>null</td><td>null</td><td>null</td><td>null</td><td>null</td><td>false</td><td>null</td><td>null</td><td>null</td><td>&quot;P&quot;</td><td>false</td><td>2014-10-17 12:27:54</td><td>null</td><td>null</td><td>null</td><td>null</td><td>false</td><td>null</td><td>false</td><td>null</td><td>false</td><td>null</td><td>null</td><td>null</td><td>null</td><td>null</td></tr><tr><td>61</td><td>&quot;Ingrid&quot;</td><td>&quot;Løvlie&quot;</td><td>null</td><td>0</td><td>11467</td><td>&quot;DØD&quot;</td><td>&quot;Landåsveien 31B, Leilighet 010…</td><td>&quot;5097&quot;</td><td>null</td><td>null</td><td>&quot;15124337027&quot;</td><td>null</td><td>false</td><td>&quot;Bergen&quot;</td><td>null</td><td>null</td><td>null</td><td>null</td><td>1943-12-15</td><td>&quot;15124337027&quot;</td><td>&quot;Løvlie&quot;</td><td>&quot;Ingrid&quot;</td><td>null</td><td>&quot;Landåsveien 31B, Leilighet 010…</td><td>null</td><td>&quot;5097&quot;</td><td>null</td><td>null</td><td>null</td><td>null</td><td>null</td><td>&quot;55 28 93 96&quot;</td><td>null</td><td>&quot;Gift kvinne&quot;</td><td>&quot;Kristensamfunnet&quot;</td><td>true</td><td>null</td><td>&quot;Kristensamfunnet&quot;</td><td>null</td><td>&quot;DØD&quot;</td><td>true</td><td>2015-09-22 15:12:21</td><td>null</td><td>null</td><td>null</td><td>&quot;K&quot;</td><td>false</td><td>null</td><td>false</td><td>null</td><td>false</td><td>null</td><td>null</td><td>null</td><td>&quot;BERGEN&quot;</td><td>null</td></tr><tr><td>62</td><td>&quot;Siv J.M&quot;</td><td>&quot;Meiburg&quot;</td><td>null</td><td>0</td><td>12790</td><td>&quot;V&quot;</td><td>&quot;Skeisvollveien 1&quot;</td><td>&quot;5518&quot;</td><td>null</td><td>null</td><td>null</td><td>null</td><td>false</td><td>null</td><td>null</td><td>null</td><td>null</td><td>null</td><td>1959-03-03</td><td>null</td><td>&quot;Meiburg&quot;</td><td>&quot;Siv J.M&quot;</td><td>null</td><td>&quot;Skeisvollveien 1&quot;</td><td>null</td><td>&quot;5518&quot;</td><td>null</td><td>null</td><td>null</td><td>&quot;UB&quot;</td><td>&quot;H&quot;</td><td>&quot;52 90 11 95&quot;</td><td>null</td><td>null</td><td>null</td><td>false</td><td>&quot;P&quot;</td><td>null</td><td>null</td><td>&quot;V&quot;</td><td>true</td><td>2019-04-07 14:47:33</td><td>null</td><td>null</td><td>null</td><td>&quot;K&quot;</td><td>false</td><td>null</td><td>false</td><td>null</td><td>false</td><td>null</td><td>null</td><td>null</td><td>&quot;HAUGESUND&quot;</td><td>&quot;10233100584&quot;</td></tr><tr><td>63</td><td>&quot;Guri Sejrup&quot;</td><td>&quot;Miljeteig&quot;</td><td>null</td><td>0</td><td>15463</td><td>&quot;DF&quot;</td><td>&quot;Furuveien 9a&quot;</td><td>&quot;5067&quot;</td><td>null</td><td>null</td><td>null</td><td>null</td><td>false</td><td>null</td><td>null</td><td>null</td><td>null</td><td>null</td><td>1976-02-26</td><td>null</td><td>&quot;Miljeteig&quot;</td><td>&quot;Guri Sejrup&quot;</td><td>null</td><td>&quot;Furuveien 9a&quot;</td><td>null</td><td>&quot;5067&quot;</td><td>&quot;og&quot;</td><td>&quot;Alexander&quot;</td><td>&quot;Geelmuyden&quot;</td><td>&quot;UB&quot;</td><td>&quot;B&quot;</td><td>null</td><td>null</td><td>null</td><td>&quot;Intet&quot;</td><td>false</td><td>&quot;P&quot;</td><td>null</td><td>null</td><td>&quot;DF&quot;</td><td>false</td><td>2014-05-31 21:08:00</td><td>15451</td><td>null</td><td>null</td><td>null</td><td>false</td><td>null</td><td>false</td><td>null</td><td>false</td><td>null</td><td>null</td><td>null</td><td>null</td><td>null</td></tr><tr><td>64</td><td>&quot;Eli Vibeke&quot;</td><td>&quot;Moldung&quot;</td><td>null</td><td>0</td><td>11486</td><td>&quot;M&quot;</td><td>&quot;Vågadalen 73&quot;</td><td>&quot;5209&quot;</td><td>null</td><td>null</td><td>&quot;06044238061&quot;</td><td>null</td><td>false</td><td>null</td><td>null</td><td>null</td><td>null</td><td>null</td><td>1942-04-06</td><td>&quot;06044238061&quot;</td><td>&quot;Moldung&quot;</td><td>&quot;Eli Vibeke&quot;</td><td>null</td><td>&quot;Vågadalen 73&quot;</td><td>null</td><td>&quot;5209&quot;</td><td>null</td><td>null</td><td>null</td><td>null</td><td>&quot;B&quot;</td><td>&quot;55 32 10 95&quot;</td><td>null</td><td>&quot;Gift kvinne&quot;</td><td>&quot;Kristensamfunnet&quot;</td><td>true</td><td>&quot;E&quot;</td><td>&quot;Kristensamfunnet&quot;</td><td>null</td><td>&quot;M&quot;</td><td>false</td><td>2020-03-25 13:43:40</td><td>11487</td><td>null</td><td>null</td><td>&quot;K&quot;</td><td>false</td><td>null</td><td>false</td><td>null</td><td>false</td><td>null</td><td>null</td><td>null</td><td>&quot;BERGEN&quot;</td><td>&quot;10148101115&quot;</td></tr><tr><td>65</td><td>&quot;Inger&quot;</td><td>&quot;Møller-Holst&quot;</td><td>null</td><td>0</td><td>11501</td><td>&quot;DØD&quot;</td><td>&quot;Midtlia 4&quot;</td><td>&quot;5223&quot;</td><td>null</td><td>null</td><td>&quot;23102038096&quot;</td><td>null</td><td>false</td><td>null</td><td>null</td><td>null</td><td>null</td><td>null</td><td>1920-10-23</td><td>&quot;23102038096&quot;</td><td>&quot;Møller-Holst&quot;</td><td>&quot;Inger&quot;</td><td>null</td><td>&quot;Midtlia 4&quot;</td><td>null</td><td>&quot;5223&quot;</td><td>null</td><td>null</td><td>null</td><td>null</td><td>null</td><td>&quot;55 10 19 16&quot;</td><td>null</td><td>null</td><td>&quot;Kristensamfunnet&quot;</td><td>false</td><td>null</td><td>null</td><td>&quot;Døde 15.12.2017&quot;</td><td>&quot;DØD&quot;</td><td>true</td><td>2020-02-04 17:10:00</td><td>null</td><td>null</td><td>null</td><td>&quot;K&quot;</td><td>false</td><td>null</td><td>false</td><td>null</td><td>false</td><td>null</td><td>null</td><td>null</td><td>&quot;BERGEN&quot;</td><td>null</td></tr><tr><td>68</td><td>&quot;Per Walfrid&quot;</td><td>&quot;Odén&quot;</td><td>null</td><td>0</td><td>14489</td><td>&quot;DF&quot;</td><td>&quot;Bjøllebotn 95&quot;</td><td>&quot;5226&quot;</td><td>&quot;01.12.2000&quot;</td><td>null</td><td>null</td><td>2000-12-01</td><td>false</td><td>null</td><td>null</td><td>null</td><td>null</td><td>null</td><td>1946-03-21</td><td>null</td><td>&quot;Odén&quot;</td><td>&quot;Per Walfrid&quot;</td><td>null</td><td>&quot;Bjøllebotn 95&quot;</td><td>null</td><td>&quot;5226&quot;</td><td>&quot;og&quot;</td><td>&quot;Gunn-Berit&quot;</td><td>&quot;Kleiveland&quot;</td><td>null</td><td>null</td><td>&quot;55 98 98 09&quot;</td><td>&quot;984 95 133&quot;</td><td>&quot;Ugift mann&quot;</td><td>null</td><td>false</td><td>null</td><td>null</td><td>null</td><td>&quot;DF&quot;</td><td>false</td><td>2014-05-31 20:15:47</td><td>14490</td><td>null</td><td>null</td><td>&quot;M&quot;</td><td>false</td><td>null</td><td>false</td><td>null</td><td>false</td><td>null</td><td>null</td><td>null</td><td>null</td><td>null</td></tr><tr><td>70</td><td>&quot;Priscilla&quot;</td><td>&quot;Overholdt&quot;</td><td>null</td><td>0</td><td>15516</td><td>&quot;V&quot;</td><td>&quot;c/o Gladstad syke- og aldershj…</td><td>&quot;8980&quot;</td><td>null</td><td>null</td><td>null</td><td>null</td><td>false</td><td>null</td><td>null</td><td>null</td><td>null</td><td>null</td><td>null</td><td>null</td><td>&quot;Overholdt&quot;</td><td>&quot;Priscilla&quot;</td><td>null</td><td>&quot;c/o Gladstad syke- og aldershj…</td><td>null</td><td>&quot;8980&quot;</td><td>null</td><td>null</td><td>null</td><td>&quot;UB&quot;</td><td>&quot;PrT&quot;</td><td>null</td><td>null</td><td>null</td><td>null</td><td>false</td><td>&quot;P&quot;</td><td>null</td><td>null</td><td>&quot;V&quot;</td><td>false</td><td>2025-03-13 21:30:44</td><td>null</td><td>null</td><td>null</td><td>null</td><td>false</td><td>null</td><td>false</td><td>null</td><td>false</td><td>null</td><td>null</td><td>null</td><td>null</td><td>&quot;10007100059&quot;</td></tr><tr><td>71</td><td>&quot;Ismael S. Ulvik&quot;</td><td>&quot;Peladeau&quot;</td><td>null</td><td>0</td><td>15472</td><td>&quot;FLY&quot;</td><td>&quot;Garnesvegen 166&quot;</td><td>&quot;5264&quot;</td><td>null</td><td>null</td><td>&quot;08118634587&quot;</td><td>null</td><td>false</td><td>null</td><td>null</td><td>null</td><td>null</td><td>null</td><td>1986-11-08</td><td>&quot;08118634587&quot;</td><td>&quot;Peladeau&quot;</td><td>&quot;Ismael S. Ulvik&quot;</td><td>null</td><td>&quot;Garnesvegen 166&quot;</td><td>null</td><td>&quot;5264&quot;</td><td>null</td><td>null</td><td>null</td><td>null</td><td>&quot;B&quot;</td><td>null</td><td>null</td><td>null</td><td>null</td><td>false</td><td>null</td><td>null</td><td>&quot;Flyttet til Canada iflg Mette …</td><td>&quot;FLY&quot;</td><td>false</td><td>2016-08-15 15:04:39</td><td>null</td><td>null</td><td>null</td><td>&quot;M&quot;</td><td>false</td><td>null</td><td>false</td><td>null</td><td>false</td><td>null</td><td>null</td><td>null</td><td>null</td><td>null</td></tr><tr><td>72</td><td>&quot;Anjo Johanna&quot;</td><td>&quot;Peters&quot;</td><td>null</td><td>0</td><td>12577</td><td>&quot;V&quot;</td><td>&quot;Nordåsgrenda 178&quot;</td><td>&quot;5235&quot;</td><td>null</td><td>null</td><td>&quot;25116024244&quot;</td><td>null</td><td>false</td><td>null</td><td>null</td><td>null</td><td>3</td><td>null</td><td>1960-11-25</td><td>&quot;25116024244&quot;</td><td>&quot;Peters&quot;</td><td>&quot;Anjo Johanna&quot;</td><td>&quot;Lærer&quot;</td><td>&quot;Nordåsgrenda 178&quot;</td><td>null</td><td>&quot;5235&quot;</td><td>null</td><td>null</td><td>null</td><td>&quot;UB&quot;</td><td>&quot;BS&quot;</td><td>&quot;55 13 29 92&quot;</td><td>null</td><td>&quot;Gift kvinne&quot;</td><td>&quot;Kristensamfunnet&quot;</td><td>true</td><td>&quot;E&quot;</td><td>&quot;Kristensamfunnet&quot;</td><td>null</td><td>&quot;V&quot;</td><td>false</td><td>2019-04-07 15:13:19</td><td>12614</td><td>null</td><td>null</td><td>&quot;K&quot;</td><td>false</td><td>null</td><td>false</td><td>null</td><td>false</td><td>null</td><td>null</td><td>null</td><td>&quot;BERGEN&quot;</td><td>&quot;10235100590&quot;</td></tr><tr><td>73</td><td>&quot;Sarah Maria&quot;</td><td>&quot;Peters&quot;</td><td>null</td><td>0</td><td>12954</td><td>&quot;MS&quot;</td><td>&quot;Nordåsgrenda 178&quot;</td><td>&quot;5235&quot;</td><td>&quot;04.01.2002&quot;</td><td>null</td><td>&quot;09108629883&quot;</td><td>2002-01-04</td><td>false</td><td>&quot;Bergen&quot;</td><td>null</td><td>null</td><td>null</td><td>null</td><td>1986-10-09</td><td>&quot;09108629883&quot;</td><td>&quot;Peters&quot;</td><td>&quot;Sarah Maria&quot;</td><td>null</td><td>&quot;Nordåsgrenda 178&quot;</td><td>null</td><td>&quot;5235&quot;</td><td>null</td><td>null</td><td>null</td><td>null</td><td>null</td><td>null</td><td>null</td><td>null</td><td>null</td><td>false</td><td>null</td><td>null</td><td>&quot;døpt i NL. Mor: J.T.M. Anjo Pe…</td><td>&quot;MS&quot;</td><td>true</td><td>2005-03-24 16:03:38</td><td>null</td><td>12614</td><td>12577</td><td>&quot;K&quot;</td><td>false</td><td>null</td><td>false</td><td>null</td><td>false</td><td>null</td><td>null</td><td>null</td><td>&quot;BERGEN&quot;</td><td>null</td></tr><tr><td>74</td><td>&quot;Kristine Emilie&quot;</td><td>&quot;Petersen&quot;</td><td>null</td><td>0</td><td>14762</td><td>&quot;MU&quot;</td><td>&quot;Furulien 31&quot;</td><td>&quot;5101&quot;</td><td>null</td><td>null</td><td>&quot;20057631644&quot;</td><td>null</td><td>false</td><td>null</td><td>null</td><td>null</td><td>null</td><td>null</td><td>1976-05-20</td><td>&quot;20057631644&quot;</td><td>&quot;Petersen&quot;</td><td>&quot;Kristine Emilie&quot;</td><td>null</td><td>&quot;Furulien 31&quot;</td><td>null</td><td>&quot;5101&quot;</td><td>null</td><td>null</td><td>null</td><td>null</td><td>null</td><td>null</td><td>null</td><td>null</td><td>null</td><td>false</td><td>null</td><td>null</td><td>null</td><td>&quot;MU&quot;</td><td>false</td><td>2005-01-07 18:16:55</td><td>null</td><td>null</td><td>null</td><td>&quot;K&quot;</td><td>false</td><td>null</td><td>false</td><td>null</td><td>false</td><td>null</td><td>null</td><td>null</td><td>null</td><td>null</td></tr><tr><td>76</td><td>&quot;Inge&quot;</td><td>&quot;Raknes&quot;</td><td>null</td><td>0</td><td>14727</td><td>&quot;M&quot;</td><td>&quot;Rotvollen 18&quot;</td><td>&quot;5235&quot;</td><td>null</td><td>null</td><td>&quot;08035433970&quot;</td><td>null</td><td>false</td><td>null</td><td>null</td><td>null</td><td>null</td><td>null</td><td>1954-03-08</td><td>&quot;08035433970&quot;</td><td>&quot;Raknes&quot;</td><td>&quot;Inge&quot;</td><td>&quot;Lege&quot;</td><td>&quot;Rotvollen 18&quot;</td><td>null</td><td>&quot;5235&quot;</td><td>null</td><td>null</td><td>null</td><td>&quot;UB&quot;</td><td>&quot;B&quot;</td><td>null</td><td>null</td><td>null</td><td>&quot;Kristensamfunnet&quot;</td><td>false</td><td>&quot;E&quot;</td><td>null</td><td>null</td><td>&quot;M&quot;</td><td>false</td><td>2019-04-07 15:15:22</td><td>null</td><td>null</td><td>null</td><td>null</td><td>false</td><td>null</td><td>false</td><td>null</td><td>false</td><td>null</td><td>null</td><td>null</td><td>null</td><td>&quot;10110100384&quot;</td></tr><tr><td>79</td><td>&quot;John&quot;</td><td>&quot;Rawcliffe&quot;</td><td>null</td><td>0</td><td>11559</td><td>&quot;M&quot;</td><td>&quot;Kristofer Jansons vei 82&quot;</td><td>&quot;5089&quot;</td><td>null</td><td>null</td><td>&quot;31015127956&quot;</td><td>null</td><td>false</td><td>&quot;Bergen&quot;</td><td>null</td><td>null</td><td>null</td><td>null</td><td>1951-01-31</td><td>&quot;31015127956&quot;</td><td>&quot;Rawcliffe&quot;</td><td>&quot;John&quot;</td><td>&quot;Prest&quot;</td><td>&quot;Kristofer Jansons vei 82&quot;</td><td>&quot;j-rawc@online.no&quot;</td><td>&quot;5089&quot;</td><td>null</td><td>null</td><td>null</td><td>null</td><td>&quot;P&quot;</td><td>null</td><td>&quot;905 53 065&quot;</td><td>&quot;Gift mann&quot;</td><td>&quot;Kristensamfunnet&quot;</td><td>true</td><td>&quot;E&quot;</td><td>&quot;Kristensamfunnet&quot;</td><td>null</td><td>&quot;M&quot;</td><td>false</td><td>2021-06-25 10:19:05</td><td>11558</td><td>null</td><td>null</td><td>&quot;M&quot;</td><td>false</td><td>null</td><td>false</td><td>null</td><td>false</td><td>null</td><td>null</td><td>null</td><td>&quot;VINDAFJORD&quot;</td><td>&quot;10198101478&quot;</td></tr><tr><td>80</td><td>&quot;Mark Francis&quot;</td><td>&quot;Rawcliffe&quot;</td><td>null</td><td>0</td><td>12293</td><td>&quot;FLY&quot;</td><td>&quot;Hogganvik Landsby&quot;</td><td>&quot;5583&quot;</td><td>null</td><td>null</td><td>&quot;27047630733&quot;</td><td>null</td><td>false</td><td>null</td><td>null</td><td>null</td><td>null</td><td>null</td><td>1976-04-27</td><td>&quot;27047630733&quot;</td><td>&quot;Rawcliffe&quot;</td><td>&quot;Mark Francis&quot;</td><td>null</td><td>&quot;Hogganvik Landsby&quot;</td><td>null</td><td>&quot;5583&quot;</td><td>null</td><td>null</td><td>null</td><td>null</td><td>null</td><td>null</td><td>null</td><td>null</td><td>&quot;Kristensamfunnet&quot;</td><td>false</td><td>null</td><td>null</td><td>&quot;Flyttet Oslo. Ny adresse; Plog…</td><td>&quot;FLY&quot;</td><td>true</td><td>2020-03-04 10:44:59</td><td>null</td><td>11559</td><td>11558</td><td>&quot;M&quot;</td><td>false</td><td>null</td><td>false</td><td>null</td><td>false</td><td>null</td><td>null</td><td>null</td><td>&quot;VINDAFJORD&quot;</td><td>null</td></tr><tr><td>81</td><td>&quot;Daniele&quot;</td><td>&quot;Reistad&quot;</td><td>null</td><td>0</td><td>15529</td><td>&quot;V&quot;</td><td>&quot;Salhusveien 55&quot;</td><td>&quot;5529&quot;</td><td>null</td><td>null</td><td>null</td><td>null</td><td>false</td><td>null</td><td>null</td><td>null</td><td>null</td><td>null</td><td>null</td><td>null</td><td>&quot;Reistad&quot;</td><td>&quot;Daniele&quot;</td><td>null</td><td>&quot;Salhusveien 55&quot;</td><td>null</td><td>&quot;5529&quot;</td><td>&quot;og&quot;</td><td>&quot;Ole&quot;</td><td>&quot;Reistad&quot;</td><td>&quot;UB&quot;</td><td>&quot;H&quot;</td><td>null</td><td>null</td><td>null</td><td>null</td><td>false</td><td>&quot;P&quot;</td><td>null</td><td>null</td><td>&quot;V&quot;</td><td>false</td><td>2017-01-10 20:05:44</td><td>15598</td><td>null</td><td>null</td><td>null</td><td>false</td><td>null</td><td>false</td><td>null</td><td>false</td><td>null</td><td>null</td><td>null</td><td>null</td><td>null</td></tr><tr><td>82</td><td>&quot;Ole&quot;</td><td>&quot;Reistad&quot;</td><td>null</td><td>0</td><td>15598</td><td>&quot;V&quot;</td><td>&quot;Salhusveien 55&quot;</td><td>&quot;5529&quot;</td><td>null</td><td>null</td><td>null</td><td>null</td><td>false</td><td>null</td><td>null</td><td>null</td><td>null</td><td>null</td><td>null</td><td>null</td><td>&quot;Reistad&quot;</td><td>&quot;Ole&quot;</td><td>null</td><td>&quot;Salhusveien 55&quot;</td><td>null</td><td>&quot;5529&quot;</td><td>null</td><td>null</td><td>null</td><td>null</td><td>null</td><td>null</td><td>null</td><td>null</td><td>null</td><td>false</td><td>null</td><td>null</td><td>null</td><td>&quot;V&quot;</td><td>false</td><td>2019-04-08 08:56:22</td><td>15529</td><td>null</td><td>null</td><td>null</td><td>false</td><td>null</td><td>false</td><td>null</td><td>false</td><td>null</td><td>null</td><td>null</td><td>null</td><td>&quot;12026102496&quot;</td></tr><tr><td>84</td><td>&quot;Ann Inger&quot;</td><td>&quot;Risholm&quot;</td><td>null</td><td>0</td><td>15593</td><td>&quot;V&quot;</td><td>&quot;Øvre Sædalsvegen 169 Q&quot;</td><td>&quot;5099&quot;</td><td>null</td><td>null</td><td>&quot;20114739279&quot;</td><td>null</td><td>false</td><td>null</td><td>null</td><td>null</td><td>null</td><td>null</td><td>1947-11-20</td><td>&quot;20114739279&quot;</td><td>&quot;Risholm&quot;</td><td>&quot;Ann Inger&quot;</td><td>null</td><td>&quot;Øvre Sædalsvegen 169 Q&quot;</td><td>null</td><td>&quot;5099&quot;</td><td>null</td><td>null</td><td>null</td><td>&quot;UB&quot;</td><td>&quot;B&quot;</td><td>null</td><td>&quot;482 01 430&quot;</td><td>&quot;Ugift kvinne&quot;</td><td>&quot;Kristensamfunnet&quot;</td><td>false</td><td>&quot;E&quot;</td><td>null</td><td>&quot;Flyttet fra Oslo september 201…</td><td>&quot;V&quot;</td><td>false</td><td>2019-06-18 07:25:30</td><td>null</td><td>null</td><td>null</td><td>null</td><td>false</td><td>null</td><td>false</td><td>null</td><td>false</td><td>null</td><td>null</td><td>null</td><td>null</td><td>&quot;12045102667&quot;</td></tr><tr><td>85</td><td>&quot;Ingunn&quot;</td><td>&quot;Roberts&quot;</td><td>null</td><td>0</td><td>14810</td><td>&quot;UTM&quot;</td><td>&quot;Grensevegen 2A&quot;</td><td>&quot;4365&quot;</td><td>null</td><td>null</td><td>&quot;25125228693&quot;</td><td>null</td><td>false</td><td>null</td><td>null</td><td>null</td><td>null</td><td>null</td><td>1952-12-25</td><td>&quot;25125228693&quot;</td><td>&quot;Roberts&quot;</td><td>&quot;Ingunn&quot;</td><td>&quot;Lærer&quot;</td><td>&quot;Grensevegen 2A&quot;</td><td>null</td><td>&quot;4365&quot;</td><td>null</td><td>null</td><td>null</td><td>null</td><td>&quot;S&quot;</td><td>&quot;51 43 58 30&quot;</td><td>&quot;993 14 751&quot;</td><td>&quot;Gift kvinne&quot;</td><td>&quot;Kristensamfunnet&quot;</td><td>false</td><td>null</td><td>&quot;????&quot;</td><td>&quot;Flyttet fra Scotland i 2006&quot;</td><td>&quot;UTM&quot;</td><td>false</td><td>2012-10-09 15:53:23</td><td>null</td><td>null</td><td>null</td><td>&quot;K&quot;</td><td>false</td><td>null</td><td>false</td><td>null</td><td>false</td><td>null</td><td>null</td><td>null</td><td>null</td><td>null</td></tr><tr><td>87</td><td>&quot;Lilleberta&quot;</td><td>&quot;Sandved&quot;</td><td>null</td><td>0</td><td>11588</td><td>&quot;M&quot;</td><td>&quot;Tambarskjelves gate 14&quot;</td><td>&quot;5523&quot;</td><td>null</td><td>null</td><td>&quot;19024930052&quot;</td><td>null</td><td>false</td><td>null</td><td>null</td><td>null</td><td>null</td><td>null</td><td>1949-02-19</td><td>&quot;19024930052&quot;</td><td>&quot;Sandved&quot;</td><td>&quot;Lilleberta&quot;</td><td>null</td><td>&quot;Tambarskjelves gate 14&quot;</td><td>null</td><td>&quot;5523&quot;</td><td>null</td><td>null</td><td>null</td><td>null</td><td>null</td><td>null</td><td>null</td><td>null</td><td>&quot;Kristensamfunnet&quot;</td><td>false</td><td>null</td><td>&quot;Kristensamfunnet&quot;</td><td>null</td><td>&quot;M&quot;</td><td>true</td><td>2019-04-08 09:02:56</td><td>11257</td><td>null</td><td>null</td><td>&quot;K&quot;</td><td>false</td><td>null</td><td>false</td><td>null</td><td>false</td><td>null</td><td>null</td><td>null</td><td>&quot;HAUGESUND&quot;</td><td>null</td></tr><tr><td>88</td><td>&quot;Inger Johanne&quot;</td><td>&quot;Selsaas&quot;</td><td>null</td><td>0</td><td>13220</td><td>&quot;DØD&quot;</td><td>&quot;Øvregate 164&quot;</td><td>&quot;5525&quot;</td><td>&quot;17.12.1995&quot;</td><td>null</td><td>&quot;30014527881&quot;</td><td>1995-12-17</td><td>false</td><td>null</td><td>null</td><td>null</td><td>null</td><td>null</td><td>1945-01-30</td><td>&quot;30014527881&quot;</td><td>&quot;Selsaas&quot;</td><td>&quot;Inger Johanne&quot;</td><td>&quot;Lærer&quot;</td><td>&quot;Øvregate 164&quot;</td><td>null</td><td>&quot;5525&quot;</td><td>null</td><td>null</td><td>null</td><td>&quot;UB&quot;</td><td>&quot;H&quot;</td><td>null</td><td>&quot;917 71 946&quot;</td><td>&quot;Fraskilt kvinne&quot;</td><td>&quot;Kristensamfunnet&quot;</td><td>false</td><td>&quot;E&quot;</td><td>null</td><td>null</td><td>&quot;DØD&quot;</td><td>true</td><td>2020-06-22 15:51:20</td><td>null</td><td>null</td><td>null</td><td>&quot;K&quot;</td><td>false</td><td>null</td><td>false</td><td>null</td><td>false</td><td>null</td><td>null</td><td>null</td><td>&quot;HAUGESUND&quot;</td><td>&quot;10006100043&quot;</td></tr><tr><td>92</td><td>&quot;Marianne&quot;</td><td>&quot;Solberg&quot;</td><td>null</td><td>0</td><td>14573</td><td>&quot;V&quot;</td><td>&quot;Idunsvei 2&quot;</td><td>&quot;5221&quot;</td><td>null</td><td>null</td><td>null</td><td>null</td><td>false</td><td>null</td><td>null</td><td>null</td><td>null</td><td>null</td><td>null</td><td>null</td><td>&quot;Solberg&quot;</td><td>&quot;Marianne&quot;</td><td>null</td><td>&quot;Idunsvei 2&quot;</td><td>null</td><td>&quot;5221&quot;</td><td>&quot;og&quot;</td><td>null</td><td>null</td><td>null</td><td>null</td><td>null</td><td>null</td><td>&quot;Ugift kvinne&quot;</td><td>null</td><td>false</td><td>null</td><td>null</td><td>null</td><td>&quot;V&quot;</td><td>false</td><td>2002-12-06 23:24:27</td><td>14470</td><td>null</td><td>null</td><td>null</td><td>false</td><td>null</td><td>false</td><td>null</td><td>false</td><td>null</td><td>null</td><td>null</td><td>null</td><td>null</td></tr><tr><td>95</td><td>&quot;Morten&quot;</td><td>&quot;Stene&quot;</td><td>null</td><td>0</td><td>14499</td><td>&quot;FLY&quot;</td><td>&quot;Sikthaugen 25&quot;</td><td>&quot;5145&quot;</td><td>&quot;25.12.2000&quot;</td><td>null</td><td>&quot;17068044901&quot;</td><td>2000-12-25</td><td>false</td><td>null</td><td>null</td><td>null</td><td>null</td><td>null</td><td>1980-06-17</td><td>&quot;17068044901&quot;</td><td>&quot;Stene&quot;</td><td>&quot;Morten&quot;</td><td>&quot;Student&quot;</td><td>&quot;Sikthaugen 25&quot;</td><td>null</td><td>&quot;5145&quot;</td><td>null</td><td>null</td><td>null</td><td>null</td><td>null</td><td>&quot;55 28 91 62&quot;</td><td>null</td><td>&quot;Ugift mann&quot;</td><td>&quot;Kristensamfunnet&quot;</td><td>false</td><td>null</td><td>null</td><td>&quot;Flyttet til Nesodden 2013&quot;</td><td>&quot;FLY&quot;</td><td>false</td><td>2014-01-29 08:44:33</td><td>null</td><td>null</td><td>null</td><td>&quot;M&quot;</td><td>false</td><td>null</td><td>false</td><td>null</td><td>false</td><td>null</td><td>null</td><td>null</td><td>null</td><td>null</td></tr><tr><td>96</td><td>&quot;Annette Sofie&quot;</td><td>&quot;Susaas&quot;</td><td>null</td><td>0</td><td>11695</td><td>&quot;V&quot;</td><td>&quot;Breidablikkgate 80&quot;</td><td>&quot;5528&quot;</td><td>null</td><td>null</td><td>null</td><td>null</td><td>false</td><td>null</td><td>null</td><td>null</td><td>null</td><td>null</td><td>1961-03-17</td><td>null</td><td>&quot;Susaas&quot;</td><td>&quot;Annette Sofie&quot;</td><td>null</td><td>&quot;Breidablikkgate 80&quot;</td><td>null</td><td>&quot;5528&quot;</td><td>&quot;og&quot;</td><td>&quot;Halfdan&quot;</td><td>&quot;Halvorsen&quot;</td><td>null</td><td>&quot;H&quot;</td><td>null</td><td>null</td><td>null</td><td>null</td><td>false</td><td>&quot;P&quot;</td><td>null</td><td>&quot;Sammen med mannen Halfdan Susa…</td><td>&quot;V&quot;</td><td>false</td><td>2020-02-11 10:50:13</td><td>null</td><td>null</td><td>null</td><td>&quot;K&quot;</td><td>false</td><td>null</td><td>false</td><td>null</td><td>false</td><td>null</td><td>null</td><td>null</td><td>&quot;HAUGESUND&quot;</td><td>null</td></tr><tr><td>97</td><td>&quot;Audun Tobias&quot;</td><td>&quot;Tellmann&quot;</td><td>null</td><td>0</td><td>14775</td><td>&quot;MS&quot;</td><td>&quot;Vinjesgt. 12B&quot;</td><td>&quot;5522&quot;</td><td>null</td><td>null</td><td>&quot;09067435351&quot;</td><td>null</td><td>false</td><td>null</td><td>null</td><td>null</td><td>null</td><td>null</td><td>1974-06-09</td><td>&quot;09067435351&quot;</td><td>&quot;Tellmann&quot;</td><td>&quot;Audun Tobias&quot;</td><td>null</td><td>&quot;Vinjesgt. 12B&quot;</td><td>null</td><td>&quot;5522&quot;</td><td>null</td><td>null</td><td>null</td><td>null</td><td>null</td><td>null</td><td>null</td><td>null</td><td>null</td><td>false</td><td>null</td><td>null</td><td>&quot;Meldt fra mars 05&quot;</td><td>&quot;MS&quot;</td><td>false</td><td>2005-03-24 16:05:33</td><td>null</td><td>null</td><td>null</td><td>null</td><td>false</td><td>null</td><td>false</td><td>null</td><td>false</td><td>null</td><td>null</td><td>null</td><td>null</td><td>null</td></tr><tr><td>98</td><td>&quot;Vibeke Andrea&quot;</td><td>&quot;Tellmann&quot;</td><td>null</td><td>0</td><td>14759</td><td>&quot;MS&quot;</td><td>&quot;Nygårdsgt. 68&quot;</td><td>&quot;5008&quot;</td><td>null</td><td>null</td><td>&quot;13017226651&quot;</td><td>null</td><td>false</td><td>null</td><td>null</td><td>null</td><td>null</td><td>null</td><td>1972-01-13</td><td>&quot;13017226651&quot;</td><td>&quot;Tellmann&quot;</td><td>&quot;Vibeke Andrea&quot;</td><td>null</td><td>&quot;Nygårdsgt. 68&quot;</td><td>null</td><td>&quot;5008&quot;</td><td>null</td><td>null</td><td>null</td><td>null</td><td>null</td><td>null</td><td>null</td><td>null</td><td>null</td><td>false</td><td>null</td><td>null</td><td>null</td><td>&quot;MS&quot;</td><td>false</td><td>2005-01-07 18:17:31</td><td>null</td><td>null</td><td>null</td><td>&quot;K&quot;</td><td>false</td><td>null</td><td>false</td><td>null</td><td>false</td><td>null</td><td>null</td><td>null</td><td>null</td><td>null</td></tr><tr><td>100</td><td>&quot;Sissel Janne&quot;</td><td>&quot;Thalle&quot;</td><td>null</td><td>0</td><td>14611</td><td>&quot;V&quot;</td><td>&quot;Buhølen&quot;</td><td>&quot;4520&quot;</td><td>null</td><td>null</td><td>null</td><td>null</td><td>false</td><td>null</td><td>null</td><td>null</td><td>null</td><td>null</td><td>null</td><td>null</td><td>&quot;Thalle&quot;</td><td>&quot;Sissel Janne&quot;</td><td>null</td><td>&quot;Buhølen&quot;</td><td>null</td><td>&quot;4520&quot;</td><td>null</td><td>null</td><td>null</td><td>null</td><td>&quot;S&quot;</td><td>null</td><td>null</td><td>null</td><td>null</td><td>false</td><td>null</td><td>null</td><td>null</td><td>&quot;V&quot;</td><td>false</td><td>2002-12-11 22:14:02</td><td>null</td><td>null</td><td>null</td><td>&quot;K&quot;</td><td>false</td><td>null</td><td>false</td><td>null</td><td>false</td><td>null</td><td>null</td><td>null</td><td>null</td><td>null</td></tr><tr><td>102</td><td>&quot;Kjersti&quot;</td><td>&quot;Torp&quot;</td><td>null</td><td>0</td><td>15553</td><td>&quot;V&quot;</td><td>&quot;Flåteskjærsveien 9&quot;</td><td>&quot;3145&quot;</td><td>null</td><td>null</td><td>&quot;28055331466&quot;</td><td>null</td><td>false</td><td>null</td><td>null</td><td>null</td><td>null</td><td>null</td><td>1953-05-28</td><td>&quot;28055331466&quot;</td><td>&quot;Torp&quot;</td><td>&quot;Kjersti&quot;</td><td>null</td><td>&quot;Flåteskjærsveien 9&quot;</td><td>null</td><td>&quot;3145&quot;</td><td>null</td><td>null</td><td>null</td><td>&quot;UB&quot;</td><td>null</td><td>null</td><td>null</td><td>&quot;Fraskilt kvinne&quot;</td><td>&quot;Kristensamfunnet&quot;</td><td>false</td><td>&quot;P&quot;</td><td>null</td><td>&quot;Flyttet til Tjøme mars 2021&quot;</td><td>&quot;V&quot;</td><td>false</td><td>2021-06-17 12:56:41</td><td>null</td><td>null</td><td>null</td><td>&quot;K&quot;</td><td>false</td><td>null</td><td>false</td><td>null</td><td>false</td><td>null</td><td>null</td><td>null</td><td>null</td><td>&quot;10025100131&quot;</td></tr><tr><td>103</td><td>&quot;Mette&quot;</td><td>&quot;Wernøe&quot;</td><td>null</td><td>0</td><td>13649</td><td>&quot;M&quot;</td><td>&quot;Vardesvingen 92 F&quot;</td><td>&quot;5141&quot;</td><td>null</td><td>null</td><td>&quot;08073836248&quot;</td><td>null</td><td>false</td><td>null</td><td>null</td><td>null</td><td>null</td><td>null</td><td>1938-07-08</td><td>&quot;08073836248&quot;</td><td>&quot;Wernøe&quot;</td><td>&quot;Mette&quot;</td><td>&quot;Pensjonist&quot;</td><td>&quot;Vardesvingen 92 F&quot;</td><td>null</td><td>&quot;5141&quot;</td><td>null</td><td>null</td><td>null</td><td>&quot;UB&quot;</td><td>&quot;B&quot;</td><td>&quot;55 16 43 61&quot;</td><td>null</td><td>&quot;Gift kvinne&quot;</td><td>&quot;Kristensamfunnet&quot;</td><td>true</td><td>&quot;P&quot;</td><td>&quot;Kristensamfunnet&quot;</td><td>null</td><td>&quot;M&quot;</td><td>true</td><td>2023-11-05 14:49:41</td><td>11692</td><td>null</td><td>null</td><td>&quot;K&quot;</td><td>false</td><td>null</td><td>false</td><td>null</td><td>false</td><td>null</td><td>null</td><td>null</td><td>&quot;BERGEN&quot;</td><td>&quot;12049102697&quot;</td></tr><tr><td>104</td><td>&quot;Josefin Thorbjørnsen&quot;</td><td>&quot;Winther&quot;</td><td>null</td><td>0</td><td>14484</td><td>&quot;V&quot;</td><td>&quot;Nordahl Rolfsensvei 6&quot;</td><td>&quot;5094&quot;</td><td>&quot;18.10.2000&quot;</td><td>null</td><td>&quot;10038636427&quot;</td><td>2000-10-18</td><td>true</td><td>&quot;Bergen&quot;</td><td>null</td><td>2000-11-05</td><td>null</td><td>&quot;Bergen&quot;</td><td>1986-03-10</td><td>&quot;10038636427&quot;</td><td>&quot;Winther&quot;</td><td>&quot;Josefin Thorbjørnsen&quot;</td><td>null</td><td>&quot;Nordahl Rolfsensvei 6&quot;</td><td>null</td><td>&quot;5094&quot;</td><td>null</td><td>null</td><td>null</td><td>null</td><td>null</td><td>null</td><td>null</td><td>&quot;Pikebarn&quot;</td><td>&quot;Kristensamfunnet&quot;</td><td>false</td><td>null</td><td>null</td><td>null</td><td>&quot;V&quot;</td><td>false</td><td>2000-11-30 20:41:13</td><td>null</td><td>14480</td><td>14479</td><td>&quot;K&quot;</td><td>false</td><td>&quot;Nina Thorbjørnsen; Magne Skred…</td><td>true</td><td>&quot;Gbi&quot;</td><td>true</td><td>null</td><td>null</td><td>null</td><td>null</td><td>null</td></tr><tr><td>105</td><td>&quot;Kristoffer Nikolai&quot;</td><td>&quot;Wüthrich&quot;</td><td>null</td><td>0</td><td>12512</td><td>&quot;FLY&quot;</td><td>&quot;Hans Collins vei 5&quot;</td><td>&quot;7053&quot;</td><td>null</td><td>null</td><td>null</td><td>null</td><td>false</td><td>null</td><td>null</td><td>null</td><td>null</td><td>null</td><td>1985-08-21</td><td>null</td><td>&quot;Wüthrich&quot;</td><td>&quot;Kristoffer Nikolai&quot;</td><td>null</td><td>&quot;Hans Collins vei 5&quot;</td><td>null</td><td>&quot;7053&quot;</td><td>null</td><td>null</td><td>null</td><td>null</td><td>null</td><td>null</td><td>null</td><td>null</td><td>null</td><td>false</td><td>null</td><td>null</td><td>&quot;Brigitte V. Wüthrich, Ole Vest…</td><td>&quot;FLY&quot;</td><td>true</td><td>2000-09-19 16:00:06</td><td>null</td><td>11267</td><td>11266</td><td>&quot;K&quot;</td><td>false</td><td>null</td><td>false</td><td>null</td><td>false</td><td>null</td><td>null</td><td>null</td><td>&quot;ØLEN&quot;</td><td>null</td></tr><tr><td>106</td><td>&quot;Ole Vestergaard&quot;</td><td>&quot;Wüthrich&quot;</td><td>null</td><td>0</td><td>11267</td><td>&quot;FLY&quot;</td><td>&quot;Hans Collins vei 5&quot;</td><td>&quot;7053&quot;</td><td>null</td><td>null</td><td>null</td><td>null</td><td>false</td><td>null</td><td>null</td><td>null</td><td>null</td><td>null</td><td>1954-11-14</td><td>null</td><td>&quot;Wüthrich&quot;</td><td>&quot;Ole Vestergaard&quot;</td><td>null</td><td>&quot;Hans Collins vei 5&quot;</td><td>null</td><td>&quot;7053&quot;</td><td>&quot;og&quot;</td><td>&quot;Birgitte V.&quot;</td><td>&quot;Wüthrich&quot;</td><td>null</td><td>null</td><td>null</td><td>null</td><td>null</td><td>&quot;Kristensamfunnet&quot;</td><td>false</td><td>null</td><td>null</td><td>null</td><td>&quot;FLY&quot;</td><td>true</td><td>2000-09-19 16:00:53</td><td>11266</td><td>11267</td><td>11266</td><td>&quot;K&quot;</td><td>false</td><td>null</td><td>false</td><td>null</td><td>false</td><td>null</td><td>null</td><td>null</td><td>&quot;ØLEN&quot;</td><td>null</td></tr><tr><td>107</td><td>&quot;Henning&quot;</td><td>&quot;Økland&quot;</td><td>null</td><td>0</td><td>14635</td><td>&quot;V&quot;</td><td>&quot;Pb 572 Hovedpostkontor&quot;</td><td>&quot;5501&quot;</td><td>null</td><td>null</td><td>null</td><td>null</td><td>false</td><td>null</td><td>null</td><td>null</td><td>null</td><td>null</td><td>null</td><td>null</td><td>&quot;Økland&quot;</td><td>&quot;Henning&quot;</td><td>null</td><td>&quot;Pb 572 Hovedpostkontor&quot;</td><td>null</td><td>&quot;5501&quot;</td><td>null</td><td>null</td><td>null</td><td>null</td><td>null</td><td>&quot;52 72 49 89&quot;</td><td>&quot;909 41 799&quot;</td><td>&quot;Fraskilt mann&quot;</td><td>null</td><td>false</td><td>null</td><td>null</td><td>null</td><td>&quot;V&quot;</td><td>false</td><td>2014-05-23 15:54:26</td><td>null</td><td>null</td><td>null</td><td>&quot;M&quot;</td><td>false</td><td>null</td><td>false</td><td>null</td><td>false</td><td>null</td><td>null</td><td>null</td><td>null</td><td>null</td></tr><tr><td>108</td><td>&quot;Hildegunn&quot;</td><td>&quot;Aadland&quot;</td><td>null</td><td>0</td><td>13163</td><td>&quot;V&quot;</td><td>&quot;Middelborgveien 13&quot;</td><td>&quot;3135&quot;</td><td>&quot;07.09.1994&quot;</td><td>null</td><td>&quot;01116949055&quot;</td><td>1994-09-07</td><td>false</td><td>null</td><td>null</td><td>null</td><td>null</td><td>null</td><td>1969-11-01</td><td>&quot;01116949055&quot;</td><td>&quot;Aadland&quot;</td><td>&quot;Hildegunn&quot;</td><td>null</td><td>&quot;Middelborgveien 13&quot;</td><td>null</td><td>&quot;3135&quot;</td><td>null</td><td>null</td><td>null</td><td>&quot;UB&quot;</td><td>&quot;PrT&quot;</td><td>null</td><td>null</td><td>&quot;Fraskilt kvinne&quot;</td><td>&quot;Kristensamfunnet&quot;</td><td>false</td><td>&quot;E&quot;</td><td>null</td><td>&quot;Øystein Løvlie f. 04.05.1969&quot;</td><td>&quot;V&quot;</td><td>true</td><td>2021-06-17 13:02:37</td><td>null</td><td>null</td><td>null</td><td>&quot;K&quot;</td><td>false</td><td>null</td><td>false</td><td>null</td><td>false</td><td>null</td><td>null</td><td>null</td><td>&quot;BERGEN&quot;</td><td>&quot;12071102847&quot;</td></tr><tr><td>109</td><td>&quot;Aida Sophie Meiburg&quot;</td><td>&quot;Aaholm&quot;</td><td>null</td><td>0</td><td>13451</td><td>&quot;MB&quot;</td><td>&quot;Granittvegen 10&quot;</td><td>&quot;5535&quot;</td><td>null</td><td>null</td><td>&quot;24059048682&quot;</td><td>null</td><td>false</td><td>null</td><td>null</td><td>null</td><td>null</td><td>null</td><td>1990-05-24</td><td>&quot;24059048682&quot;</td><td>&quot;Aaholm&quot;</td><td>&quot;Aida Sophie Meiburg&quot;</td><td>null</td><td>&quot;Granittvegen 10&quot;</td><td>null</td><td>&quot;5535&quot;</td><td>null</td><td>null</td><td>null</td><td>null</td><td>&quot;H&quot;</td><td>null</td><td>null</td><td>null</td><td>null</td><td>false</td><td>null</td><td>null</td><td>&quot;Siv Joanna M. Aaholm og Thomas…</td><td>&quot;MB&quot;</td><td>true</td><td>2010-03-30 12:30:54</td><td>null</td><td>null</td><td>12790</td><td>&quot;K&quot;</td><td>false</td><td>null</td><td>false</td><td>null</td><td>false</td><td>null</td><td>null</td><td>null</td><td>&quot;HAUGESUND&quot;</td><td>null</td></tr><tr><td>110</td><td>&quot;Hannah Julia Meiburg&quot;</td><td>&quot;Aaholm&quot;</td><td>null</td><td>0</td><td>12791</td><td>&quot;UTM&quot;</td><td>&quot;Båtmannsvegen 21&quot;</td><td>&quot;5535&quot;</td><td>null</td><td>null</td><td>null</td><td>null</td><td>false</td><td>null</td><td>null</td><td>null</td><td>null</td><td>null</td><td>1988-10-19</td><td>null</td><td>&quot;Aaholm&quot;</td><td>&quot;Hannah Julia Meiburg&quot;</td><td>null</td><td>&quot;Båtmannsvegen 21&quot;</td><td>null</td><td>&quot;5535&quot;</td><td>null</td><td>null</td><td>null</td><td>null</td><td>null</td><td>null</td><td>null</td><td>null</td><td>null</td><td>false</td><td>null</td><td>null</td><td>&quot;Siv J.M Aaholm, Thomas C. Aaho…</td><td>&quot;UTM&quot;</td><td>true</td><td>1997-03-25 11:28:39</td><td>null</td><td>null</td><td>12790</td><td>&quot;K&quot;</td><td>false</td><td>null</td><td>false</td><td>null</td><td>false</td><td>null</td><td>null</td><td>null</td><td>&quot;HAUGESUND&quot;</td><td>null</td></tr><tr><td>111</td><td>&quot;Kari&quot;</td><td>&quot;Berger&quot;</td><td>null</td><td>0</td><td>14439</td><td>&quot;M&quot;</td><td>&quot;Gjerdåsvegen 4&quot;</td><td>&quot;5428&quot;</td><td>&quot;28.06.2000&quot;</td><td>null</td><td>&quot;31085332832&quot;</td><td>2000-06-28</td><td>false</td><td>null</td><td>null</td><td>null</td><td>null</td><td>null</td><td>1953-08-31</td><td>&quot;31085332832&quot;</td><td>&quot;Berger&quot;</td><td>&quot;Kari&quot;</td><td>null</td><td>&quot;Gjerdåsvegen 4&quot;</td><td>null</td><td>&quot;5428&quot;</td><td>null</td><td>null</td><td>null</td><td>null</td><td>&quot;B&quot;</td><td>&quot;53 22 72 67&quot;</td><td>null</td><td>null</td><td>&quot;Kristensamfunnet&quot;</td><td>false</td><td>&quot;E&quot;</td><td>null</td><td>null</td><td>&quot;M&quot;</td><td>false</td><td>2020-03-20 17:22:29</td><td>null</td><td>null</td><td>null</td><td>null</td><td>false</td><td>null</td><td>false</td><td>null</td><td>false</td><td>null</td><td>null</td><td>null</td><td>null</td><td>&quot;10113100407&quot;</td></tr><tr><td>111</td><td>&quot;Kari Anna&quot;</td><td>&quot;Berger&quot;</td><td>null</td><td>0</td><td>15592</td><td>&quot;M&quot;</td><td>&quot;Nordahl Rolfsensvei 22A&quot;</td><td>&quot;5094&quot;</td><td>&quot;01.11.2016&quot;</td><td>null</td><td>&quot;22077849479&quot;</td><td>2016-11-01</td><td>false</td><td>&quot;Bergen&quot;</td><td>null</td><td>null</td><td>null</td><td>null</td><td>1978-07-22</td><td>&quot;22077849479&quot;</td><td>&quot;Berger&quot;</td><td>&quot;Kari Anna&quot;</td><td>&quot;Sosialterapeut&quot;</td><td>&quot;Nordahl Rolfsensvei 22A&quot;</td><td>null</td><td>&quot;5094&quot;</td><td>null</td><td>null</td><td>null</td><td>&quot;UB&quot;</td><td>&quot;BH&quot;</td><td>null</td><td>&quot;452 43 244&quot;</td><td>&quot;Ugift kvinne&quot;</td><td>&quot;Kristensamfunnet&quot;</td><td>false</td><td>&quot;E&quot;</td><td>null</td><td>null</td><td>&quot;M&quot;</td><td>false</td><td>2022-08-26 10:09:25</td><td>null</td><td>null</td><td>14439</td><td>&quot;K&quot;</td><td>false</td><td>null</td><td>false</td><td>null</td><td>false</td><td>null</td><td>null</td><td>null</td><td>null</td><td>&quot;10113100407&quot;</td></tr><tr><td>112</td><td>&quot;Lisbeth&quot;</td><td>&quot;Sunde&quot;</td><td>null</td><td>0</td><td>15578</td><td>&quot;V&quot;</td><td>&quot;Løvåsveien 70&quot;</td><td>&quot;5145&quot;</td><td>null</td><td>null</td><td>null</td><td>null</td><td>false</td><td>null</td><td>null</td><td>null</td><td>null</td><td>null</td><td>null</td><td>null</td><td>&quot;Sunde&quot;</td><td>&quot;Lisbeth&quot;</td><td>null</td><td>&quot;Løvåsveien 70&quot;</td><td>null</td><td>&quot;5145&quot;</td><td>null</td><td>null</td><td>null</td><td>null</td><td>null</td><td>null</td><td>&quot;926 41 958&quot;</td><td>null</td><td>null</td><td>false</td><td>null</td><td>null</td><td>null</td><td>&quot;V&quot;</td><td>false</td><td>2019-06-24 20:24:31</td><td>null</td><td>null</td><td>null</td><td>null</td><td>false</td><td>null</td><td>false</td><td>null</td><td>false</td><td>null</td><td>null</td><td>null</td><td>null</td><td>null</td></tr><tr><td>112</td><td>&quot;Lisbeth&quot;</td><td>&quot;Sundt&quot;</td><td>null</td><td>0</td><td>13172</td><td>&quot;V&quot;</td><td>&quot;Gimlebakken 18&quot;</td><td>&quot;5052&quot;</td><td>null</td><td>null</td><td>null</td><td>null</td><td>false</td><td>null</td><td>null</td><td>null</td><td>null</td><td>null</td><td>null</td><td>null</td><td>&quot;Sundt&quot;</td><td>&quot;Lisbeth&quot;</td><td>null</td><td>&quot;Gimlebakken 18&quot;</td><td>null</td><td>&quot;5052&quot;</td><td>null</td><td>null</td><td>null</td><td>&quot;UB&quot;</td><td>&quot;B&quot;</td><td>null</td><td>null</td><td>null</td><td>null</td><td>false</td><td>&quot;P&quot;</td><td>null</td><td>null</td><td>&quot;V&quot;</td><td>true</td><td>2019-04-08 09:14:29</td><td>null</td><td>null</td><td>null</td><td>&quot;K&quot;</td><td>false</td><td>null</td><td>false</td><td>null</td><td>false</td><td>null</td><td>null</td><td>null</td><td>&quot;BERGEN&quot;</td><td>&quot;10100100378&quot;</td></tr></tbody></table></div>"
      ],
      "text/plain": [
       "shape: (76, 57)\n",
       "┌───────────┬───────────┬───────────┬───────────┬───┬───────────┬──────────┬───────────┬───────────┐\n",
       "│ fuzzy_gro ┆ Fornavn   ┆ Etternavn ┆ Mellomnav ┆ … ┆ UtmeldtDa ┆ DødsDato ┆ Kommune   ┆ KID-nr    │\n",
       "│ up        ┆ ---       ┆ ---       ┆ n         ┆   ┆ to        ┆ ---      ┆ ---       ┆ ---       │\n",
       "│ ---       ┆ str       ┆ str       ┆ ---       ┆   ┆ ---       ┆ str      ┆ str       ┆ str       │\n",
       "│ i64       ┆           ┆           ┆ str       ┆   ┆ date      ┆          ┆           ┆           │\n",
       "╞═══════════╪═══════════╪═══════════╪═══════════╪═══╪═══════════╪══════════╪═══════════╪═══════════╡\n",
       "│ 0         ┆ Janicke   ┆ Akerø     ┆ null      ┆ … ┆ null      ┆ null     ┆ null      ┆ 100881007 │\n",
       "│           ┆           ┆           ┆           ┆   ┆           ┆          ┆           ┆ 39        │\n",
       "│ 2         ┆ Gry       ┆ Alsos     ┆ null      ┆ … ┆ null      ┆ null     ┆ null      ┆ 101711004 │\n",
       "│           ┆ Veronica  ┆           ┆           ┆   ┆           ┆          ┆           ┆ 71        │\n",
       "│ 5         ┆ Bodil     ┆ Aukrust   ┆ null      ┆ … ┆ null      ┆ null     ┆ BERGEN    ┆ null      │\n",
       "│ 6         ┆ Milla     ┆ Aukrust   ┆ null      ┆ … ┆ null      ┆ null     ┆ BERGEN    ┆ null      │\n",
       "│           ┆ Kristine  ┆           ┆           ┆   ┆           ┆          ┆           ┆           │\n",
       "│ 9         ┆ Erling    ┆ Bakken    ┆ null      ┆ … ┆ null      ┆ null     ┆ null      ┆ null      │\n",
       "│ 10        ┆ Jorun     ┆ Barane    ┆ null      ┆ … ┆ null      ┆ null     ┆ null      ┆ null      │\n",
       "│ 11        ┆ John L.   ┆ Baum      ┆ null      ┆ … ┆ null      ┆ null     ┆ null      ┆ null      │\n",
       "│ 13        ┆ Jørgen    ┆ Beyer     ┆ null      ┆ … ┆ null      ┆ null     ┆ BERGEN    ┆ null      │\n",
       "│           ┆ Anesønn   ┆           ┆           ┆   ┆           ┆          ┆           ┆           │\n",
       "│ 14        ┆ Martin    ┆ Beyer     ┆ null      ┆ … ┆ null      ┆ null     ┆ STAVANGER ┆ null      │\n",
       "│           ┆ Sigurd    ┆           ┆           ┆   ┆           ┆          ┆           ┆           │\n",
       "│ 15        ┆ Sigve     ┆ Beyer     ┆ null      ┆ … ┆ null      ┆ null     ┆ null      ┆ null      │\n",
       "│           ┆ Tobias    ┆           ┆           ┆   ┆           ┆          ┆           ┆           │\n",
       "│ 16        ┆ Øyvind    ┆ Beyer     ┆ null      ┆ … ┆ null      ┆ null     ┆ BERGEN    ┆ null      │\n",
       "│ 17        ┆ Kari      ┆ Bie       ┆ null      ┆ … ┆ null      ┆ null     ┆ null      ┆ null      │\n",
       "│           ┆ Berger    ┆           ┆           ┆   ┆           ┆          ┆           ┆           │\n",
       "│ 19        ┆ Axel      ┆ Bjelke    ┆ null      ┆ … ┆ null      ┆ null     ┆ null      ┆ null      │\n",
       "│           ┆ Mikael    ┆           ┆           ┆   ┆           ┆          ┆           ┆           │\n",
       "│ 23        ┆ Vilde     ┆ Brun      ┆ null      ┆ … ┆ null      ┆ null     ┆ null      ┆ null      │\n",
       "│           ┆ Andrea    ┆           ┆           ┆   ┆           ┆          ┆           ┆           │\n",
       "│ 24        ┆ Marit     ┆ Bråten    ┆ null      ┆ … ┆ null      ┆ null     ┆ TYSVÆR    ┆ null      │\n",
       "│ 25        ┆ Peter     ┆ Dannevig  ┆ null      ┆ … ┆ null      ┆ null     ┆ null      ┆ null      │\n",
       "│           ┆ Olav      ┆           ┆           ┆   ┆           ┆          ┆           ┆           │\n",
       "│ 26        ┆ Inger     ┆ Aasland   ┆ null      ┆ … ┆ null      ┆ null     ┆ SVEIO     ┆ null      │\n",
       "│           ┆ Karin     ┆           ┆           ┆   ┆           ┆          ┆           ┆           │\n",
       "│ 28        ┆ Hilde     ┆ Ente      ┆ null      ┆ … ┆ null      ┆ null     ┆ null      ┆ null      │\n",
       "│           ┆ Hofstra   ┆           ┆           ┆   ┆           ┆          ┆           ┆           │\n",
       "│ 29        ┆ Sigrun    ┆ Ente      ┆ null      ┆ … ┆ null      ┆ null     ┆ null      ┆ null      │\n",
       "│           ┆ Marie     ┆           ┆           ┆   ┆           ┆          ┆           ┆           │\n",
       "│ 30        ┆ Henriette ┆ Fløtra    ┆ null      ┆ … ┆ null      ┆ null     ┆ null      ┆ 100191001 │\n",
       "│           ┆           ┆           ┆           ┆   ┆           ┆          ┆           ┆ 05        │\n",
       "│ 31        ┆ Turid     ┆ Frimannsl ┆ null      ┆ … ┆ null      ┆ null     ┆ null      ┆ null      │\n",
       "│           ┆           ┆ und       ┆           ┆   ┆           ┆          ┆           ┆           │\n",
       "│ 32        ┆ Erik      ┆ Geelmuyde ┆ null      ┆ … ┆ null      ┆ null     ┆ null      ┆ null      │\n",
       "│           ┆ Andreas   ┆ n         ┆           ┆   ┆           ┆          ┆           ┆           │\n",
       "│ 33        ┆ Ingrid    ┆ Geelmuyde ┆ null      ┆ … ┆ null      ┆ null     ┆ null      ┆ null      │\n",
       "│           ┆ Kristine  ┆ n         ┆           ┆   ┆           ┆          ┆           ┆           │\n",
       "│           ┆ Miljeteig ┆           ┆           ┆   ┆           ┆          ┆           ┆           │\n",
       "│ 34        ┆ Ivan      ┆ Geelmuyde ┆ null      ┆ … ┆ null      ┆ null     ┆ null      ┆ null      │\n",
       "│           ┆ Alexander ┆ n         ┆           ┆   ┆           ┆          ┆           ┆           │\n",
       "│ 35        ┆ Knut      ┆ Godø      ┆ null      ┆ … ┆ null      ┆ null     ┆ null      ┆ null      │\n",
       "│ 39        ┆ Håvard    ┆ Halvorsen ┆ null      ┆ … ┆ null      ┆ null     ┆ HAUGESUND ┆ null      │\n",
       "│           ┆ Susaas    ┆           ┆           ┆   ┆           ┆          ┆           ┆           │\n",
       "│ 42        ┆ Sara      ┆ Håland    ┆ null      ┆ … ┆ null      ┆ null     ┆ null      ┆ null      │\n",
       "│           ┆ Sofie     ┆           ┆           ┆   ┆           ┆          ┆           ┆           │\n",
       "│           ┆ Justesen  ┆           ┆           ┆   ┆           ┆          ┆           ┆           │\n",
       "│ 46        ┆ Alvarinn  ┆ Klanderud ┆ null      ┆ … ┆ null      ┆ null     ┆ null      ┆ null      │\n",
       "│           ┆ Martin    ┆           ┆           ┆   ┆           ┆          ┆           ┆           │\n",
       "│ 47        ┆ Oddbjorn  ┆ Klanderud ┆ null      ┆ … ┆ null      ┆ null     ┆ null      ┆ null      │\n",
       "│ 48        ┆ Perolina  ┆ Klanderud ┆ null      ┆ … ┆ null      ┆ null     ┆ null      ┆ null      │\n",
       "│           ┆ K.        ┆           ┆           ┆   ┆           ┆          ┆           ┆           │\n",
       "│ 49        ┆ Gunn-Beri ┆ Kleivelan ┆ null      ┆ … ┆ null      ┆ null     ┆ null      ┆ null      │\n",
       "│           ┆ t         ┆ d         ┆           ┆   ┆           ┆          ┆           ┆           │\n",
       "│ 52        ┆ Anne      ┆ Krohn     ┆ null      ┆ … ┆ null      ┆ null     ┆ null      ┆ null      │\n",
       "│ 53        ┆ Ketil     ┆ Kvam      ┆ null      ┆ … ┆ null      ┆ null     ┆ BERGEN    ┆ null      │\n",
       "│ 54        ┆ Katrine   ┆ Kvandal   ┆ null      ┆ … ┆ null      ┆ null     ┆ BERGEN    ┆ null      │\n",
       "│           ┆ Gabriella ┆           ┆           ┆   ┆           ┆          ┆           ┆           │\n",
       "│ 56        ┆ Rune      ┆ Lilleaas  ┆ null      ┆ … ┆ null      ┆ null     ┆ null      ┆ null      │\n",
       "│ 58        ┆ Johan     ┆ Lindroos  ┆ null      ┆ … ┆ null      ┆ null     ┆ null      ┆ null      │\n",
       "│           ┆ Erik      ┆           ┆           ┆   ┆           ┆          ┆           ┆           │\n",
       "│           ┆ Benjamin  ┆           ┆           ┆   ┆           ┆          ┆           ┆           │\n",
       "│ 59        ┆ Sven Åke  ┆ Lorentsso ┆ null      ┆ … ┆ null      ┆ null     ┆ null      ┆ null      │\n",
       "│           ┆           ┆ n         ┆           ┆   ┆           ┆          ┆           ┆           │\n",
       "│ 61        ┆ Ingrid    ┆ Løvlie    ┆ null      ┆ … ┆ null      ┆ null     ┆ BERGEN    ┆ null      │\n",
       "│ 62        ┆ Siv J.M   ┆ Meiburg   ┆ null      ┆ … ┆ null      ┆ null     ┆ HAUGESUND ┆ 102331005 │\n",
       "│           ┆           ┆           ┆           ┆   ┆           ┆          ┆           ┆ 84        │\n",
       "│ 63        ┆ Guri      ┆ Miljeteig ┆ null      ┆ … ┆ null      ┆ null     ┆ null      ┆ null      │\n",
       "│           ┆ Sejrup    ┆           ┆           ┆   ┆           ┆          ┆           ┆           │\n",
       "│ 64        ┆ Eli       ┆ Moldung   ┆ null      ┆ … ┆ null      ┆ null     ┆ BERGEN    ┆ 101481011 │\n",
       "│           ┆ Vibeke    ┆           ┆           ┆   ┆           ┆          ┆           ┆ 15        │\n",
       "│ 65        ┆ Inger     ┆ Møller-Ho ┆ null      ┆ … ┆ null      ┆ null     ┆ BERGEN    ┆ null      │\n",
       "│           ┆           ┆ lst       ┆           ┆   ┆           ┆          ┆           ┆           │\n",
       "│ 68        ┆ Per       ┆ Odén      ┆ null      ┆ … ┆ null      ┆ null     ┆ null      ┆ null      │\n",
       "│           ┆ Walfrid   ┆           ┆           ┆   ┆           ┆          ┆           ┆           │\n",
       "│ 70        ┆ Priscilla ┆ Overholdt ┆ null      ┆ … ┆ null      ┆ null     ┆ null      ┆ 100071000 │\n",
       "│           ┆           ┆           ┆           ┆   ┆           ┆          ┆           ┆ 59        │\n",
       "│ 71        ┆ Ismael S. ┆ Peladeau  ┆ null      ┆ … ┆ null      ┆ null     ┆ null      ┆ null      │\n",
       "│           ┆ Ulvik     ┆           ┆           ┆   ┆           ┆          ┆           ┆           │\n",
       "│ 72        ┆ Anjo      ┆ Peters    ┆ null      ┆ … ┆ null      ┆ null     ┆ BERGEN    ┆ 102351005 │\n",
       "│           ┆ Johanna   ┆           ┆           ┆   ┆           ┆          ┆           ┆ 90        │\n",
       "│ 73        ┆ Sarah     ┆ Peters    ┆ null      ┆ … ┆ null      ┆ null     ┆ BERGEN    ┆ null      │\n",
       "│           ┆ Maria     ┆           ┆           ┆   ┆           ┆          ┆           ┆           │\n",
       "│ 74        ┆ Kristine  ┆ Petersen  ┆ null      ┆ … ┆ null      ┆ null     ┆ null      ┆ null      │\n",
       "│           ┆ Emilie    ┆           ┆           ┆   ┆           ┆          ┆           ┆           │\n",
       "│ 76        ┆ Inge      ┆ Raknes    ┆ null      ┆ … ┆ null      ┆ null     ┆ null      ┆ 101101003 │\n",
       "│           ┆           ┆           ┆           ┆   ┆           ┆          ┆           ┆ 84        │\n",
       "│ 79        ┆ John      ┆ Rawcliffe ┆ null      ┆ … ┆ null      ┆ null     ┆ VINDAFJOR ┆ 101981014 │\n",
       "│           ┆           ┆           ┆           ┆   ┆           ┆          ┆ D         ┆ 78        │\n",
       "│ 80        ┆ Mark      ┆ Rawcliffe ┆ null      ┆ … ┆ null      ┆ null     ┆ VINDAFJOR ┆ null      │\n",
       "│           ┆ Francis   ┆           ┆           ┆   ┆           ┆          ┆ D         ┆           │\n",
       "│ 81        ┆ Daniele   ┆ Reistad   ┆ null      ┆ … ┆ null      ┆ null     ┆ null      ┆ null      │\n",
       "│ 82        ┆ Ole       ┆ Reistad   ┆ null      ┆ … ┆ null      ┆ null     ┆ null      ┆ 120261024 │\n",
       "│           ┆           ┆           ┆           ┆   ┆           ┆          ┆           ┆ 96        │\n",
       "│ 84        ┆ Ann Inger ┆ Risholm   ┆ null      ┆ … ┆ null      ┆ null     ┆ null      ┆ 120451026 │\n",
       "│           ┆           ┆           ┆           ┆   ┆           ┆          ┆           ┆ 67        │\n",
       "│ 85        ┆ Ingunn    ┆ Roberts   ┆ null      ┆ … ┆ null      ┆ null     ┆ null      ┆ null      │\n",
       "│ 87        ┆ Lillebert ┆ Sandved   ┆ null      ┆ … ┆ null      ┆ null     ┆ HAUGESUND ┆ null      │\n",
       "│           ┆ a         ┆           ┆           ┆   ┆           ┆          ┆           ┆           │\n",
       "│ 88        ┆ Inger     ┆ Selsaas   ┆ null      ┆ … ┆ null      ┆ null     ┆ HAUGESUND ┆ 100061000 │\n",
       "│           ┆ Johanne   ┆           ┆           ┆   ┆           ┆          ┆           ┆ 43        │\n",
       "│ 92        ┆ Marianne  ┆ Solberg   ┆ null      ┆ … ┆ null      ┆ null     ┆ null      ┆ null      │\n",
       "│ 95        ┆ Morten    ┆ Stene     ┆ null      ┆ … ┆ null      ┆ null     ┆ null      ┆ null      │\n",
       "│ 96        ┆ Annette   ┆ Susaas    ┆ null      ┆ … ┆ null      ┆ null     ┆ HAUGESUND ┆ null      │\n",
       "│           ┆ Sofie     ┆           ┆           ┆   ┆           ┆          ┆           ┆           │\n",
       "│ 97        ┆ Audun     ┆ Tellmann  ┆ null      ┆ … ┆ null      ┆ null     ┆ null      ┆ null      │\n",
       "│           ┆ Tobias    ┆           ┆           ┆   ┆           ┆          ┆           ┆           │\n",
       "│ 98        ┆ Vibeke    ┆ Tellmann  ┆ null      ┆ … ┆ null      ┆ null     ┆ null      ┆ null      │\n",
       "│           ┆ Andrea    ┆           ┆           ┆   ┆           ┆          ┆           ┆           │\n",
       "│ 100       ┆ Sissel    ┆ Thalle    ┆ null      ┆ … ┆ null      ┆ null     ┆ null      ┆ null      │\n",
       "│           ┆ Janne     ┆           ┆           ┆   ┆           ┆          ┆           ┆           │\n",
       "│ 102       ┆ Kjersti   ┆ Torp      ┆ null      ┆ … ┆ null      ┆ null     ┆ null      ┆ 100251001 │\n",
       "│           ┆           ┆           ┆           ┆   ┆           ┆          ┆           ┆ 31        │\n",
       "│ 103       ┆ Mette     ┆ Wernøe    ┆ null      ┆ … ┆ null      ┆ null     ┆ BERGEN    ┆ 120491026 │\n",
       "│           ┆           ┆           ┆           ┆   ┆           ┆          ┆           ┆ 97        │\n",
       "│ 104       ┆ Josefin   ┆ Winther   ┆ null      ┆ … ┆ null      ┆ null     ┆ null      ┆ null      │\n",
       "│           ┆ Thorbjørn ┆           ┆           ┆   ┆           ┆          ┆           ┆           │\n",
       "│           ┆ sen       ┆           ┆           ┆   ┆           ┆          ┆           ┆           │\n",
       "│ 105       ┆ Kristoffe ┆ Wüthrich  ┆ null      ┆ … ┆ null      ┆ null     ┆ ØLEN      ┆ null      │\n",
       "│           ┆ r Nikolai ┆           ┆           ┆   ┆           ┆          ┆           ┆           │\n",
       "│ 106       ┆ Ole Veste ┆ Wüthrich  ┆ null      ┆ … ┆ null      ┆ null     ┆ ØLEN      ┆ null      │\n",
       "│           ┆ rgaard    ┆           ┆           ┆   ┆           ┆          ┆           ┆           │\n",
       "│ 107       ┆ Henning   ┆ Økland    ┆ null      ┆ … ┆ null      ┆ null     ┆ null      ┆ null      │\n",
       "│ 108       ┆ Hildegunn ┆ Aadland   ┆ null      ┆ … ┆ null      ┆ null     ┆ BERGEN    ┆ 120711028 │\n",
       "│           ┆           ┆           ┆           ┆   ┆           ┆          ┆           ┆ 47        │\n",
       "│ 109       ┆ Aida      ┆ Aaholm    ┆ null      ┆ … ┆ null      ┆ null     ┆ HAUGESUND ┆ null      │\n",
       "│           ┆ Sophie    ┆           ┆           ┆   ┆           ┆          ┆           ┆           │\n",
       "│           ┆ Meiburg   ┆           ┆           ┆   ┆           ┆          ┆           ┆           │\n",
       "│ 110       ┆ Hannah    ┆ Aaholm    ┆ null      ┆ … ┆ null      ┆ null     ┆ HAUGESUND ┆ null      │\n",
       "│           ┆ Julia     ┆           ┆           ┆   ┆           ┆          ┆           ┆           │\n",
       "│           ┆ Meiburg   ┆           ┆           ┆   ┆           ┆          ┆           ┆           │\n",
       "│ 111       ┆ Kari      ┆ Berger    ┆ null      ┆ … ┆ null      ┆ null     ┆ null      ┆ 101131004 │\n",
       "│           ┆           ┆           ┆           ┆   ┆           ┆          ┆           ┆ 07        │\n",
       "│ 111       ┆ Kari Anna ┆ Berger    ┆ null      ┆ … ┆ null      ┆ null     ┆ null      ┆ 101131004 │\n",
       "│           ┆           ┆           ┆           ┆   ┆           ┆          ┆           ┆ 07        │\n",
       "│ 112       ┆ Lisbeth   ┆ Sunde     ┆ null      ┆ … ┆ null      ┆ null     ┆ null      ┆ null      │\n",
       "│ 112       ┆ Lisbeth   ┆ Sundt     ┆ null      ┆ … ┆ null      ┆ null     ┆ BERGEN    ┆ 101001003 │\n",
       "│           ┆           ┆           ┆           ┆   ┆           ┆          ┆           ┆ 78        │\n",
       "└───────────┴───────────┴───────────┴───────────┴───┴───────────┴──────────┴───────────┴───────────┘"
      ]
     },
     "execution_count": 13,
     "metadata": {},
     "output_type": "execute_result"
    }
   ],
   "source": [
    "\n",
    "df_combined_duplicates_bergen =(\n",
    "    df_combined_duplicates.join(df_bergen,\n",
    "                    on=\"MedlemID\",\n",
    "                    how=\"inner\"\n",
    "    ).sort(\"fuzzy_group\")\n",
    ")\n",
    "df_combined_duplicates_bergen"
   ]
  },
  {
   "cell_type": "code",
   "execution_count": null,
   "id": "8663693f-8cbb-476d-a8e3-54e79d4f4ca7",
   "metadata": {},
   "outputs": [],
   "source": []
  },
  {
   "cell_type": "code",
   "execution_count": 14,
   "id": "d350c3fb-d7f2-4d69-b96e-4131240c34a8",
   "metadata": {},
   "outputs": [],
   "source": [
    "'''\n",
    "7. Skriver ut listen over dubletter til fil. Denne filen skal behandles manuelt. Kollonner skal redigeres. Bruk sunn fornuft og velg data fra den dubletten som er mest mulig up to date. Det er som regel de som har post utsending, eller er medlemmer.\n",
    "\t1. Slett der det er mer en 2 forekomster\n",
    "\t2. Rette på navn, slik at det blir likt mellom dubletter, også mellomnavn\n",
    "\t3. Dersom det er fødselsnummer på en av dublettene, så kopieres dette over på den andre\n",
    "\t4. Skriv inn medlemsnummer og Cornerstone ID på begge forekomster, der det mangler.\n",
    "\t5. Denne listen skal brukes ved konverteringen.\n",
    "'''\n",
    "#df_combined_duplicates.write_excel(\"DubletterOsloBergen.xlsx\")"
   ]
  },
  {
   "cell_type": "code",
   "execution_count": null,
   "id": "9ecb8a78-332a-415c-8fec-5aa0b3bf0b5f",
   "metadata": {},
   "outputs": [],
   "source": []
  }
 ],
 "metadata": {
  "kernelspec": {
   "display_name": "Python 3 (ipykernel)",
   "language": "python",
   "name": "python3"
  },
  "language_info": {
   "codemirror_mode": {
    "name": "ipython",
    "version": 3
   },
   "file_extension": ".py",
   "mimetype": "text/x-python",
   "name": "python",
   "nbconvert_exporter": "python",
   "pygments_lexer": "ipython3",
   "version": "3.11.2"
  }
 },
 "nbformat": 4,
 "nbformat_minor": 5
}
